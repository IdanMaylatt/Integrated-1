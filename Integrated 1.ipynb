{
 "cells": [
  {
   "cell_type": "markdown",
   "id": "8d85280b",
   "metadata": {},
   "source": [
    "<title>HTML Elements Reference</title>"
   ]
  },
  {
   "cell_type": "markdown",
   "id": "44f64cea",
   "metadata": {},
   "source": [
    "<center style='font-size:28px;'><u><b>Game Sales Analysis</b></u></center>"
   ]
  },
  {
   "cell_type": "markdown",
   "id": "6a07abd8",
   "metadata": {},
   "source": [
    "# Description"
   ]
  },
  {
   "cell_type": "markdown",
   "id": "45b7812a",
   "metadata": {},
   "source": [
    "Ice online store sells video games all over the world. User and expert reviews, genres, platforms (e.g. Xbox or PlayStation), and historical data on game sales are available from open sources. This analysis aims to identify patterns that determine whether a game succeeds or not. This will allow to spot potential big winners and plan advertising campaigns.\n",
    "\n",
    "- Central purpose of this analysis is to forecast 2017 most profitable games.\n",
    "- Data for 2016 may be incomplete"
   ]
  },
  {
   "cell_type": "markdown",
   "id": "dfa134af",
   "metadata": {},
   "source": [
    "# Importing"
   ]
  },
  {
   "cell_type": "code",
   "execution_count": 1,
   "id": "2368a78e",
   "metadata": {},
   "outputs": [],
   "source": [
    "import pandas as pd\n",
    "import numpy as np\n",
    "from scipy import stats as st\n",
    "from functools import reduce\n",
    "import matplotlib.pyplot as plt\n",
    "import seaborn as sns"
   ]
  },
  {
   "cell_type": "markdown",
   "id": "df7db4b0",
   "metadata": {},
   "source": [
    "# Reading file"
   ]
  },
  {
   "cell_type": "code",
   "execution_count": 2,
   "id": "d66d6d35",
   "metadata": {},
   "outputs": [],
   "source": [
    "try:\n",
    "    games = pd.read_csv('games.csv')\n",
    "except:\n",
    "    games = pd.read_csv('https://code.s3.yandex.net/datasets/games.csv')"
   ]
  },
  {
   "cell_type": "code",
   "execution_count": 3,
   "id": "4575cb00",
   "metadata": {},
   "outputs": [
    {
     "name": "stdout",
     "output_type": "stream",
     "text": [
      "<class 'pandas.core.frame.DataFrame'>\n",
      "RangeIndex: 16715 entries, 0 to 16714\n",
      "Data columns (total 11 columns):\n",
      " #   Column           Non-Null Count  Dtype  \n",
      "---  ------           --------------  -----  \n",
      " 0   Name             16713 non-null  object \n",
      " 1   Platform         16715 non-null  object \n",
      " 2   Year_of_Release  16446 non-null  float64\n",
      " 3   Genre            16713 non-null  object \n",
      " 4   NA_sales         16715 non-null  float64\n",
      " 5   EU_sales         16715 non-null  float64\n",
      " 6   JP_sales         16715 non-null  float64\n",
      " 7   Other_sales      16715 non-null  float64\n",
      " 8   Critic_Score     8137 non-null   float64\n",
      " 9   User_Score       10014 non-null  object \n",
      " 10  Rating           9949 non-null   object \n",
      "dtypes: float64(6), object(5)\n",
      "memory usage: 1.4+ MB\n"
     ]
    }
   ],
   "source": [
    "games.info()"
   ]
  },
  {
   "cell_type": "markdown",
   "id": "ce774a89",
   "metadata": {},
   "source": [
    "Some columns contain missing values"
   ]
  },
  {
   "cell_type": "code",
   "execution_count": 4,
   "id": "e641d753",
   "metadata": {},
   "outputs": [
    {
     "data": {
      "text/html": [
       "<div>\n",
       "<style scoped>\n",
       "    .dataframe tbody tr th:only-of-type {\n",
       "        vertical-align: middle;\n",
       "    }\n",
       "\n",
       "    .dataframe tbody tr th {\n",
       "        vertical-align: top;\n",
       "    }\n",
       "\n",
       "    .dataframe thead th {\n",
       "        text-align: right;\n",
       "    }\n",
       "</style>\n",
       "<table border=\"1\" class=\"dataframe\">\n",
       "  <thead>\n",
       "    <tr style=\"text-align: right;\">\n",
       "      <th></th>\n",
       "      <th>Name</th>\n",
       "      <th>Platform</th>\n",
       "      <th>Year_of_Release</th>\n",
       "      <th>Genre</th>\n",
       "      <th>NA_sales</th>\n",
       "      <th>EU_sales</th>\n",
       "      <th>JP_sales</th>\n",
       "      <th>Other_sales</th>\n",
       "      <th>Critic_Score</th>\n",
       "      <th>User_Score</th>\n",
       "      <th>Rating</th>\n",
       "    </tr>\n",
       "  </thead>\n",
       "  <tbody>\n",
       "    <tr>\n",
       "      <th>0</th>\n",
       "      <td>Wii Sports</td>\n",
       "      <td>Wii</td>\n",
       "      <td>2006.0</td>\n",
       "      <td>Sports</td>\n",
       "      <td>41.36</td>\n",
       "      <td>28.96</td>\n",
       "      <td>3.77</td>\n",
       "      <td>8.45</td>\n",
       "      <td>76.0</td>\n",
       "      <td>8</td>\n",
       "      <td>E</td>\n",
       "    </tr>\n",
       "    <tr>\n",
       "      <th>1</th>\n",
       "      <td>Super Mario Bros.</td>\n",
       "      <td>NES</td>\n",
       "      <td>1985.0</td>\n",
       "      <td>Platform</td>\n",
       "      <td>29.08</td>\n",
       "      <td>3.58</td>\n",
       "      <td>6.81</td>\n",
       "      <td>0.77</td>\n",
       "      <td>NaN</td>\n",
       "      <td>NaN</td>\n",
       "      <td>NaN</td>\n",
       "    </tr>\n",
       "    <tr>\n",
       "      <th>2</th>\n",
       "      <td>Mario Kart Wii</td>\n",
       "      <td>Wii</td>\n",
       "      <td>2008.0</td>\n",
       "      <td>Racing</td>\n",
       "      <td>15.68</td>\n",
       "      <td>12.76</td>\n",
       "      <td>3.79</td>\n",
       "      <td>3.29</td>\n",
       "      <td>82.0</td>\n",
       "      <td>8.3</td>\n",
       "      <td>E</td>\n",
       "    </tr>\n",
       "    <tr>\n",
       "      <th>3</th>\n",
       "      <td>Wii Sports Resort</td>\n",
       "      <td>Wii</td>\n",
       "      <td>2009.0</td>\n",
       "      <td>Sports</td>\n",
       "      <td>15.61</td>\n",
       "      <td>10.93</td>\n",
       "      <td>3.28</td>\n",
       "      <td>2.95</td>\n",
       "      <td>80.0</td>\n",
       "      <td>8</td>\n",
       "      <td>E</td>\n",
       "    </tr>\n",
       "    <tr>\n",
       "      <th>4</th>\n",
       "      <td>Pokemon Red/Pokemon Blue</td>\n",
       "      <td>GB</td>\n",
       "      <td>1996.0</td>\n",
       "      <td>Role-Playing</td>\n",
       "      <td>11.27</td>\n",
       "      <td>8.89</td>\n",
       "      <td>10.22</td>\n",
       "      <td>1.00</td>\n",
       "      <td>NaN</td>\n",
       "      <td>NaN</td>\n",
       "      <td>NaN</td>\n",
       "    </tr>\n",
       "  </tbody>\n",
       "</table>\n",
       "</div>"
      ],
      "text/plain": [
       "                       Name Platform  Year_of_Release         Genre  NA_sales  \\\n",
       "0                Wii Sports      Wii           2006.0        Sports     41.36   \n",
       "1         Super Mario Bros.      NES           1985.0      Platform     29.08   \n",
       "2            Mario Kart Wii      Wii           2008.0        Racing     15.68   \n",
       "3         Wii Sports Resort      Wii           2009.0        Sports     15.61   \n",
       "4  Pokemon Red/Pokemon Blue       GB           1996.0  Role-Playing     11.27   \n",
       "\n",
       "   EU_sales  JP_sales  Other_sales  Critic_Score User_Score Rating  \n",
       "0     28.96      3.77         8.45          76.0          8      E  \n",
       "1      3.58      6.81         0.77           NaN        NaN    NaN  \n",
       "2     12.76      3.79         3.29          82.0        8.3      E  \n",
       "3     10.93      3.28         2.95          80.0          8      E  \n",
       "4      8.89     10.22         1.00           NaN        NaN    NaN  "
      ]
     },
     "execution_count": 4,
     "metadata": {},
     "output_type": "execute_result"
    }
   ],
   "source": [
    "games.head()"
   ]
  },
  {
   "cell_type": "markdown",
   "id": "ee497274",
   "metadata": {},
   "source": [
    "# Pre-processing"
   ]
  },
  {
   "cell_type": "code",
   "execution_count": 5,
   "id": "b2d99f2e",
   "metadata": {},
   "outputs": [],
   "source": [
    "games.columns = games.columns.str.lower() #easier like this"
   ]
  },
  {
   "cell_type": "code",
   "execution_count": 6,
   "id": "20d41cba",
   "metadata": {},
   "outputs": [],
   "source": [
    "games.name = games.name.astype('string')"
   ]
  },
  {
   "cell_type": "code",
   "execution_count": 7,
   "id": "db30291d",
   "metadata": {},
   "outputs": [],
   "source": [
    "games.platform = games.platform.astype('string')"
   ]
  },
  {
   "cell_type": "code",
   "execution_count": 8,
   "id": "800f4ae4",
   "metadata": {},
   "outputs": [],
   "source": [
    "games.genre = games.genre.astype('string')"
   ]
  },
  {
   "cell_type": "markdown",
   "id": "730535ba",
   "metadata": {},
   "source": [
    "`Year_of_Release` is always an integer, so it should have an int type. Because its float at present, and containing Nan's, it must be filled before casting:"
   ]
  },
  {
   "cell_type": "code",
   "execution_count": 9,
   "id": "52f5efbd",
   "metadata": {},
   "outputs": [],
   "source": [
    "games.year_of_release = games.year_of_release.fillna(0).astype('int64')\n",
    "games.rename(columns={'year_of_release': 'year'}, inplace=True) # easier to deal with"
   ]
  },
  {
   "cell_type": "markdown",
   "id": "5ac29eaa",
   "metadata": {},
   "source": [
    "- 'Nan' VALUES ARE NOW SET TO 0"
   ]
  },
  {
   "cell_type": "code",
   "execution_count": 10,
   "id": "b128d900",
   "metadata": {},
   "outputs": [
    {
     "data": {
      "text/plain": [
       "0.0    8137\n",
       "Name: critic_score, dtype: int64"
      ]
     },
     "execution_count": 10,
     "metadata": {},
     "output_type": "execute_result"
    }
   ],
   "source": [
    "tmp = np.floor(games.critic_score)\n",
    "games['critic_score'] -= tmp\n",
    "games.critic_score.value_counts()"
   ]
  },
  {
   "cell_type": "markdown",
   "id": "ce61f5d8",
   "metadata": {},
   "source": [
    "Its all integers. As before, its a floats column containing Nan's, so filling is needed before casting. 0 is a possible score, so to not confuse between the two, Nan's will be filled with -1."
   ]
  },
  {
   "cell_type": "code",
   "execution_count": 11,
   "id": "0cb3adbb",
   "metadata": {},
   "outputs": [],
   "source": [
    "games.critic_score += tmp # before that line the column was zeroed because of the latter cell\n",
    "games.critic_score = games.critic_score.fillna(-1).astype('int64')"
   ]
  },
  {
   "cell_type": "markdown",
   "id": "9b724264",
   "metadata": {},
   "source": [
    "- 'Nan' VALUES ARE NOW SET TO -1"
   ]
  },
  {
   "cell_type": "markdown",
   "id": "2d4527ed",
   "metadata": {},
   "source": [
    "### `user_score`"
   ]
  },
  {
   "cell_type": "code",
   "execution_count": 12,
   "id": "8733c4d1",
   "metadata": {},
   "outputs": [
    {
     "data": {
      "text/plain": [
       "tbd    2424\n",
       "7.8     324\n",
       "8       290\n",
       "8.2     282\n",
       "8.3     254\n",
       "       ... \n",
       "0.3       2\n",
       "1.3       2\n",
       "1.1       2\n",
       "0         1\n",
       "9.7       1\n",
       "Name: user_score, Length: 96, dtype: int64"
      ]
     },
     "execution_count": 12,
     "metadata": {},
     "output_type": "execute_result"
    }
   ],
   "source": [
    "games.user_score.value_counts()"
   ]
  },
  {
   "cell_type": "markdown",
   "id": "17a484a5",
   "metadata": {},
   "source": [
    "There are a lot of 'tbd' values - about 25% of all user scores that are not Nan's.\n",
    "For easier analysis, its better `user_score` will consist of floats. So, tbd's will be replaced by -1. `user_score` varies between 0 to 10 so it should not interfere."
   ]
  },
  {
   "cell_type": "code",
   "execution_count": 13,
   "id": "b2da7221",
   "metadata": {},
   "outputs": [
    {
     "data": {
      "text/plain": [
       "0"
      ]
     },
     "execution_count": 13,
     "metadata": {},
     "output_type": "execute_result"
    }
   ],
   "source": [
    "len(games[games['user_score'] == -1]) # making sure -1 is \"clear\""
   ]
  },
  {
   "cell_type": "markdown",
   "id": "9fe6cda6",
   "metadata": {},
   "source": [
    "Free for use"
   ]
  },
  {
   "cell_type": "code",
   "execution_count": 14,
   "id": "5a3c6959",
   "metadata": {},
   "outputs": [],
   "source": [
    "games.loc[games['user_score'] == 'tbd','user_score'] = -1 # changing tbd's to -1\n",
    "games.user_score = games.user_score.astype('float64') # it represents a float anyway"
   ]
  },
  {
   "cell_type": "markdown",
   "id": "192e6069",
   "metadata": {},
   "source": [
    "- NOW 'TBD' VALUES ARE SET TO -1. NAN's STILL PRESENT"
   ]
  },
  {
   "cell_type": "markdown",
   "id": "14b27d08",
   "metadata": {},
   "source": [
    "### `rating`"
   ]
  },
  {
   "cell_type": "code",
   "execution_count": 15,
   "id": "7a4b15df",
   "metadata": {},
   "outputs": [
    {
     "data": {
      "text/plain": [
       "E       3990\n",
       "T       2961\n",
       "M       1563\n",
       "E10+    1420\n",
       "EC         8\n",
       "K-A        3\n",
       "RP         3\n",
       "AO         1\n",
       "Name: rating, dtype: int64"
      ]
     },
     "execution_count": 15,
     "metadata": {},
     "output_type": "execute_result"
    }
   ],
   "source": [
    "games.rating.value_counts()"
   ]
  },
  {
   "cell_type": "code",
   "execution_count": 16,
   "id": "2a790b1b",
   "metadata": {},
   "outputs": [],
   "source": [
    "games.rating = games.rating.astype('str') #its strings anyway"
   ]
  },
  {
   "cell_type": "code",
   "execution_count": 17,
   "id": "101b02b0",
   "metadata": {},
   "outputs": [
    {
     "name": "stdout",
     "output_type": "stream",
     "text": [
      "<class 'pandas.core.frame.DataFrame'>\n",
      "RangeIndex: 16715 entries, 0 to 16714\n",
      "Data columns (total 11 columns):\n",
      " #   Column        Non-Null Count  Dtype  \n",
      "---  ------        --------------  -----  \n",
      " 0   name          16713 non-null  string \n",
      " 1   platform      16715 non-null  string \n",
      " 2   year          16715 non-null  int64  \n",
      " 3   genre         16713 non-null  string \n",
      " 4   na_sales      16715 non-null  float64\n",
      " 5   eu_sales      16715 non-null  float64\n",
      " 6   jp_sales      16715 non-null  float64\n",
      " 7   other_sales   16715 non-null  float64\n",
      " 8   critic_score  16715 non-null  int64  \n",
      " 9   user_score    10014 non-null  float64\n",
      " 10  rating        16715 non-null  object \n",
      "dtypes: float64(5), int64(2), object(1), string(3)\n",
      "memory usage: 1.4+ MB\n"
     ]
    }
   ],
   "source": [
    "games.info()"
   ]
  },
  {
   "cell_type": "markdown",
   "id": "713e8b38",
   "metadata": {},
   "source": [
    "<div style=\"font-size:20px;\">Now all data types are properly set. <b style=\"color:red;\">However, the presence of 0 in year_of_release and -1 in critic_score instead of Nan's, and the presence of -1 in user_score instead of tbd's should not be forgotten</b></div>"
   ]
  },
  {
   "cell_type": "markdown",
   "id": "0e418236",
   "metadata": {},
   "source": [
    "## Duplicates"
   ]
  },
  {
   "cell_type": "code",
   "execution_count": 18,
   "id": "be12280e",
   "metadata": {},
   "outputs": [
    {
     "data": {
      "text/plain": [
       "0"
      ]
     },
     "execution_count": 18,
     "metadata": {},
     "output_type": "execute_result"
    }
   ],
   "source": [
    "games.duplicated().sum()"
   ]
  },
  {
   "cell_type": "markdown",
   "id": "9dd529c5",
   "metadata": {},
   "source": [
    "<div style=\"font-size:20px;\">Its all good</div>"
   ]
  },
  {
   "cell_type": "markdown",
   "id": "4cc5399b",
   "metadata": {},
   "source": [
    "## Dealing with missing values"
   ]
  },
  {
   "cell_type": "code",
   "execution_count": 19,
   "id": "f1dc208a",
   "metadata": {},
   "outputs": [
    {
     "data": {
      "text/html": [
       "<div>\n",
       "<style scoped>\n",
       "    .dataframe tbody tr th:only-of-type {\n",
       "        vertical-align: middle;\n",
       "    }\n",
       "\n",
       "    .dataframe tbody tr th {\n",
       "        vertical-align: top;\n",
       "    }\n",
       "\n",
       "    .dataframe thead th {\n",
       "        text-align: right;\n",
       "    }\n",
       "</style>\n",
       "<table border=\"1\" class=\"dataframe\">\n",
       "  <thead>\n",
       "    <tr style=\"text-align: right;\">\n",
       "      <th></th>\n",
       "      <th>missing_values</th>\n",
       "      <th>%</th>\n",
       "    </tr>\n",
       "  </thead>\n",
       "  <tbody>\n",
       "    <tr>\n",
       "      <th>user_score</th>\n",
       "      <td>6701</td>\n",
       "      <td>0.401</td>\n",
       "    </tr>\n",
       "    <tr>\n",
       "      <th>name</th>\n",
       "      <td>2</td>\n",
       "      <td>0.000</td>\n",
       "    </tr>\n",
       "    <tr>\n",
       "      <th>platform</th>\n",
       "      <td>0</td>\n",
       "      <td>0.000</td>\n",
       "    </tr>\n",
       "    <tr>\n",
       "      <th>year</th>\n",
       "      <td>0</td>\n",
       "      <td>0.000</td>\n",
       "    </tr>\n",
       "    <tr>\n",
       "      <th>genre</th>\n",
       "      <td>2</td>\n",
       "      <td>0.000</td>\n",
       "    </tr>\n",
       "    <tr>\n",
       "      <th>na_sales</th>\n",
       "      <td>0</td>\n",
       "      <td>0.000</td>\n",
       "    </tr>\n",
       "    <tr>\n",
       "      <th>eu_sales</th>\n",
       "      <td>0</td>\n",
       "      <td>0.000</td>\n",
       "    </tr>\n",
       "    <tr>\n",
       "      <th>jp_sales</th>\n",
       "      <td>0</td>\n",
       "      <td>0.000</td>\n",
       "    </tr>\n",
       "    <tr>\n",
       "      <th>other_sales</th>\n",
       "      <td>0</td>\n",
       "      <td>0.000</td>\n",
       "    </tr>\n",
       "    <tr>\n",
       "      <th>critic_score</th>\n",
       "      <td>0</td>\n",
       "      <td>0.000</td>\n",
       "    </tr>\n",
       "    <tr>\n",
       "      <th>rating</th>\n",
       "      <td>0</td>\n",
       "      <td>0.000</td>\n",
       "    </tr>\n",
       "  </tbody>\n",
       "</table>\n",
       "</div>"
      ],
      "text/plain": [
       "              missing_values      %\n",
       "user_score              6701  0.401\n",
       "name                       2  0.000\n",
       "platform                   0  0.000\n",
       "year                       0  0.000\n",
       "genre                      2  0.000\n",
       "na_sales                   0  0.000\n",
       "eu_sales                   0  0.000\n",
       "jp_sales                   0  0.000\n",
       "other_sales                0  0.000\n",
       "critic_score               0  0.000\n",
       "rating                     0  0.000"
      ]
     },
     "execution_count": 19,
     "metadata": {},
     "output_type": "execute_result"
    }
   ],
   "source": [
    "games.isnull().sum()/len(games)\n",
    "\n",
    "mis_values = games.isnull().sum().to_frame('missing_values')\n",
    "mis_values['%'] = round(games.isnull().sum()/len(games),3)\n",
    "mis_values.sort_values(by='%', ascending=False)"
   ]
  },
  {
   "cell_type": "markdown",
   "id": "b3e3837d",
   "metadata": {},
   "source": [
    "### 'name' and 'genre' missing values"
   ]
  },
  {
   "cell_type": "code",
   "execution_count": 20,
   "id": "84a6838f",
   "metadata": {},
   "outputs": [
    {
     "data": {
      "text/html": [
       "<div>\n",
       "<style scoped>\n",
       "    .dataframe tbody tr th:only-of-type {\n",
       "        vertical-align: middle;\n",
       "    }\n",
       "\n",
       "    .dataframe tbody tr th {\n",
       "        vertical-align: top;\n",
       "    }\n",
       "\n",
       "    .dataframe thead th {\n",
       "        text-align: right;\n",
       "    }\n",
       "</style>\n",
       "<table border=\"1\" class=\"dataframe\">\n",
       "  <thead>\n",
       "    <tr style=\"text-align: right;\">\n",
       "      <th></th>\n",
       "      <th>name</th>\n",
       "      <th>platform</th>\n",
       "      <th>year</th>\n",
       "      <th>genre</th>\n",
       "      <th>na_sales</th>\n",
       "      <th>eu_sales</th>\n",
       "      <th>jp_sales</th>\n",
       "      <th>other_sales</th>\n",
       "      <th>critic_score</th>\n",
       "      <th>user_score</th>\n",
       "      <th>rating</th>\n",
       "    </tr>\n",
       "  </thead>\n",
       "  <tbody>\n",
       "    <tr>\n",
       "      <th>659</th>\n",
       "      <td>&lt;NA&gt;</td>\n",
       "      <td>GEN</td>\n",
       "      <td>1993</td>\n",
       "      <td>&lt;NA&gt;</td>\n",
       "      <td>1.78</td>\n",
       "      <td>0.53</td>\n",
       "      <td>0.00</td>\n",
       "      <td>0.08</td>\n",
       "      <td>-1</td>\n",
       "      <td>NaN</td>\n",
       "      <td>nan</td>\n",
       "    </tr>\n",
       "    <tr>\n",
       "      <th>14244</th>\n",
       "      <td>&lt;NA&gt;</td>\n",
       "      <td>GEN</td>\n",
       "      <td>1993</td>\n",
       "      <td>&lt;NA&gt;</td>\n",
       "      <td>0.00</td>\n",
       "      <td>0.00</td>\n",
       "      <td>0.03</td>\n",
       "      <td>0.00</td>\n",
       "      <td>-1</td>\n",
       "      <td>NaN</td>\n",
       "      <td>nan</td>\n",
       "    </tr>\n",
       "  </tbody>\n",
       "</table>\n",
       "</div>"
      ],
      "text/plain": [
       "       name platform  year genre  na_sales  eu_sales  jp_sales  other_sales  \\\n",
       "659    <NA>      GEN  1993  <NA>      1.78      0.53      0.00         0.08   \n",
       "14244  <NA>      GEN  1993  <NA>      0.00      0.00      0.03         0.00   \n",
       "\n",
       "       critic_score  user_score rating  \n",
       "659              -1         NaN    nan  \n",
       "14244            -1         NaN    nan  "
      ]
     },
     "execution_count": 20,
     "metadata": {},
     "output_type": "execute_result"
    }
   ],
   "source": [
    "games[games['name'].isna()]"
   ]
  },
  {
   "cell_type": "code",
   "execution_count": 21,
   "id": "e0f79a6e",
   "metadata": {},
   "outputs": [
    {
     "data": {
      "text/html": [
       "<div>\n",
       "<style scoped>\n",
       "    .dataframe tbody tr th:only-of-type {\n",
       "        vertical-align: middle;\n",
       "    }\n",
       "\n",
       "    .dataframe tbody tr th {\n",
       "        vertical-align: top;\n",
       "    }\n",
       "\n",
       "    .dataframe thead th {\n",
       "        text-align: right;\n",
       "    }\n",
       "</style>\n",
       "<table border=\"1\" class=\"dataframe\">\n",
       "  <thead>\n",
       "    <tr style=\"text-align: right;\">\n",
       "      <th></th>\n",
       "      <th>name</th>\n",
       "      <th>platform</th>\n",
       "      <th>year</th>\n",
       "      <th>genre</th>\n",
       "      <th>na_sales</th>\n",
       "      <th>eu_sales</th>\n",
       "      <th>jp_sales</th>\n",
       "      <th>other_sales</th>\n",
       "      <th>critic_score</th>\n",
       "      <th>user_score</th>\n",
       "      <th>rating</th>\n",
       "    </tr>\n",
       "  </thead>\n",
       "  <tbody>\n",
       "    <tr>\n",
       "      <th>659</th>\n",
       "      <td>&lt;NA&gt;</td>\n",
       "      <td>GEN</td>\n",
       "      <td>1993</td>\n",
       "      <td>&lt;NA&gt;</td>\n",
       "      <td>1.78</td>\n",
       "      <td>0.53</td>\n",
       "      <td>0.00</td>\n",
       "      <td>0.08</td>\n",
       "      <td>-1</td>\n",
       "      <td>NaN</td>\n",
       "      <td>nan</td>\n",
       "    </tr>\n",
       "    <tr>\n",
       "      <th>14244</th>\n",
       "      <td>&lt;NA&gt;</td>\n",
       "      <td>GEN</td>\n",
       "      <td>1993</td>\n",
       "      <td>&lt;NA&gt;</td>\n",
       "      <td>0.00</td>\n",
       "      <td>0.00</td>\n",
       "      <td>0.03</td>\n",
       "      <td>0.00</td>\n",
       "      <td>-1</td>\n",
       "      <td>NaN</td>\n",
       "      <td>nan</td>\n",
       "    </tr>\n",
       "  </tbody>\n",
       "</table>\n",
       "</div>"
      ],
      "text/plain": [
       "       name platform  year genre  na_sales  eu_sales  jp_sales  other_sales  \\\n",
       "659    <NA>      GEN  1993  <NA>      1.78      0.53      0.00         0.08   \n",
       "14244  <NA>      GEN  1993  <NA>      0.00      0.00      0.03         0.00   \n",
       "\n",
       "       critic_score  user_score rating  \n",
       "659              -1         NaN    nan  \n",
       "14244            -1         NaN    nan  "
      ]
     },
     "execution_count": 21,
     "metadata": {},
     "output_type": "execute_result"
    }
   ],
   "source": [
    "games[games['genre'].isna()]"
   ]
  },
  {
   "cell_type": "markdown",
   "id": "f653a10b",
   "metadata": {},
   "source": [
    "<div style=\"font-size:20px;\">So 'name' and 'genre' missing values are on the same rows. For both, sales are very low, ratings and scores are missing, and platform and year are the same: GEN and 1993. A sub purpose of this analysis is to find a relation between year and platform, to sales. Those problematic rows are important - they're both the same (for year, platform and sales) so their importance is doubled</div>"
   ]
  },
  {
   "cell_type": "code",
   "execution_count": 22,
   "id": "739b5399",
   "metadata": {},
   "outputs": [
    {
     "name": "stdout",
     "output_type": "stream",
     "text": [
      "Total games in 1993 - 62\n",
      "Proportion of games from 1993 - 0.003769913656816247\n"
     ]
    }
   ],
   "source": [
    "tmp1993 = games.year.value_counts()[1993]\n",
    "print(f'Total games in 1993 - {tmp1993}')\n",
    "\n",
    "tmpna = len(games[games['year'] == 0])\n",
    "tmptotal =len(games.year)\n",
    "print(f'Proportion of games from 1993 - {tmp1993 / (tmptotal - tmpna)}')"
   ]
  },
  {
   "cell_type": "markdown",
   "id": "e44391b0",
   "metadata": {},
   "source": [
    "<div style=\"font-size:20px;\">That's not a big portion for 1993 in total games - 0.3%. So, disregarding 2 rows will make a relatively big impact on the analysis results (who concern 1993) - There are'nt many games released in 1993, so each one of them has a bigger significance</div>"
   ]
  },
  {
   "cell_type": "code",
   "execution_count": 23,
   "id": "86b35fe0",
   "metadata": {},
   "outputs": [
    {
     "name": "stdout",
     "output_type": "stream",
     "text": [
      "Total games for GEN - 29\n",
      "Proportion of games for GEN platform - 0.001734968591085851\n"
     ]
    }
   ],
   "source": [
    "tmpGEN = games.platform.value_counts()['GEN']\n",
    "print(f'Total games for GEN - {tmpGEN}')\n",
    "\n",
    "tmpna = games.platform.isna().sum()\n",
    "tmptotal =len(games.platform)\n",
    "print(f'Proportion of games for GEN platform - {tmpGEN / (tmptotal - tmpna)}')"
   ]
  },
  {
   "cell_type": "markdown",
   "id": "64f33f63",
   "metadata": {},
   "source": [
    "<div style=\"font-size:20px;\">Again, that's not a lot of games for the GEN platform, so disregarding 2 rows will make a relatively big impact on the relevant analysis results.</div>"
   ]
  },
  {
   "cell_type": "markdown",
   "id": "1b3c68cd",
   "metadata": {},
   "source": [
    "<div style=\"font-size:20px;\"><b>So, its better <b style=\"color:red;\">not</b> to fill 'name' and 'genre' columns.</b></div> "
   ]
  },
  {
   "cell_type": "markdown",
   "id": "584251c7",
   "metadata": {},
   "source": [
    "### 'year' missing values"
   ]
  },
  {
   "cell_type": "code",
   "execution_count": 24,
   "id": "7c258640",
   "metadata": {},
   "outputs": [
    {
     "data": {
      "text/plain": [
       "0        269\n",
       "1980       9\n",
       "1981      46\n",
       "1982      36\n",
       "1983      17\n",
       "1984      14\n",
       "1985      14\n",
       "1986      21\n",
       "1987      16\n",
       "1988      15\n",
       "1989      17\n",
       "1990      16\n",
       "1991      41\n",
       "1992      43\n",
       "1993      62\n",
       "1994     121\n",
       "1995     219\n",
       "1996     263\n",
       "1997     289\n",
       "1998     379\n",
       "1999     338\n",
       "2000     350\n",
       "2001     482\n",
       "2002     829\n",
       "2003     775\n",
       "2004     762\n",
       "2005     939\n",
       "2006    1006\n",
       "2007    1197\n",
       "2008    1427\n",
       "2009    1426\n",
       "2010    1255\n",
       "2011    1136\n",
       "2012     653\n",
       "2013     544\n",
       "2014     581\n",
       "2015     606\n",
       "2016     502\n",
       "Name: year, dtype: int64"
      ]
     },
     "execution_count": 24,
     "metadata": {},
     "output_type": "execute_result"
    }
   ],
   "source": [
    "games.year.value_counts().sort_index()"
   ]
  },
  {
   "cell_type": "markdown",
   "id": "f9da0fed",
   "metadata": {},
   "source": [
    "<div style=\"font-size:20px;\">It appears the earliest release was at 1980, and that there are 269 missing year values</div>"
   ]
  },
  {
   "cell_type": "code",
   "execution_count": 25,
   "id": "8f57b5b1",
   "metadata": {},
   "outputs": [
    {
     "data": {
      "text/html": [
       "<div>\n",
       "<style scoped>\n",
       "    .dataframe tbody tr th:only-of-type {\n",
       "        vertical-align: middle;\n",
       "    }\n",
       "\n",
       "    .dataframe tbody tr th {\n",
       "        vertical-align: top;\n",
       "    }\n",
       "\n",
       "    .dataframe thead th {\n",
       "        text-align: right;\n",
       "    }\n",
       "</style>\n",
       "<table border=\"1\" class=\"dataframe\">\n",
       "  <thead>\n",
       "    <tr style=\"text-align: right;\">\n",
       "      <th></th>\n",
       "      <th>name</th>\n",
       "      <th>platform</th>\n",
       "      <th>year</th>\n",
       "      <th>genre</th>\n",
       "      <th>na_sales</th>\n",
       "      <th>eu_sales</th>\n",
       "      <th>jp_sales</th>\n",
       "      <th>other_sales</th>\n",
       "      <th>critic_score</th>\n",
       "      <th>user_score</th>\n",
       "      <th>rating</th>\n",
       "    </tr>\n",
       "  </thead>\n",
       "  <tbody>\n",
       "    <tr>\n",
       "      <th>183</th>\n",
       "      <td>Madden NFL 2004</td>\n",
       "      <td>PS2</td>\n",
       "      <td>0</td>\n",
       "      <td>Sports</td>\n",
       "      <td>4.26</td>\n",
       "      <td>0.26</td>\n",
       "      <td>0.01</td>\n",
       "      <td>0.71</td>\n",
       "      <td>94</td>\n",
       "      <td>8.5</td>\n",
       "      <td>E</td>\n",
       "    </tr>\n",
       "    <tr>\n",
       "      <th>377</th>\n",
       "      <td>FIFA Soccer 2004</td>\n",
       "      <td>PS2</td>\n",
       "      <td>0</td>\n",
       "      <td>Sports</td>\n",
       "      <td>0.59</td>\n",
       "      <td>2.36</td>\n",
       "      <td>0.04</td>\n",
       "      <td>0.51</td>\n",
       "      <td>84</td>\n",
       "      <td>6.4</td>\n",
       "      <td>E</td>\n",
       "    </tr>\n",
       "    <tr>\n",
       "      <th>456</th>\n",
       "      <td>LEGO Batman: The Videogame</td>\n",
       "      <td>Wii</td>\n",
       "      <td>0</td>\n",
       "      <td>Action</td>\n",
       "      <td>1.80</td>\n",
       "      <td>0.97</td>\n",
       "      <td>0.00</td>\n",
       "      <td>0.29</td>\n",
       "      <td>74</td>\n",
       "      <td>7.9</td>\n",
       "      <td>E10+</td>\n",
       "    </tr>\n",
       "    <tr>\n",
       "      <th>475</th>\n",
       "      <td>wwe Smackdown vs. Raw 2006</td>\n",
       "      <td>PS2</td>\n",
       "      <td>0</td>\n",
       "      <td>Fighting</td>\n",
       "      <td>1.57</td>\n",
       "      <td>1.02</td>\n",
       "      <td>0.00</td>\n",
       "      <td>0.41</td>\n",
       "      <td>-1</td>\n",
       "      <td>NaN</td>\n",
       "      <td>nan</td>\n",
       "    </tr>\n",
       "    <tr>\n",
       "      <th>609</th>\n",
       "      <td>Space Invaders</td>\n",
       "      <td>2600</td>\n",
       "      <td>0</td>\n",
       "      <td>Shooter</td>\n",
       "      <td>2.36</td>\n",
       "      <td>0.14</td>\n",
       "      <td>0.00</td>\n",
       "      <td>0.03</td>\n",
       "      <td>-1</td>\n",
       "      <td>NaN</td>\n",
       "      <td>nan</td>\n",
       "    </tr>\n",
       "    <tr>\n",
       "      <th>...</th>\n",
       "      <td>...</td>\n",
       "      <td>...</td>\n",
       "      <td>...</td>\n",
       "      <td>...</td>\n",
       "      <td>...</td>\n",
       "      <td>...</td>\n",
       "      <td>...</td>\n",
       "      <td>...</td>\n",
       "      <td>...</td>\n",
       "      <td>...</td>\n",
       "      <td>...</td>\n",
       "    </tr>\n",
       "    <tr>\n",
       "      <th>16373</th>\n",
       "      <td>PDC World Championship Darts 2008</td>\n",
       "      <td>PSP</td>\n",
       "      <td>0</td>\n",
       "      <td>Sports</td>\n",
       "      <td>0.01</td>\n",
       "      <td>0.00</td>\n",
       "      <td>0.00</td>\n",
       "      <td>0.00</td>\n",
       "      <td>43</td>\n",
       "      <td>-1.0</td>\n",
       "      <td>E10+</td>\n",
       "    </tr>\n",
       "    <tr>\n",
       "      <th>16405</th>\n",
       "      <td>Freaky Flyers</td>\n",
       "      <td>GC</td>\n",
       "      <td>0</td>\n",
       "      <td>Racing</td>\n",
       "      <td>0.01</td>\n",
       "      <td>0.00</td>\n",
       "      <td>0.00</td>\n",
       "      <td>0.00</td>\n",
       "      <td>69</td>\n",
       "      <td>6.5</td>\n",
       "      <td>T</td>\n",
       "    </tr>\n",
       "    <tr>\n",
       "      <th>16448</th>\n",
       "      <td>Inversion</td>\n",
       "      <td>PC</td>\n",
       "      <td>0</td>\n",
       "      <td>Shooter</td>\n",
       "      <td>0.01</td>\n",
       "      <td>0.00</td>\n",
       "      <td>0.00</td>\n",
       "      <td>0.00</td>\n",
       "      <td>59</td>\n",
       "      <td>6.7</td>\n",
       "      <td>M</td>\n",
       "    </tr>\n",
       "    <tr>\n",
       "      <th>16458</th>\n",
       "      <td>Hakuouki: Shinsengumi Kitan</td>\n",
       "      <td>PS3</td>\n",
       "      <td>0</td>\n",
       "      <td>Adventure</td>\n",
       "      <td>0.01</td>\n",
       "      <td>0.00</td>\n",
       "      <td>0.00</td>\n",
       "      <td>0.00</td>\n",
       "      <td>-1</td>\n",
       "      <td>NaN</td>\n",
       "      <td>nan</td>\n",
       "    </tr>\n",
       "    <tr>\n",
       "      <th>16522</th>\n",
       "      <td>Virtua Quest</td>\n",
       "      <td>GC</td>\n",
       "      <td>0</td>\n",
       "      <td>Role-Playing</td>\n",
       "      <td>0.01</td>\n",
       "      <td>0.00</td>\n",
       "      <td>0.00</td>\n",
       "      <td>0.00</td>\n",
       "      <td>55</td>\n",
       "      <td>5.5</td>\n",
       "      <td>T</td>\n",
       "    </tr>\n",
       "  </tbody>\n",
       "</table>\n",
       "<p>269 rows × 11 columns</p>\n",
       "</div>"
      ],
      "text/plain": [
       "                                    name platform  year         genre  \\\n",
       "183                      Madden NFL 2004      PS2     0        Sports   \n",
       "377                     FIFA Soccer 2004      PS2     0        Sports   \n",
       "456           LEGO Batman: The Videogame      Wii     0        Action   \n",
       "475           wwe Smackdown vs. Raw 2006      PS2     0      Fighting   \n",
       "609                       Space Invaders     2600     0       Shooter   \n",
       "...                                  ...      ...   ...           ...   \n",
       "16373  PDC World Championship Darts 2008      PSP     0        Sports   \n",
       "16405                      Freaky Flyers       GC     0        Racing   \n",
       "16448                          Inversion       PC     0       Shooter   \n",
       "16458        Hakuouki: Shinsengumi Kitan      PS3     0     Adventure   \n",
       "16522                       Virtua Quest       GC     0  Role-Playing   \n",
       "\n",
       "       na_sales  eu_sales  jp_sales  other_sales  critic_score  user_score  \\\n",
       "183        4.26      0.26      0.01         0.71            94         8.5   \n",
       "377        0.59      2.36      0.04         0.51            84         6.4   \n",
       "456        1.80      0.97      0.00         0.29            74         7.9   \n",
       "475        1.57      1.02      0.00         0.41            -1         NaN   \n",
       "609        2.36      0.14      0.00         0.03            -1         NaN   \n",
       "...         ...       ...       ...          ...           ...         ...   \n",
       "16373      0.01      0.00      0.00         0.00            43        -1.0   \n",
       "16405      0.01      0.00      0.00         0.00            69         6.5   \n",
       "16448      0.01      0.00      0.00         0.00            59         6.7   \n",
       "16458      0.01      0.00      0.00         0.00            -1         NaN   \n",
       "16522      0.01      0.00      0.00         0.00            55         5.5   \n",
       "\n",
       "      rating  \n",
       "183        E  \n",
       "377        E  \n",
       "456     E10+  \n",
       "475      nan  \n",
       "609      nan  \n",
       "...      ...  \n",
       "16373   E10+  \n",
       "16405      T  \n",
       "16448      M  \n",
       "16458    nan  \n",
       "16522      T  \n",
       "\n",
       "[269 rows x 11 columns]"
      ]
     },
     "execution_count": 25,
     "metadata": {},
     "output_type": "execute_result"
    }
   ],
   "source": [
    "missed_years = games[games['year'] == 0]\n",
    "missed_years"
   ]
  },
  {
   "cell_type": "markdown",
   "id": "c4a8b04b",
   "metadata": {},
   "source": [
    "<div style=\"font-size:20px;\">One of the goals of this analysis is to look at the total amount of games released per year. Its important the filled missing-years values will be filled <b>reliably</b> - Only if there's a strong chance the value filled is indeed the value in reality. Its possible that for some years, the total amount of games released will change considerably after filling reliably the missing values. Its important to fill them, while also important to do it carefully.</div>"
   ]
  },
  {
   "cell_type": "markdown",
   "id": "f21ca3db",
   "metadata": {},
   "source": [
    "<div style=\"font-size:20px;\">The factors influencing the values for filling missing years reliably are name and platform. Although its possible there's a connection between genre,sales,scores and rating to 'year', the constraint of filling reliably makes it possible to fill missing values only if it makes common sense as well. Genre,sales,scores and rating are good for verifying the filling performed is proper, but even in the most extreme case, where in a big portion of rows a 1 to one 1 match will be found between some specific 4 values to the year value, filling based on that will feel too weird at room temprature</div>"
   ]
  },
  {
   "cell_type": "markdown",
   "id": "6b282aa3",
   "metadata": {},
   "source": [
    "<div style=\"font-size:20px;\">In cases where a year is part of the game's name, the missing year value could be filled with the year present in the name. Its possible the actual year of release is a year before or after, but this uncertainty is accepted, while also noted for the rest of this analysis.</div>"
   ]
  },
  {
   "cell_type": "markdown",
   "id": "7ed2980e",
   "metadata": {},
   "source": [
    "<div style=\"font-size:20px;\">Platform might have a connection to the technology existed at time of release - if such a connection between year and platform will be found, it'll make common sense to fill missing years accordingly. if not, missing values would not be filled based on platform information</div>"
   ]
  },
  {
   "cell_type": "markdown",
   "id": "46d01736",
   "metadata": {},
   "source": [
    "#### Filling by name"
   ]
  },
  {
   "cell_type": "code",
   "execution_count": 26,
   "id": "860e7888",
   "metadata": {},
   "outputs": [
    {
     "name": "stdout",
     "output_type": "stream",
     "text": [
      "<class 'pandas.core.frame.DataFrame'>\n",
      "RangeIndex: 66 entries, 0 to 65\n",
      "Data columns (total 2 columns):\n",
      " #   Column          Non-Null Count  Dtype \n",
      "---  ------          --------------  ----- \n",
      " 0   original_index  66 non-null     int64 \n",
      " 1   year            66 non-null     string\n",
      "dtypes: int64(1), string(1)\n",
      "memory usage: 1.2 KB\n"
     ]
    },
    {
     "data": {
      "text/html": [
       "<div>\n",
       "<style scoped>\n",
       "    .dataframe tbody tr th:only-of-type {\n",
       "        vertical-align: middle;\n",
       "    }\n",
       "\n",
       "    .dataframe tbody tr th {\n",
       "        vertical-align: top;\n",
       "    }\n",
       "\n",
       "    .dataframe thead th {\n",
       "        text-align: right;\n",
       "    }\n",
       "</style>\n",
       "<table border=\"1\" class=\"dataframe\">\n",
       "  <thead>\n",
       "    <tr style=\"text-align: right;\">\n",
       "      <th></th>\n",
       "      <th>original_index</th>\n",
       "      <th>year</th>\n",
       "    </tr>\n",
       "  </thead>\n",
       "  <tbody>\n",
       "    <tr>\n",
       "      <th>0</th>\n",
       "      <td>183</td>\n",
       "      <td>2004</td>\n",
       "    </tr>\n",
       "    <tr>\n",
       "      <th>1</th>\n",
       "      <td>377</td>\n",
       "      <td>2004</td>\n",
       "    </tr>\n",
       "    <tr>\n",
       "      <th>2</th>\n",
       "      <td>475</td>\n",
       "      <td>2006</td>\n",
       "    </tr>\n",
       "    <tr>\n",
       "      <th>3</th>\n",
       "      <td>719</td>\n",
       "      <td>3</td>\n",
       "    </tr>\n",
       "    <tr>\n",
       "      <th>4</th>\n",
       "      <td>1301</td>\n",
       "      <td>99</td>\n",
       "    </tr>\n",
       "    <tr>\n",
       "      <th>...</th>\n",
       "      <td>...</td>\n",
       "      <td>...</td>\n",
       "    </tr>\n",
       "    <tr>\n",
       "      <th>61</th>\n",
       "      <td>15953</td>\n",
       "      <td>2008</td>\n",
       "    </tr>\n",
       "    <tr>\n",
       "      <th>62</th>\n",
       "      <td>16079</td>\n",
       "      <td>2007</td>\n",
       "    </tr>\n",
       "    <tr>\n",
       "      <th>63</th>\n",
       "      <td>16293</td>\n",
       "      <td>1</td>\n",
       "    </tr>\n",
       "    <tr>\n",
       "      <th>64</th>\n",
       "      <td>16329</td>\n",
       "      <td>4</td>\n",
       "    </tr>\n",
       "    <tr>\n",
       "      <th>65</th>\n",
       "      <td>16373</td>\n",
       "      <td>2008</td>\n",
       "    </tr>\n",
       "  </tbody>\n",
       "</table>\n",
       "<p>66 rows × 2 columns</p>\n",
       "</div>"
      ],
      "text/plain": [
       "    original_index  year\n",
       "0              183  2004\n",
       "1              377  2004\n",
       "2              475  2006\n",
       "3              719     3\n",
       "4             1301    99\n",
       "..             ...   ...\n",
       "61           15953  2008\n",
       "62           16079  2007\n",
       "63           16293     1\n",
       "64           16329     4\n",
       "65           16373  2008\n",
       "\n",
       "[66 rows x 2 columns]"
      ]
     },
     "execution_count": 26,
     "metadata": {},
     "output_type": "execute_result"
    }
   ],
   "source": [
    "# extracting number from each name. when there's no such number, 'na' is 'extracted'\n",
    "# keeping only useful rows by droping all the 'na' who came from names lacking numbers\n",
    "tmp = missed_years['name'].str.extract('(\\d+)').dropna().reset_index(level=0)\n",
    "tmp.columns = ['original_index','year']\n",
    "tmp.info()\n",
    "tmp"
   ]
  },
  {
   "cell_type": "markdown",
   "id": "4181d4d8",
   "metadata": {},
   "source": [
    "<div style=\"font-size:20px;\">Only numbers representing relevant years are of interest - numbers between 1980 to 2016.\n",
    "To keep only rows with those relevant numbers, casting is first needed, followed by slicing the latter data frame above.</div>"
   ]
  },
  {
   "cell_type": "code",
   "execution_count": 27,
   "id": "f17dece9",
   "metadata": {},
   "outputs": [
    {
     "data": {
      "text/html": [
       "<div>\n",
       "<style scoped>\n",
       "    .dataframe tbody tr th:only-of-type {\n",
       "        vertical-align: middle;\n",
       "    }\n",
       "\n",
       "    .dataframe tbody tr th {\n",
       "        vertical-align: top;\n",
       "    }\n",
       "\n",
       "    .dataframe thead th {\n",
       "        text-align: right;\n",
       "    }\n",
       "</style>\n",
       "<table border=\"1\" class=\"dataframe\">\n",
       "  <thead>\n",
       "    <tr style=\"text-align: right;\">\n",
       "      <th></th>\n",
       "      <th>original_index</th>\n",
       "      <th>year</th>\n",
       "    </tr>\n",
       "  </thead>\n",
       "  <tbody>\n",
       "    <tr>\n",
       "      <th>0</th>\n",
       "      <td>183</td>\n",
       "      <td>2004</td>\n",
       "    </tr>\n",
       "    <tr>\n",
       "      <th>1</th>\n",
       "      <td>377</td>\n",
       "      <td>2004</td>\n",
       "    </tr>\n",
       "    <tr>\n",
       "      <th>2</th>\n",
       "      <td>475</td>\n",
       "      <td>2006</td>\n",
       "    </tr>\n",
       "    <tr>\n",
       "      <th>6</th>\n",
       "      <td>1650</td>\n",
       "      <td>2003</td>\n",
       "    </tr>\n",
       "    <tr>\n",
       "      <th>13</th>\n",
       "      <td>2572</td>\n",
       "      <td>2009</td>\n",
       "    </tr>\n",
       "    <tr>\n",
       "      <th>21</th>\n",
       "      <td>3486</td>\n",
       "      <td>2002</td>\n",
       "    </tr>\n",
       "    <tr>\n",
       "      <th>24</th>\n",
       "      <td>4775</td>\n",
       "      <td>2003</td>\n",
       "    </tr>\n",
       "    <tr>\n",
       "      <th>26</th>\n",
       "      <td>5156</td>\n",
       "      <td>2003</td>\n",
       "    </tr>\n",
       "    <tr>\n",
       "      <th>29</th>\n",
       "      <td>5336</td>\n",
       "      <td>2013</td>\n",
       "    </tr>\n",
       "    <tr>\n",
       "      <th>31</th>\n",
       "      <td>5655</td>\n",
       "      <td>2005</td>\n",
       "    </tr>\n",
       "    <tr>\n",
       "      <th>32</th>\n",
       "      <td>5889</td>\n",
       "      <td>2003</td>\n",
       "    </tr>\n",
       "    <tr>\n",
       "      <th>45</th>\n",
       "      <td>8918</td>\n",
       "      <td>2005</td>\n",
       "    </tr>\n",
       "    <tr>\n",
       "      <th>54</th>\n",
       "      <td>13195</td>\n",
       "      <td>2011</td>\n",
       "    </tr>\n",
       "    <tr>\n",
       "      <th>56</th>\n",
       "      <td>13929</td>\n",
       "      <td>2006</td>\n",
       "    </tr>\n",
       "    <tr>\n",
       "      <th>61</th>\n",
       "      <td>15953</td>\n",
       "      <td>2008</td>\n",
       "    </tr>\n",
       "    <tr>\n",
       "      <th>62</th>\n",
       "      <td>16079</td>\n",
       "      <td>2007</td>\n",
       "    </tr>\n",
       "    <tr>\n",
       "      <th>65</th>\n",
       "      <td>16373</td>\n",
       "      <td>2008</td>\n",
       "    </tr>\n",
       "  </tbody>\n",
       "</table>\n",
       "</div>"
      ],
      "text/plain": [
       "    original_index  year\n",
       "0              183  2004\n",
       "1              377  2004\n",
       "2              475  2006\n",
       "6             1650  2003\n",
       "13            2572  2009\n",
       "21            3486  2002\n",
       "24            4775  2003\n",
       "26            5156  2003\n",
       "29            5336  2013\n",
       "31            5655  2005\n",
       "32            5889  2003\n",
       "45            8918  2005\n",
       "54           13195  2011\n",
       "56           13929  2006\n",
       "61           15953  2008\n",
       "62           16079  2007\n",
       "65           16373  2008"
      ]
     },
     "execution_count": 27,
     "metadata": {},
     "output_type": "execute_result"
    }
   ],
   "source": [
    "tmp.year = tmp.year.astype('int64')\n",
    "tmp.drop(tmp[tmp.year < 1980].index, inplace=True)\n",
    "tmp"
   ]
  },
  {
   "cell_type": "code",
   "execution_count": 28,
   "id": "71e568b5",
   "metadata": {},
   "outputs": [
    {
     "name": "stdout",
     "output_type": "stream",
     "text": [
      "values filled - 17\n",
      "current number of missing values - 252\n"
     ]
    }
   ],
   "source": [
    "# now filling games - with the indexes stored in tmp 'original_index', and the values in tmp 'year' are filled\n",
    "for m in range(len(tmp)):\n",
    "    games.iloc[tmp.iloc[m,0],2] = tmp.iloc[m,1]\n",
    "print(f'values filled - {len(tmp)}')\n",
    "print(f'current number of missing values - {games.year.value_counts()[0]}')"
   ]
  },
  {
   "cell_type": "markdown",
   "id": "b546c8a1",
   "metadata": {},
   "source": [
    "<div style=\"font-size:20px;\">It make sense - earlier there were 269 missing values, 17 more than now</div>"
   ]
  },
  {
   "cell_type": "code",
   "execution_count": 29,
   "id": "5d24242e",
   "metadata": {},
   "outputs": [
    {
     "data": {
      "text/plain": [
       "252"
      ]
     },
     "execution_count": 29,
     "metadata": {},
     "output_type": "execute_result"
    }
   ],
   "source": [
    "missed_years = games[games['year'] == 0] # updating missed_years\n",
    "len(missed_years)"
   ]
  },
  {
   "cell_type": "markdown",
   "id": "9a7de11f",
   "metadata": {},
   "source": [
    "#### Filling by platform"
   ]
  },
  {
   "cell_type": "code",
   "execution_count": 30,
   "id": "f1b49db7",
   "metadata": {},
   "outputs": [
    {
     "data": {
      "text/plain": [
       "16463"
      ]
     },
     "execution_count": 30,
     "metadata": {},
     "output_type": "execute_result"
    }
   ],
   "source": [
    "valued_years = games.merge(missed_years, how='outer', indicator=True).query('_merge == \"left_only\"').drop('_merge', 1)\n",
    "len(valued_years) # 16715 - 252 = 16463"
   ]
  },
  {
   "cell_type": "code",
   "execution_count": 31,
   "id": "16b0b8ae",
   "metadata": {},
   "outputs": [
    {
     "data": {
      "text/html": [
       "<div>\n",
       "<style scoped>\n",
       "    .dataframe tbody tr th:only-of-type {\n",
       "        vertical-align: middle;\n",
       "    }\n",
       "\n",
       "    .dataframe tbody tr th {\n",
       "        vertical-align: top;\n",
       "    }\n",
       "\n",
       "    .dataframe thead th {\n",
       "        text-align: right;\n",
       "    }\n",
       "</style>\n",
       "<table border=\"1\" class=\"dataframe\">\n",
       "  <thead>\n",
       "    <tr style=\"text-align: right;\">\n",
       "      <th></th>\n",
       "      <th>platform</th>\n",
       "      <th>valued_years</th>\n",
       "    </tr>\n",
       "  </thead>\n",
       "  <tbody>\n",
       "    <tr>\n",
       "      <th>0</th>\n",
       "      <td>2600</td>\n",
       "      <td>116</td>\n",
       "    </tr>\n",
       "    <tr>\n",
       "      <th>1</th>\n",
       "      <td>3DO</td>\n",
       "      <td>3</td>\n",
       "    </tr>\n",
       "    <tr>\n",
       "      <th>2</th>\n",
       "      <td>3DS</td>\n",
       "      <td>512</td>\n",
       "    </tr>\n",
       "    <tr>\n",
       "      <th>3</th>\n",
       "      <td>DC</td>\n",
       "      <td>52</td>\n",
       "    </tr>\n",
       "    <tr>\n",
       "      <th>4</th>\n",
       "      <td>DS</td>\n",
       "      <td>2122</td>\n",
       "    </tr>\n",
       "    <tr>\n",
       "      <th>5</th>\n",
       "      <td>GB</td>\n",
       "      <td>97</td>\n",
       "    </tr>\n",
       "    <tr>\n",
       "      <th>6</th>\n",
       "      <td>GBA</td>\n",
       "      <td>811</td>\n",
       "    </tr>\n",
       "    <tr>\n",
       "      <th>7</th>\n",
       "      <td>GC</td>\n",
       "      <td>543</td>\n",
       "    </tr>\n",
       "    <tr>\n",
       "      <th>8</th>\n",
       "      <td>GEN</td>\n",
       "      <td>29</td>\n",
       "    </tr>\n",
       "    <tr>\n",
       "      <th>9</th>\n",
       "      <td>GG</td>\n",
       "      <td>1</td>\n",
       "    </tr>\n",
       "    <tr>\n",
       "      <th>10</th>\n",
       "      <td>N64</td>\n",
       "      <td>316</td>\n",
       "    </tr>\n",
       "    <tr>\n",
       "      <th>11</th>\n",
       "      <td>NES</td>\n",
       "      <td>98</td>\n",
       "    </tr>\n",
       "    <tr>\n",
       "      <th>12</th>\n",
       "      <td>NG</td>\n",
       "      <td>12</td>\n",
       "    </tr>\n",
       "    <tr>\n",
       "      <th>13</th>\n",
       "      <td>PC</td>\n",
       "      <td>958</td>\n",
       "    </tr>\n",
       "    <tr>\n",
       "      <th>14</th>\n",
       "      <td>PCFX</td>\n",
       "      <td>1</td>\n",
       "    </tr>\n",
       "    <tr>\n",
       "      <th>15</th>\n",
       "      <td>PS</td>\n",
       "      <td>1190</td>\n",
       "    </tr>\n",
       "    <tr>\n",
       "      <th>16</th>\n",
       "      <td>PS2</td>\n",
       "      <td>2134</td>\n",
       "    </tr>\n",
       "    <tr>\n",
       "      <th>17</th>\n",
       "      <td>PS3</td>\n",
       "      <td>1306</td>\n",
       "    </tr>\n",
       "    <tr>\n",
       "      <th>18</th>\n",
       "      <td>PS4</td>\n",
       "      <td>392</td>\n",
       "    </tr>\n",
       "    <tr>\n",
       "      <th>19</th>\n",
       "      <td>PSP</td>\n",
       "      <td>1195</td>\n",
       "    </tr>\n",
       "    <tr>\n",
       "      <th>20</th>\n",
       "      <td>PSV</td>\n",
       "      <td>429</td>\n",
       "    </tr>\n",
       "    <tr>\n",
       "      <th>21</th>\n",
       "      <td>SAT</td>\n",
       "      <td>173</td>\n",
       "    </tr>\n",
       "    <tr>\n",
       "      <th>22</th>\n",
       "      <td>SCD</td>\n",
       "      <td>6</td>\n",
       "    </tr>\n",
       "    <tr>\n",
       "      <th>23</th>\n",
       "      <td>SNES</td>\n",
       "      <td>239</td>\n",
       "    </tr>\n",
       "    <tr>\n",
       "      <th>24</th>\n",
       "      <td>TG16</td>\n",
       "      <td>2</td>\n",
       "    </tr>\n",
       "    <tr>\n",
       "      <th>25</th>\n",
       "      <td>WS</td>\n",
       "      <td>6</td>\n",
       "    </tr>\n",
       "    <tr>\n",
       "      <th>26</th>\n",
       "      <td>Wii</td>\n",
       "      <td>1286</td>\n",
       "    </tr>\n",
       "    <tr>\n",
       "      <th>27</th>\n",
       "      <td>WiiU</td>\n",
       "      <td>147</td>\n",
       "    </tr>\n",
       "    <tr>\n",
       "      <th>28</th>\n",
       "      <td>X360</td>\n",
       "      <td>1234</td>\n",
       "    </tr>\n",
       "    <tr>\n",
       "      <th>29</th>\n",
       "      <td>XB</td>\n",
       "      <td>806</td>\n",
       "    </tr>\n",
       "    <tr>\n",
       "      <th>30</th>\n",
       "      <td>XOne</td>\n",
       "      <td>247</td>\n",
       "    </tr>\n",
       "  </tbody>\n",
       "</table>\n",
       "</div>"
      ],
      "text/plain": [
       "   platform  valued_years\n",
       "0      2600           116\n",
       "1       3DO             3\n",
       "2       3DS           512\n",
       "3        DC            52\n",
       "4        DS          2122\n",
       "5        GB            97\n",
       "6       GBA           811\n",
       "7        GC           543\n",
       "8       GEN            29\n",
       "9        GG             1\n",
       "10      N64           316\n",
       "11      NES            98\n",
       "12       NG            12\n",
       "13       PC           958\n",
       "14     PCFX             1\n",
       "15       PS          1190\n",
       "16      PS2          2134\n",
       "17      PS3          1306\n",
       "18      PS4           392\n",
       "19      PSP          1195\n",
       "20      PSV           429\n",
       "21      SAT           173\n",
       "22      SCD             6\n",
       "23     SNES           239\n",
       "24     TG16             2\n",
       "25       WS             6\n",
       "26      Wii          1286\n",
       "27     WiiU           147\n",
       "28     X360          1234\n",
       "29       XB           806\n",
       "30     XOne           247"
      ]
     },
     "execution_count": 31,
     "metadata": {},
     "output_type": "execute_result"
    }
   ],
   "source": [
    "grouped_valued_years = valued_years.groupby('platform')['year'].count() # total valued_years games per platform\n",
    "\n",
    "grouped_valued_years = grouped_valued_years.to_frame().add_suffix('').reset_index()\n",
    "grouped_valued_years.rename(columns={'year':'valued_years'},inplace=True)\n",
    "grouped_valued_years"
   ]
  },
  {
   "cell_type": "code",
   "execution_count": 32,
   "id": "3c3fc049",
   "metadata": {},
   "outputs": [
    {
     "data": {
      "text/html": [
       "<div>\n",
       "<style scoped>\n",
       "    .dataframe tbody tr th:only-of-type {\n",
       "        vertical-align: middle;\n",
       "    }\n",
       "\n",
       "    .dataframe tbody tr th {\n",
       "        vertical-align: top;\n",
       "    }\n",
       "\n",
       "    .dataframe thead th {\n",
       "        text-align: right;\n",
       "    }\n",
       "</style>\n",
       "<table border=\"1\" class=\"dataframe\">\n",
       "  <thead>\n",
       "    <tr style=\"text-align: right;\">\n",
       "      <th></th>\n",
       "      <th>platform</th>\n",
       "      <th>missed_years</th>\n",
       "    </tr>\n",
       "  </thead>\n",
       "  <tbody>\n",
       "    <tr>\n",
       "      <th>0</th>\n",
       "      <td>2600</td>\n",
       "      <td>17</td>\n",
       "    </tr>\n",
       "    <tr>\n",
       "      <th>1</th>\n",
       "      <td>3DS</td>\n",
       "      <td>8</td>\n",
       "    </tr>\n",
       "    <tr>\n",
       "      <th>2</th>\n",
       "      <td>DS</td>\n",
       "      <td>29</td>\n",
       "    </tr>\n",
       "    <tr>\n",
       "      <th>3</th>\n",
       "      <td>GB</td>\n",
       "      <td>1</td>\n",
       "    </tr>\n",
       "    <tr>\n",
       "      <th>4</th>\n",
       "      <td>GBA</td>\n",
       "      <td>11</td>\n",
       "    </tr>\n",
       "    <tr>\n",
       "      <th>5</th>\n",
       "      <td>GC</td>\n",
       "      <td>13</td>\n",
       "    </tr>\n",
       "    <tr>\n",
       "      <th>6</th>\n",
       "      <td>N64</td>\n",
       "      <td>3</td>\n",
       "    </tr>\n",
       "    <tr>\n",
       "      <th>7</th>\n",
       "      <td>PC</td>\n",
       "      <td>16</td>\n",
       "    </tr>\n",
       "    <tr>\n",
       "      <th>8</th>\n",
       "      <td>PS</td>\n",
       "      <td>7</td>\n",
       "    </tr>\n",
       "    <tr>\n",
       "      <th>9</th>\n",
       "      <td>PS2</td>\n",
       "      <td>27</td>\n",
       "    </tr>\n",
       "    <tr>\n",
       "      <th>10</th>\n",
       "      <td>PS3</td>\n",
       "      <td>25</td>\n",
       "    </tr>\n",
       "    <tr>\n",
       "      <th>11</th>\n",
       "      <td>PSP</td>\n",
       "      <td>14</td>\n",
       "    </tr>\n",
       "    <tr>\n",
       "      <th>12</th>\n",
       "      <td>PSV</td>\n",
       "      <td>1</td>\n",
       "    </tr>\n",
       "    <tr>\n",
       "      <th>13</th>\n",
       "      <td>Wii</td>\n",
       "      <td>34</td>\n",
       "    </tr>\n",
       "    <tr>\n",
       "      <th>14</th>\n",
       "      <td>X360</td>\n",
       "      <td>28</td>\n",
       "    </tr>\n",
       "    <tr>\n",
       "      <th>15</th>\n",
       "      <td>XB</td>\n",
       "      <td>18</td>\n",
       "    </tr>\n",
       "  </tbody>\n",
       "</table>\n",
       "</div>"
      ],
      "text/plain": [
       "   platform  missed_years\n",
       "0      2600            17\n",
       "1       3DS             8\n",
       "2        DS            29\n",
       "3        GB             1\n",
       "4       GBA            11\n",
       "5        GC            13\n",
       "6       N64             3\n",
       "7        PC            16\n",
       "8        PS             7\n",
       "9       PS2            27\n",
       "10      PS3            25\n",
       "11      PSP            14\n",
       "12      PSV             1\n",
       "13      Wii            34\n",
       "14     X360            28\n",
       "15       XB            18"
      ]
     },
     "execution_count": 32,
     "metadata": {},
     "output_type": "execute_result"
    }
   ],
   "source": [
    "grouped_missed_years = missed_years.groupby('platform')['year'].count().to_frame().add_suffix('').reset_index()\n",
    "grouped_missed_years.rename(columns={'year':'missed_years'},inplace=True)\n",
    "grouped_missed_years"
   ]
  },
  {
   "cell_type": "code",
   "execution_count": 33,
   "id": "772b0a39",
   "metadata": {},
   "outputs": [
    {
     "data": {
      "text/html": [
       "<div>\n",
       "<style scoped>\n",
       "    .dataframe tbody tr th:only-of-type {\n",
       "        vertical-align: middle;\n",
       "    }\n",
       "\n",
       "    .dataframe tbody tr th {\n",
       "        vertical-align: top;\n",
       "    }\n",
       "\n",
       "    .dataframe thead th {\n",
       "        text-align: right;\n",
       "    }\n",
       "</style>\n",
       "<table border=\"1\" class=\"dataframe\">\n",
       "  <thead>\n",
       "    <tr style=\"text-align: right;\">\n",
       "      <th></th>\n",
       "      <th>platform</th>\n",
       "      <th>valued_years</th>\n",
       "      <th>missed_years</th>\n",
       "    </tr>\n",
       "  </thead>\n",
       "  <tbody>\n",
       "    <tr>\n",
       "      <th>0</th>\n",
       "      <td>2600</td>\n",
       "      <td>0.770508</td>\n",
       "      <td>6.746032</td>\n",
       "    </tr>\n",
       "    <tr>\n",
       "      <th>1</th>\n",
       "      <td>3DS</td>\n",
       "      <td>3.400864</td>\n",
       "      <td>3.174603</td>\n",
       "    </tr>\n",
       "    <tr>\n",
       "      <th>2</th>\n",
       "      <td>DS</td>\n",
       "      <td>14.094985</td>\n",
       "      <td>11.507937</td>\n",
       "    </tr>\n",
       "    <tr>\n",
       "      <th>3</th>\n",
       "      <td>GB</td>\n",
       "      <td>0.644304</td>\n",
       "      <td>0.396825</td>\n",
       "    </tr>\n",
       "    <tr>\n",
       "      <th>4</th>\n",
       "      <td>GBA</td>\n",
       "      <td>5.386915</td>\n",
       "      <td>4.365079</td>\n",
       "    </tr>\n",
       "    <tr>\n",
       "      <th>5</th>\n",
       "      <td>GC</td>\n",
       "      <td>3.606775</td>\n",
       "      <td>5.158730</td>\n",
       "    </tr>\n",
       "    <tr>\n",
       "      <th>6</th>\n",
       "      <td>N64</td>\n",
       "      <td>2.098970</td>\n",
       "      <td>1.190476</td>\n",
       "    </tr>\n",
       "    <tr>\n",
       "      <th>7</th>\n",
       "      <td>PC</td>\n",
       "      <td>6.363334</td>\n",
       "      <td>6.349206</td>\n",
       "    </tr>\n",
       "    <tr>\n",
       "      <th>8</th>\n",
       "      <td>PS</td>\n",
       "      <td>7.904351</td>\n",
       "      <td>2.777778</td>\n",
       "    </tr>\n",
       "    <tr>\n",
       "      <th>9</th>\n",
       "      <td>PS2</td>\n",
       "      <td>14.174693</td>\n",
       "      <td>10.714286</td>\n",
       "    </tr>\n",
       "    <tr>\n",
       "      <th>10</th>\n",
       "      <td>PS3</td>\n",
       "      <td>8.674859</td>\n",
       "      <td>9.920635</td>\n",
       "    </tr>\n",
       "    <tr>\n",
       "      <th>11</th>\n",
       "      <td>PSP</td>\n",
       "      <td>7.937562</td>\n",
       "      <td>5.555556</td>\n",
       "    </tr>\n",
       "    <tr>\n",
       "      <th>12</th>\n",
       "      <td>PSV</td>\n",
       "      <td>2.849552</td>\n",
       "      <td>0.396825</td>\n",
       "    </tr>\n",
       "    <tr>\n",
       "      <th>13</th>\n",
       "      <td>Wii</td>\n",
       "      <td>8.542013</td>\n",
       "      <td>13.492063</td>\n",
       "    </tr>\n",
       "    <tr>\n",
       "      <th>14</th>\n",
       "      <td>X360</td>\n",
       "      <td>8.196612</td>\n",
       "      <td>11.111111</td>\n",
       "    </tr>\n",
       "    <tr>\n",
       "      <th>15</th>\n",
       "      <td>XB</td>\n",
       "      <td>5.353703</td>\n",
       "      <td>7.142857</td>\n",
       "    </tr>\n",
       "  </tbody>\n",
       "</table>\n",
       "</div>"
      ],
      "text/plain": [
       "   platform  valued_years  missed_years\n",
       "0      2600      0.770508      6.746032\n",
       "1       3DS      3.400864      3.174603\n",
       "2        DS     14.094985     11.507937\n",
       "3        GB      0.644304      0.396825\n",
       "4       GBA      5.386915      4.365079\n",
       "5        GC      3.606775      5.158730\n",
       "6       N64      2.098970      1.190476\n",
       "7        PC      6.363334      6.349206\n",
       "8        PS      7.904351      2.777778\n",
       "9       PS2     14.174693     10.714286\n",
       "10      PS3      8.674859      9.920635\n",
       "11      PSP      7.937562      5.555556\n",
       "12      PSV      2.849552      0.396825\n",
       "13      Wii      8.542013     13.492063\n",
       "14     X360      8.196612     11.111111\n",
       "15       XB      5.353703      7.142857"
      ]
     },
     "execution_count": 33,
     "metadata": {},
     "output_type": "execute_result"
    }
   ],
   "source": [
    "merged_years = grouped_valued_years.merge(grouped_missed_years,how='inner',on='platform')\n",
    "va = merged_years.valued_years.sum()\n",
    "mi = merged_years.missed_years.sum() # its not all type of platforms so about 1408 rows are left out of both sums\n",
    "merged_years['valued_years'] = merged_years['valued_years'] / va * 100\n",
    "merged_years['missed_years'] = merged_years['missed_years'] / mi * 100\n",
    "merged_years"
   ]
  },
  {
   "cell_type": "code",
   "execution_count": 34,
   "id": "f221a84f",
   "metadata": {},
   "outputs": [
    {
     "data": {
      "image/png": "[encoded data removed]",
      "text/plain": [
       "<Figure size 1152x576 with 1 Axes>"
      ]
     },
     "metadata": {
      "needs_background": "light"
     },
     "output_type": "display_data"
    }
   ],
   "source": [
    "ax = merged_years.plot.bar(x='platform', y=['valued_years','missed_years'], rot=0, figsize=(16,8))\n",
    "plt.title('valued vs missed years to platform distribution')\n",
    "plt.xlabel('platforms')\n",
    "plt.ylabel('Num of games')\n",
    "plt.show()"
   ]
  },
  {
   "cell_type": "markdown",
   "id": "8ef3eb3f",
   "metadata": {},
   "source": [
    "<div style=\"font-size:20px;\">There's generally a correlation between missed years platforms to valued years platforms. So, its a point in favor of filling missed years with relevant platform median. For platforms 2600, PS and PSV the correlation is pretty bad. The bad correlation for PSV is partly explained by the fact 2016 might have some missing data - as PSV games are at their peak around that year <b>(as seen later)</b>. Still, the correlation is overall pretty good.</div>"
   ]
  },
  {
   "cell_type": "code",
   "execution_count": 35,
   "id": "252578cc",
   "metadata": {},
   "outputs": [
    {
     "data": {
      "text/html": [
       "<div>\n",
       "<style scoped>\n",
       "    .dataframe tbody tr th:only-of-type {\n",
       "        vertical-align: middle;\n",
       "    }\n",
       "\n",
       "    .dataframe tbody tr th {\n",
       "        vertical-align: top;\n",
       "    }\n",
       "\n",
       "    .dataframe thead th {\n",
       "        text-align: right;\n",
       "    }\n",
       "</style>\n",
       "<table border=\"1\" class=\"dataframe\">\n",
       "  <thead>\n",
       "    <tr style=\"text-align: right;\">\n",
       "      <th></th>\n",
       "      <th>count</th>\n",
       "      <th>mean</th>\n",
       "      <th>std</th>\n",
       "      <th>min</th>\n",
       "      <th>25%</th>\n",
       "      <th>50%</th>\n",
       "      <th>75%</th>\n",
       "      <th>max</th>\n",
       "    </tr>\n",
       "    <tr>\n",
       "      <th>platform</th>\n",
       "      <th></th>\n",
       "      <th></th>\n",
       "      <th></th>\n",
       "      <th></th>\n",
       "      <th></th>\n",
       "      <th></th>\n",
       "      <th></th>\n",
       "      <th></th>\n",
       "    </tr>\n",
       "  </thead>\n",
       "  <tbody>\n",
       "    <tr>\n",
       "      <th>PS2</th>\n",
       "      <td>2134.0</td>\n",
       "      <td>2004.583411</td>\n",
       "      <td>2.564375</td>\n",
       "      <td>2000.0</td>\n",
       "      <td>2002.00</td>\n",
       "      <td>2005.0</td>\n",
       "      <td>2007.00</td>\n",
       "      <td>2011.0</td>\n",
       "    </tr>\n",
       "    <tr>\n",
       "      <th>DS</th>\n",
       "      <td>2122.0</td>\n",
       "      <td>2008.185203</td>\n",
       "      <td>1.778150</td>\n",
       "      <td>1985.0</td>\n",
       "      <td>2007.00</td>\n",
       "      <td>2008.0</td>\n",
       "      <td>2009.00</td>\n",
       "      <td>2013.0</td>\n",
       "    </tr>\n",
       "    <tr>\n",
       "      <th>PS3</th>\n",
       "      <td>1306.0</td>\n",
       "      <td>2010.840735</td>\n",
       "      <td>2.459616</td>\n",
       "      <td>2006.0</td>\n",
       "      <td>2009.00</td>\n",
       "      <td>2011.0</td>\n",
       "      <td>2013.00</td>\n",
       "      <td>2016.0</td>\n",
       "    </tr>\n",
       "    <tr>\n",
       "      <th>Wii</th>\n",
       "      <td>1286.0</td>\n",
       "      <td>2008.966563</td>\n",
       "      <td>1.542034</td>\n",
       "      <td>2006.0</td>\n",
       "      <td>2008.00</td>\n",
       "      <td>2009.0</td>\n",
       "      <td>2010.00</td>\n",
       "      <td>2016.0</td>\n",
       "    </tr>\n",
       "    <tr>\n",
       "      <th>X360</th>\n",
       "      <td>1234.0</td>\n",
       "      <td>2009.879254</td>\n",
       "      <td>2.457920</td>\n",
       "      <td>2005.0</td>\n",
       "      <td>2008.00</td>\n",
       "      <td>2010.0</td>\n",
       "      <td>2011.00</td>\n",
       "      <td>2016.0</td>\n",
       "    </tr>\n",
       "    <tr>\n",
       "      <th>PSP</th>\n",
       "      <td>1195.0</td>\n",
       "      <td>2008.731381</td>\n",
       "      <td>2.432123</td>\n",
       "      <td>2004.0</td>\n",
       "      <td>2006.50</td>\n",
       "      <td>2009.0</td>\n",
       "      <td>2011.00</td>\n",
       "      <td>2015.0</td>\n",
       "    </tr>\n",
       "    <tr>\n",
       "      <th>PS</th>\n",
       "      <td>1190.0</td>\n",
       "      <td>1998.005882</td>\n",
       "      <td>1.848091</td>\n",
       "      <td>1994.0</td>\n",
       "      <td>1997.00</td>\n",
       "      <td>1998.0</td>\n",
       "      <td>1999.00</td>\n",
       "      <td>2003.0</td>\n",
       "    </tr>\n",
       "    <tr>\n",
       "      <th>PC</th>\n",
       "      <td>958.0</td>\n",
       "      <td>2008.918580</td>\n",
       "      <td>4.642457</td>\n",
       "      <td>1985.0</td>\n",
       "      <td>2007.00</td>\n",
       "      <td>2010.0</td>\n",
       "      <td>2012.00</td>\n",
       "      <td>2016.0</td>\n",
       "    </tr>\n",
       "    <tr>\n",
       "      <th>GBA</th>\n",
       "      <td>811.0</td>\n",
       "      <td>2003.210851</td>\n",
       "      <td>1.474451</td>\n",
       "      <td>2000.0</td>\n",
       "      <td>2002.00</td>\n",
       "      <td>2003.0</td>\n",
       "      <td>2004.00</td>\n",
       "      <td>2007.0</td>\n",
       "    </tr>\n",
       "    <tr>\n",
       "      <th>XB</th>\n",
       "      <td>806.0</td>\n",
       "      <td>2003.635236</td>\n",
       "      <td>1.366302</td>\n",
       "      <td>2000.0</td>\n",
       "      <td>2003.00</td>\n",
       "      <td>2004.0</td>\n",
       "      <td>2005.00</td>\n",
       "      <td>2008.0</td>\n",
       "    </tr>\n",
       "    <tr>\n",
       "      <th>GC</th>\n",
       "      <td>543.0</td>\n",
       "      <td>2003.399632</td>\n",
       "      <td>1.390718</td>\n",
       "      <td>2001.0</td>\n",
       "      <td>2002.00</td>\n",
       "      <td>2003.0</td>\n",
       "      <td>2005.00</td>\n",
       "      <td>2007.0</td>\n",
       "    </tr>\n",
       "    <tr>\n",
       "      <th>3DS</th>\n",
       "      <td>512.0</td>\n",
       "      <td>2013.126953</td>\n",
       "      <td>1.647359</td>\n",
       "      <td>2011.0</td>\n",
       "      <td>2012.00</td>\n",
       "      <td>2013.0</td>\n",
       "      <td>2015.00</td>\n",
       "      <td>2016.0</td>\n",
       "    </tr>\n",
       "    <tr>\n",
       "      <th>PSV</th>\n",
       "      <td>429.0</td>\n",
       "      <td>2014.132867</td>\n",
       "      <td>1.433435</td>\n",
       "      <td>2011.0</td>\n",
       "      <td>2013.00</td>\n",
       "      <td>2014.0</td>\n",
       "      <td>2015.00</td>\n",
       "      <td>2016.0</td>\n",
       "    </tr>\n",
       "    <tr>\n",
       "      <th>PS4</th>\n",
       "      <td>392.0</td>\n",
       "      <td>2015.145408</td>\n",
       "      <td>0.868181</td>\n",
       "      <td>2013.0</td>\n",
       "      <td>2015.00</td>\n",
       "      <td>2015.0</td>\n",
       "      <td>2016.00</td>\n",
       "      <td>2016.0</td>\n",
       "    </tr>\n",
       "    <tr>\n",
       "      <th>N64</th>\n",
       "      <td>316.0</td>\n",
       "      <td>1998.531646</td>\n",
       "      <td>1.222388</td>\n",
       "      <td>1996.0</td>\n",
       "      <td>1998.00</td>\n",
       "      <td>1999.0</td>\n",
       "      <td>1999.00</td>\n",
       "      <td>2002.0</td>\n",
       "    </tr>\n",
       "    <tr>\n",
       "      <th>XOne</th>\n",
       "      <td>247.0</td>\n",
       "      <td>2014.951417</td>\n",
       "      <td>0.952995</td>\n",
       "      <td>2013.0</td>\n",
       "      <td>2014.00</td>\n",
       "      <td>2015.0</td>\n",
       "      <td>2016.00</td>\n",
       "      <td>2016.0</td>\n",
       "    </tr>\n",
       "    <tr>\n",
       "      <th>SNES</th>\n",
       "      <td>239.0</td>\n",
       "      <td>1993.845188</td>\n",
       "      <td>1.679426</td>\n",
       "      <td>1990.0</td>\n",
       "      <td>1993.00</td>\n",
       "      <td>1994.0</td>\n",
       "      <td>1995.00</td>\n",
       "      <td>1999.0</td>\n",
       "    </tr>\n",
       "    <tr>\n",
       "      <th>SAT</th>\n",
       "      <td>173.0</td>\n",
       "      <td>1996.028902</td>\n",
       "      <td>1.291420</td>\n",
       "      <td>1994.0</td>\n",
       "      <td>1995.00</td>\n",
       "      <td>1996.0</td>\n",
       "      <td>1997.00</td>\n",
       "      <td>1999.0</td>\n",
       "    </tr>\n",
       "    <tr>\n",
       "      <th>WiiU</th>\n",
       "      <td>147.0</td>\n",
       "      <td>2013.659864</td>\n",
       "      <td>1.274065</td>\n",
       "      <td>2012.0</td>\n",
       "      <td>2013.00</td>\n",
       "      <td>2013.0</td>\n",
       "      <td>2015.00</td>\n",
       "      <td>2016.0</td>\n",
       "    </tr>\n",
       "    <tr>\n",
       "      <th>2600</th>\n",
       "      <td>116.0</td>\n",
       "      <td>1982.137931</td>\n",
       "      <td>1.990834</td>\n",
       "      <td>1980.0</td>\n",
       "      <td>1981.00</td>\n",
       "      <td>1982.0</td>\n",
       "      <td>1982.00</td>\n",
       "      <td>1989.0</td>\n",
       "    </tr>\n",
       "    <tr>\n",
       "      <th>NES</th>\n",
       "      <td>98.0</td>\n",
       "      <td>1987.153061</td>\n",
       "      <td>2.793040</td>\n",
       "      <td>1983.0</td>\n",
       "      <td>1985.00</td>\n",
       "      <td>1986.5</td>\n",
       "      <td>1989.00</td>\n",
       "      <td>1994.0</td>\n",
       "    </tr>\n",
       "    <tr>\n",
       "      <th>GB</th>\n",
       "      <td>97.0</td>\n",
       "      <td>1995.958763</td>\n",
       "      <td>4.178111</td>\n",
       "      <td>1988.0</td>\n",
       "      <td>1992.00</td>\n",
       "      <td>1997.0</td>\n",
       "      <td>2000.00</td>\n",
       "      <td>2001.0</td>\n",
       "    </tr>\n",
       "    <tr>\n",
       "      <th>DC</th>\n",
       "      <td>52.0</td>\n",
       "      <td>1999.942308</td>\n",
       "      <td>1.808623</td>\n",
       "      <td>1998.0</td>\n",
       "      <td>1999.00</td>\n",
       "      <td>2000.0</td>\n",
       "      <td>2000.00</td>\n",
       "      <td>2008.0</td>\n",
       "    </tr>\n",
       "    <tr>\n",
       "      <th>GEN</th>\n",
       "      <td>29.0</td>\n",
       "      <td>1993.034483</td>\n",
       "      <td>1.051623</td>\n",
       "      <td>1990.0</td>\n",
       "      <td>1992.00</td>\n",
       "      <td>1993.0</td>\n",
       "      <td>1994.00</td>\n",
       "      <td>1994.0</td>\n",
       "    </tr>\n",
       "    <tr>\n",
       "      <th>NG</th>\n",
       "      <td>12.0</td>\n",
       "      <td>1994.500000</td>\n",
       "      <td>1.000000</td>\n",
       "      <td>1993.0</td>\n",
       "      <td>1994.00</td>\n",
       "      <td>1994.5</td>\n",
       "      <td>1995.00</td>\n",
       "      <td>1996.0</td>\n",
       "    </tr>\n",
       "    <tr>\n",
       "      <th>SCD</th>\n",
       "      <td>6.0</td>\n",
       "      <td>1993.833333</td>\n",
       "      <td>0.408248</td>\n",
       "      <td>1993.0</td>\n",
       "      <td>1994.00</td>\n",
       "      <td>1994.0</td>\n",
       "      <td>1994.00</td>\n",
       "      <td>1994.0</td>\n",
       "    </tr>\n",
       "    <tr>\n",
       "      <th>WS</th>\n",
       "      <td>6.0</td>\n",
       "      <td>2000.000000</td>\n",
       "      <td>0.894427</td>\n",
       "      <td>1999.0</td>\n",
       "      <td>1999.25</td>\n",
       "      <td>2000.0</td>\n",
       "      <td>2000.75</td>\n",
       "      <td>2001.0</td>\n",
       "    </tr>\n",
       "    <tr>\n",
       "      <th>3DO</th>\n",
       "      <td>3.0</td>\n",
       "      <td>1994.666667</td>\n",
       "      <td>0.577350</td>\n",
       "      <td>1994.0</td>\n",
       "      <td>1994.50</td>\n",
       "      <td>1995.0</td>\n",
       "      <td>1995.00</td>\n",
       "      <td>1995.0</td>\n",
       "    </tr>\n",
       "    <tr>\n",
       "      <th>TG16</th>\n",
       "      <td>2.0</td>\n",
       "      <td>1995.000000</td>\n",
       "      <td>0.000000</td>\n",
       "      <td>1995.0</td>\n",
       "      <td>1995.00</td>\n",
       "      <td>1995.0</td>\n",
       "      <td>1995.00</td>\n",
       "      <td>1995.0</td>\n",
       "    </tr>\n",
       "    <tr>\n",
       "      <th>PCFX</th>\n",
       "      <td>1.0</td>\n",
       "      <td>1996.000000</td>\n",
       "      <td>NaN</td>\n",
       "      <td>1996.0</td>\n",
       "      <td>1996.00</td>\n",
       "      <td>1996.0</td>\n",
       "      <td>1996.00</td>\n",
       "      <td>1996.0</td>\n",
       "    </tr>\n",
       "    <tr>\n",
       "      <th>GG</th>\n",
       "      <td>1.0</td>\n",
       "      <td>1992.000000</td>\n",
       "      <td>NaN</td>\n",
       "      <td>1992.0</td>\n",
       "      <td>1992.00</td>\n",
       "      <td>1992.0</td>\n",
       "      <td>1992.00</td>\n",
       "      <td>1992.0</td>\n",
       "    </tr>\n",
       "  </tbody>\n",
       "</table>\n",
       "</div>"
      ],
      "text/plain": [
       "           count         mean       std     min      25%     50%      75%  \\\n",
       "platform                                                                    \n",
       "PS2       2134.0  2004.583411  2.564375  2000.0  2002.00  2005.0  2007.00   \n",
       "DS        2122.0  2008.185203  1.778150  1985.0  2007.00  2008.0  2009.00   \n",
       "PS3       1306.0  2010.840735  2.459616  2006.0  2009.00  2011.0  2013.00   \n",
       "Wii       1286.0  2008.966563  1.542034  2006.0  2008.00  2009.0  2010.00   \n",
       "X360      1234.0  2009.879254  2.457920  2005.0  2008.00  2010.0  2011.00   \n",
       "PSP       1195.0  2008.731381  2.432123  2004.0  2006.50  2009.0  2011.00   \n",
       "PS        1190.0  1998.005882  1.848091  1994.0  1997.00  1998.0  1999.00   \n",
       "PC         958.0  2008.918580  4.642457  1985.0  2007.00  2010.0  2012.00   \n",
       "GBA        811.0  2003.210851  1.474451  2000.0  2002.00  2003.0  2004.00   \n",
       "XB         806.0  2003.635236  1.366302  2000.0  2003.00  2004.0  2005.00   \n",
       "GC         543.0  2003.399632  1.390718  2001.0  2002.00  2003.0  2005.00   \n",
       "3DS        512.0  2013.126953  1.647359  2011.0  2012.00  2013.0  2015.00   \n",
       "PSV        429.0  2014.132867  1.433435  2011.0  2013.00  2014.0  2015.00   \n",
       "PS4        392.0  2015.145408  0.868181  2013.0  2015.00  2015.0  2016.00   \n",
       "N64        316.0  1998.531646  1.222388  1996.0  1998.00  1999.0  1999.00   \n",
       "XOne       247.0  2014.951417  0.952995  2013.0  2014.00  2015.0  2016.00   \n",
       "SNES       239.0  1993.845188  1.679426  1990.0  1993.00  1994.0  1995.00   \n",
       "SAT        173.0  1996.028902  1.291420  1994.0  1995.00  1996.0  1997.00   \n",
       "WiiU       147.0  2013.659864  1.274065  2012.0  2013.00  2013.0  2015.00   \n",
       "2600       116.0  1982.137931  1.990834  1980.0  1981.00  1982.0  1982.00   \n",
       "NES         98.0  1987.153061  2.793040  1983.0  1985.00  1986.5  1989.00   \n",
       "GB          97.0  1995.958763  4.178111  1988.0  1992.00  1997.0  2000.00   \n",
       "DC          52.0  1999.942308  1.808623  1998.0  1999.00  2000.0  2000.00   \n",
       "GEN         29.0  1993.034483  1.051623  1990.0  1992.00  1993.0  1994.00   \n",
       "NG          12.0  1994.500000  1.000000  1993.0  1994.00  1994.5  1995.00   \n",
       "SCD          6.0  1993.833333  0.408248  1993.0  1994.00  1994.0  1994.00   \n",
       "WS           6.0  2000.000000  0.894427  1999.0  1999.25  2000.0  2000.75   \n",
       "3DO          3.0  1994.666667  0.577350  1994.0  1994.50  1995.0  1995.00   \n",
       "TG16         2.0  1995.000000  0.000000  1995.0  1995.00  1995.0  1995.00   \n",
       "PCFX         1.0  1996.000000       NaN  1996.0  1996.00  1996.0  1996.00   \n",
       "GG           1.0  1992.000000       NaN  1992.0  1992.00  1992.0  1992.00   \n",
       "\n",
       "             max  \n",
       "platform          \n",
       "PS2       2011.0  \n",
       "DS        2013.0  \n",
       "PS3       2016.0  \n",
       "Wii       2016.0  \n",
       "X360      2016.0  \n",
       "PSP       2015.0  \n",
       "PS        2003.0  \n",
       "PC        2016.0  \n",
       "GBA       2007.0  \n",
       "XB        2008.0  \n",
       "GC        2007.0  \n",
       "3DS       2016.0  \n",
       "PSV       2016.0  \n",
       "PS4       2016.0  \n",
       "N64       2002.0  \n",
       "XOne      2016.0  \n",
       "SNES      1999.0  \n",
       "SAT       1999.0  \n",
       "WiiU      2016.0  \n",
       "2600      1989.0  \n",
       "NES       1994.0  \n",
       "GB        2001.0  \n",
       "DC        2008.0  \n",
       "GEN       1994.0  \n",
       "NG        1996.0  \n",
       "SCD       1994.0  \n",
       "WS        2001.0  \n",
       "3DO       1995.0  \n",
       "TG16      1995.0  \n",
       "PCFX      1996.0  \n",
       "GG        1992.0  "
      ]
     },
     "execution_count": 35,
     "metadata": {},
     "output_type": "execute_result"
    }
   ],
   "source": [
    "valued_years_stat = games[games['year'] != 0].groupby('platform')['year'].describe().sort_values(by='count',ascending=False)\n",
    "valued_years_stat # statistics for valued years distribution over platforms"
   ]
  },
  {
   "cell_type": "code",
   "execution_count": 36,
   "id": "94a472fe",
   "metadata": {},
   "outputs": [],
   "source": [
    "valued_years_stat.loc['GG','std'] = 0 # std is 0 as there's only one sample for those platforms\n",
    "valued_years_stat.loc['PCFX','std'] = 0"
   ]
  },
  {
   "cell_type": "code",
   "execution_count": 37,
   "id": "784e8246",
   "metadata": {},
   "outputs": [
    {
     "data": {
      "text/html": [
       "<div>\n",
       "<style scoped>\n",
       "    .dataframe tbody tr th:only-of-type {\n",
       "        vertical-align: middle;\n",
       "    }\n",
       "\n",
       "    .dataframe tbody tr th {\n",
       "        vertical-align: top;\n",
       "    }\n",
       "\n",
       "    .dataframe thead th {\n",
       "        text-align: right;\n",
       "    }\n",
       "</style>\n",
       "<table border=\"1\" class=\"dataframe\">\n",
       "  <thead>\n",
       "    <tr style=\"text-align: right;\">\n",
       "      <th></th>\n",
       "      <th>count</th>\n",
       "      <th>mean</th>\n",
       "      <th>std</th>\n",
       "      <th>min</th>\n",
       "      <th>25%</th>\n",
       "      <th>50%</th>\n",
       "      <th>75%</th>\n",
       "      <th>max</th>\n",
       "    </tr>\n",
       "    <tr>\n",
       "      <th>platform</th>\n",
       "      <th></th>\n",
       "      <th></th>\n",
       "      <th></th>\n",
       "      <th></th>\n",
       "      <th></th>\n",
       "      <th></th>\n",
       "      <th></th>\n",
       "      <th></th>\n",
       "    </tr>\n",
       "  </thead>\n",
       "  <tbody>\n",
       "    <tr>\n",
       "      <th>PS2</th>\n",
       "      <td>2134.0</td>\n",
       "      <td>2004.583411</td>\n",
       "      <td>2.564375</td>\n",
       "      <td>2000.0</td>\n",
       "      <td>2002.0</td>\n",
       "      <td>2005.0</td>\n",
       "      <td>2007.0</td>\n",
       "      <td>2011.0</td>\n",
       "    </tr>\n",
       "    <tr>\n",
       "      <th>PS3</th>\n",
       "      <td>1306.0</td>\n",
       "      <td>2010.840735</td>\n",
       "      <td>2.459616</td>\n",
       "      <td>2006.0</td>\n",
       "      <td>2009.0</td>\n",
       "      <td>2011.0</td>\n",
       "      <td>2013.0</td>\n",
       "      <td>2016.0</td>\n",
       "    </tr>\n",
       "    <tr>\n",
       "      <th>X360</th>\n",
       "      <td>1234.0</td>\n",
       "      <td>2009.879254</td>\n",
       "      <td>2.457920</td>\n",
       "      <td>2005.0</td>\n",
       "      <td>2008.0</td>\n",
       "      <td>2010.0</td>\n",
       "      <td>2011.0</td>\n",
       "      <td>2016.0</td>\n",
       "    </tr>\n",
       "    <tr>\n",
       "      <th>PSP</th>\n",
       "      <td>1195.0</td>\n",
       "      <td>2008.731381</td>\n",
       "      <td>2.432123</td>\n",
       "      <td>2004.0</td>\n",
       "      <td>2006.5</td>\n",
       "      <td>2009.0</td>\n",
       "      <td>2011.0</td>\n",
       "      <td>2015.0</td>\n",
       "    </tr>\n",
       "    <tr>\n",
       "      <th>PC</th>\n",
       "      <td>958.0</td>\n",
       "      <td>2008.918580</td>\n",
       "      <td>4.642457</td>\n",
       "      <td>1985.0</td>\n",
       "      <td>2007.0</td>\n",
       "      <td>2010.0</td>\n",
       "      <td>2012.0</td>\n",
       "      <td>2016.0</td>\n",
       "    </tr>\n",
       "    <tr>\n",
       "      <th>NES</th>\n",
       "      <td>98.0</td>\n",
       "      <td>1987.153061</td>\n",
       "      <td>2.793040</td>\n",
       "      <td>1983.0</td>\n",
       "      <td>1985.0</td>\n",
       "      <td>1986.5</td>\n",
       "      <td>1989.0</td>\n",
       "      <td>1994.0</td>\n",
       "    </tr>\n",
       "    <tr>\n",
       "      <th>GB</th>\n",
       "      <td>97.0</td>\n",
       "      <td>1995.958763</td>\n",
       "      <td>4.178111</td>\n",
       "      <td>1988.0</td>\n",
       "      <td>1992.0</td>\n",
       "      <td>1997.0</td>\n",
       "      <td>2000.0</td>\n",
       "      <td>2001.0</td>\n",
       "    </tr>\n",
       "  </tbody>\n",
       "</table>\n",
       "</div>"
      ],
      "text/plain": [
       "           count         mean       std     min     25%     50%     75%  \\\n",
       "platform                                                                  \n",
       "PS2       2134.0  2004.583411  2.564375  2000.0  2002.0  2005.0  2007.0   \n",
       "PS3       1306.0  2010.840735  2.459616  2006.0  2009.0  2011.0  2013.0   \n",
       "X360      1234.0  2009.879254  2.457920  2005.0  2008.0  2010.0  2011.0   \n",
       "PSP       1195.0  2008.731381  2.432123  2004.0  2006.5  2009.0  2011.0   \n",
       "PC         958.0  2008.918580  4.642457  1985.0  2007.0  2010.0  2012.0   \n",
       "NES         98.0  1987.153061  2.793040  1983.0  1985.0  1986.5  1989.0   \n",
       "GB          97.0  1995.958763  4.178111  1988.0  1992.0  1997.0  2000.0   \n",
       "\n",
       "             max  \n",
       "platform          \n",
       "PS2       2011.0  \n",
       "PS3       2016.0  \n",
       "X360      2016.0  \n",
       "PSP       2015.0  \n",
       "PC        2016.0  \n",
       "NES       1994.0  \n",
       "GB        2001.0  "
      ]
     },
     "execution_count": 37,
     "metadata": {},
     "output_type": "execute_result"
    }
   ],
   "source": [
    "valued_years_stat[valued_years_stat['std'] > 2]"
   ]
  },
  {
   "cell_type": "markdown",
   "id": "b9f2c42e",
   "metadata": {},
   "source": [
    "As witnessed by looking at differences between min to max, and between 25% to 75%, all 7 platforms are pretty concentrated, especially between Q1 to Q3. Thats enough to justify filling their respective missing year values with their median."
   ]
  },
  {
   "cell_type": "code",
   "execution_count": 38,
   "id": "6834e836",
   "metadata": {},
   "outputs": [],
   "source": [
    "games['year'] = games['year'].replace(0,np.nan) # so fillna() will work.\n",
    "games['year'] = games.groupby('platform')['year'].transform(lambda x: x.fillna(x.median()))"
   ]
  },
  {
   "cell_type": "code",
   "execution_count": 39,
   "id": "38173947",
   "metadata": {},
   "outputs": [
    {
     "data": {
      "text/html": [
       "<div>\n",
       "<style scoped>\n",
       "    .dataframe tbody tr th:only-of-type {\n",
       "        vertical-align: middle;\n",
       "    }\n",
       "\n",
       "    .dataframe tbody tr th {\n",
       "        vertical-align: top;\n",
       "    }\n",
       "\n",
       "    .dataframe thead th {\n",
       "        text-align: right;\n",
       "    }\n",
       "</style>\n",
       "<table border=\"1\" class=\"dataframe\">\n",
       "  <thead>\n",
       "    <tr style=\"text-align: right;\">\n",
       "      <th></th>\n",
       "      <th>name</th>\n",
       "      <th>platform</th>\n",
       "      <th>year</th>\n",
       "      <th>genre</th>\n",
       "      <th>na_sales</th>\n",
       "      <th>eu_sales</th>\n",
       "      <th>jp_sales</th>\n",
       "      <th>other_sales</th>\n",
       "      <th>critic_score</th>\n",
       "      <th>user_score</th>\n",
       "      <th>rating</th>\n",
       "    </tr>\n",
       "  </thead>\n",
       "  <tbody>\n",
       "    <tr>\n",
       "      <th>0</th>\n",
       "      <td>Wii Sports</td>\n",
       "      <td>Wii</td>\n",
       "      <td>2006.0</td>\n",
       "      <td>Sports</td>\n",
       "      <td>41.36</td>\n",
       "      <td>28.96</td>\n",
       "      <td>3.77</td>\n",
       "      <td>8.45</td>\n",
       "      <td>76</td>\n",
       "      <td>8.0</td>\n",
       "      <td>E</td>\n",
       "    </tr>\n",
       "    <tr>\n",
       "      <th>1</th>\n",
       "      <td>Super Mario Bros.</td>\n",
       "      <td>NES</td>\n",
       "      <td>1985.0</td>\n",
       "      <td>Platform</td>\n",
       "      <td>29.08</td>\n",
       "      <td>3.58</td>\n",
       "      <td>6.81</td>\n",
       "      <td>0.77</td>\n",
       "      <td>-1</td>\n",
       "      <td>NaN</td>\n",
       "      <td>nan</td>\n",
       "    </tr>\n",
       "    <tr>\n",
       "      <th>2</th>\n",
       "      <td>Mario Kart Wii</td>\n",
       "      <td>Wii</td>\n",
       "      <td>2008.0</td>\n",
       "      <td>Racing</td>\n",
       "      <td>15.68</td>\n",
       "      <td>12.76</td>\n",
       "      <td>3.79</td>\n",
       "      <td>3.29</td>\n",
       "      <td>82</td>\n",
       "      <td>8.3</td>\n",
       "      <td>E</td>\n",
       "    </tr>\n",
       "    <tr>\n",
       "      <th>3</th>\n",
       "      <td>Wii Sports Resort</td>\n",
       "      <td>Wii</td>\n",
       "      <td>2009.0</td>\n",
       "      <td>Sports</td>\n",
       "      <td>15.61</td>\n",
       "      <td>10.93</td>\n",
       "      <td>3.28</td>\n",
       "      <td>2.95</td>\n",
       "      <td>80</td>\n",
       "      <td>8.0</td>\n",
       "      <td>E</td>\n",
       "    </tr>\n",
       "    <tr>\n",
       "      <th>4</th>\n",
       "      <td>Pokemon Red/Pokemon Blue</td>\n",
       "      <td>GB</td>\n",
       "      <td>1996.0</td>\n",
       "      <td>Role-Playing</td>\n",
       "      <td>11.27</td>\n",
       "      <td>8.89</td>\n",
       "      <td>10.22</td>\n",
       "      <td>1.00</td>\n",
       "      <td>-1</td>\n",
       "      <td>NaN</td>\n",
       "      <td>nan</td>\n",
       "    </tr>\n",
       "    <tr>\n",
       "      <th>...</th>\n",
       "      <td>...</td>\n",
       "      <td>...</td>\n",
       "      <td>...</td>\n",
       "      <td>...</td>\n",
       "      <td>...</td>\n",
       "      <td>...</td>\n",
       "      <td>...</td>\n",
       "      <td>...</td>\n",
       "      <td>...</td>\n",
       "      <td>...</td>\n",
       "      <td>...</td>\n",
       "    </tr>\n",
       "    <tr>\n",
       "      <th>16710</th>\n",
       "      <td>Samurai Warriors: Sanada Maru</td>\n",
       "      <td>PS3</td>\n",
       "      <td>2016.0</td>\n",
       "      <td>Action</td>\n",
       "      <td>0.00</td>\n",
       "      <td>0.00</td>\n",
       "      <td>0.01</td>\n",
       "      <td>0.00</td>\n",
       "      <td>-1</td>\n",
       "      <td>NaN</td>\n",
       "      <td>nan</td>\n",
       "    </tr>\n",
       "    <tr>\n",
       "      <th>16711</th>\n",
       "      <td>LMA Manager 2007</td>\n",
       "      <td>X360</td>\n",
       "      <td>2006.0</td>\n",
       "      <td>Sports</td>\n",
       "      <td>0.00</td>\n",
       "      <td>0.01</td>\n",
       "      <td>0.00</td>\n",
       "      <td>0.00</td>\n",
       "      <td>-1</td>\n",
       "      <td>NaN</td>\n",
       "      <td>nan</td>\n",
       "    </tr>\n",
       "    <tr>\n",
       "      <th>16712</th>\n",
       "      <td>Haitaka no Psychedelica</td>\n",
       "      <td>PSV</td>\n",
       "      <td>2016.0</td>\n",
       "      <td>Adventure</td>\n",
       "      <td>0.00</td>\n",
       "      <td>0.00</td>\n",
       "      <td>0.01</td>\n",
       "      <td>0.00</td>\n",
       "      <td>-1</td>\n",
       "      <td>NaN</td>\n",
       "      <td>nan</td>\n",
       "    </tr>\n",
       "    <tr>\n",
       "      <th>16713</th>\n",
       "      <td>Spirits &amp; Spells</td>\n",
       "      <td>GBA</td>\n",
       "      <td>2003.0</td>\n",
       "      <td>Platform</td>\n",
       "      <td>0.01</td>\n",
       "      <td>0.00</td>\n",
       "      <td>0.00</td>\n",
       "      <td>0.00</td>\n",
       "      <td>-1</td>\n",
       "      <td>NaN</td>\n",
       "      <td>nan</td>\n",
       "    </tr>\n",
       "    <tr>\n",
       "      <th>16714</th>\n",
       "      <td>Winning Post 8 2016</td>\n",
       "      <td>PSV</td>\n",
       "      <td>2016.0</td>\n",
       "      <td>Simulation</td>\n",
       "      <td>0.00</td>\n",
       "      <td>0.00</td>\n",
       "      <td>0.01</td>\n",
       "      <td>0.00</td>\n",
       "      <td>-1</td>\n",
       "      <td>NaN</td>\n",
       "      <td>nan</td>\n",
       "    </tr>\n",
       "  </tbody>\n",
       "</table>\n",
       "<p>16715 rows × 11 columns</p>\n",
       "</div>"
      ],
      "text/plain": [
       "                                name platform    year         genre  na_sales  \\\n",
       "0                         Wii Sports      Wii  2006.0        Sports     41.36   \n",
       "1                  Super Mario Bros.      NES  1985.0      Platform     29.08   \n",
       "2                     Mario Kart Wii      Wii  2008.0        Racing     15.68   \n",
       "3                  Wii Sports Resort      Wii  2009.0        Sports     15.61   \n",
       "4           Pokemon Red/Pokemon Blue       GB  1996.0  Role-Playing     11.27   \n",
       "...                              ...      ...     ...           ...       ...   \n",
       "16710  Samurai Warriors: Sanada Maru      PS3  2016.0        Action      0.00   \n",
       "16711               LMA Manager 2007     X360  2006.0        Sports      0.00   \n",
       "16712        Haitaka no Psychedelica      PSV  2016.0     Adventure      0.00   \n",
       "16713               Spirits & Spells      GBA  2003.0      Platform      0.01   \n",
       "16714            Winning Post 8 2016      PSV  2016.0    Simulation      0.00   \n",
       "\n",
       "       eu_sales  jp_sales  other_sales  critic_score  user_score rating  \n",
       "0         28.96      3.77         8.45            76         8.0      E  \n",
       "1          3.58      6.81         0.77            -1         NaN    nan  \n",
       "2         12.76      3.79         3.29            82         8.3      E  \n",
       "3         10.93      3.28         2.95            80         8.0      E  \n",
       "4          8.89     10.22         1.00            -1         NaN    nan  \n",
       "...         ...       ...          ...           ...         ...    ...  \n",
       "16710      0.00      0.01         0.00            -1         NaN    nan  \n",
       "16711      0.01      0.00         0.00            -1         NaN    nan  \n",
       "16712      0.00      0.01         0.00            -1         NaN    nan  \n",
       "16713      0.00      0.00         0.00            -1         NaN    nan  \n",
       "16714      0.00      0.01         0.00            -1         NaN    nan  \n",
       "\n",
       "[16715 rows x 11 columns]"
      ]
     },
     "execution_count": 39,
     "metadata": {},
     "output_type": "execute_result"
    }
   ],
   "source": [
    "games[games['year'] != 0]"
   ]
  },
  {
   "cell_type": "code",
   "execution_count": 40,
   "id": "d65bcd7c",
   "metadata": {},
   "outputs": [],
   "source": [
    "# 'year' column changed its type to float when 0 was replaced by nan\n",
    "# bring it back to int\n",
    "games['year'] = games['year'].astype('int64')"
   ]
  },
  {
   "cell_type": "code",
   "execution_count": 41,
   "id": "6f9ba2f6",
   "metadata": {},
   "outputs": [
    {
     "name": "stdout",
     "output_type": "stream",
     "text": [
      "0\n"
     ]
    }
   ],
   "source": [
    "print(games['year'].isna().sum())"
   ]
  },
  {
   "cell_type": "markdown",
   "id": "e437e5c8",
   "metadata": {},
   "source": [
    "`year` column is entirely filled"
   ]
  },
  {
   "cell_type": "markdown",
   "id": "7eda8926",
   "metadata": {},
   "source": [
    "### Rating missing values"
   ]
  },
  {
   "cell_type": "code",
   "execution_count": 42,
   "id": "967a4616",
   "metadata": {},
   "outputs": [
    {
     "data": {
      "text/plain": [
       "nan     6766\n",
       "E       3990\n",
       "T       2961\n",
       "M       1563\n",
       "E10+    1420\n",
       "EC         8\n",
       "K-A        3\n",
       "RP         3\n",
       "AO         1\n",
       "Name: rating, dtype: int64"
      ]
     },
     "execution_count": 42,
     "metadata": {},
     "output_type": "execute_result"
    }
   ],
   "source": [
    "games[games['rating'] == 'unknown'] # seems 'unknown' is clear\n",
    "games.loc[games['rating'].isna(),'rating'] = 'unknown'\n",
    "missed_ratings = games[games['rating'] == 'unknown']\n",
    "games.rating.value_counts()"
   ]
  },
  {
   "cell_type": "markdown",
   "id": "a61de906",
   "metadata": {},
   "source": [
    "<div style=\"font-size:20px;\">A lot of unknowns. Genre is the only column with a logical common sense connection to rating - as it reflects the level of violence in the game. While rating likely has an effect on sales, and might have a connection to year and platform, none of them can be used to fill missing ratings, as it violates rules of common sense. Therefore, the task is to examine whether valued and unknown ratings distribute across genres the same. If they do, rating unknowns could be replaced by the most frequent rating for the relevant genre. If not, rating unknowns wont be replaced</div>"
   ]
  },
  {
   "cell_type": "code",
   "execution_count": 43,
   "id": "812141df",
   "metadata": {},
   "outputs": [],
   "source": [
    "valued_ratings = games.merge(missed_ratings, how='outer', indicator=True).query('_merge == \"left_only\"').drop('_merge', 1)\n",
    "valued_ratings\n",
    "valued_ratings = valued_ratings.groupby('genre')['rating'].count().to_frame().add_suffix('').reset_index().rename(columns={'rating':'valued_rating'})\n",
    "missed_ratings = missed_ratings.groupby('genre')['rating'].count().to_frame().add_suffix('').reset_index().rename(columns={'rating':'unknown_rating'})"
   ]
  },
  {
   "cell_type": "code",
   "execution_count": 44,
   "id": "118bd791",
   "metadata": {},
   "outputs": [
    {
     "data": {
      "text/html": [
       "<div>\n",
       "<style scoped>\n",
       "    .dataframe tbody tr th:only-of-type {\n",
       "        vertical-align: middle;\n",
       "    }\n",
       "\n",
       "    .dataframe tbody tr th {\n",
       "        vertical-align: top;\n",
       "    }\n",
       "\n",
       "    .dataframe thead th {\n",
       "        text-align: right;\n",
       "    }\n",
       "</style>\n",
       "<table border=\"1\" class=\"dataframe\">\n",
       "  <thead>\n",
       "    <tr style=\"text-align: right;\">\n",
       "      <th></th>\n",
       "      <th>genre</th>\n",
       "      <th>valued_rating</th>\n",
       "      <th>unknown_rating</th>\n",
       "    </tr>\n",
       "  </thead>\n",
       "  <tbody>\n",
       "  </tbody>\n",
       "</table>\n",
       "</div>"
      ],
      "text/plain": [
       "Empty DataFrame\n",
       "Columns: [genre, valued_rating, unknown_rating]\n",
       "Index: []"
      ]
     },
     "execution_count": 44,
     "metadata": {},
     "output_type": "execute_result"
    }
   ],
   "source": [
    "merged_rating = valued_ratings.merge(missed_ratings,how='inner',on='genre')\n",
    "va = merged_rating.valued_rating.sum()\n",
    "mi = merged_rating.unknown_rating.sum() # its not all type of platforms so about 1408 rows are left out of both sums\n",
    "merged_rating['valued_rating'] = merged_rating['valued_rating'] / va * 100\n",
    "merged_rating['unknown_rating'] = merged_rating['unknown_rating'] / mi * 100\n",
    "merged_rating"
   ]
  },
  {
   "cell_type": "markdown",
   "id": "28022851",
   "metadata": {},
   "source": [
    "<div style=\"font-size:20px;\">The match is not that good. Ratings have a lot of missing values, about 40%, so a partially good match for 60% of the data is not good enough. So, unknown ratings will remain.</div>"
   ]
  },
  {
   "cell_type": "markdown",
   "id": "9ccde4c3",
   "metadata": {},
   "source": [
    "### Critic_score missing values"
   ]
  },
  {
   "cell_type": "code",
   "execution_count": 45,
   "id": "fb8e8679",
   "metadata": {},
   "outputs": [
    {
     "data": {
      "text/plain": [
       "-1     6663\n",
       " 68       4\n",
       " 88       3\n",
       " 66       3\n",
       " 87       2\n",
       " 54       2\n",
       " 83       2\n",
       " 72       2\n",
       " 57       2\n",
       " 65       2\n",
       " 62       2\n",
       " 79       1\n",
       " 63       1\n",
       " 55       1\n",
       " 86       1\n",
       " 40       1\n",
       " 46       1\n",
       " 89       1\n",
       " 44       1\n",
       " 69       1\n",
       " 61       1\n",
       " 49       1\n",
       " 33       1\n",
       " 64       1\n",
       " 85       1\n",
       "Name: critic_score, dtype: int64"
      ]
     },
     "execution_count": 45,
     "metadata": {},
     "output_type": "execute_result"
    }
   ],
   "source": [
    "games[games['user_score'].isna()]['critic_score'].value_counts()"
   ]
  },
  {
   "cell_type": "markdown",
   "id": "31d48d0b",
   "metadata": {},
   "source": [
    "<div style=\"font-size:20px;\">The absolute majority of user_score Nan's come with a corresponding 'critic_score' Nan (renamed -1). There are some 1500 more 'critic_score' Nan's, so if a method is found to fill 'critic_score', it would fill user_score as well.</div>"
   ]
  },
  {
   "cell_type": "code",
   "execution_count": 46,
   "id": "bc780010",
   "metadata": {},
   "outputs": [
    {
     "data": {
      "image/png": "[encoded data removed]",
      "text/plain": [
       "<Figure size 1152x576 with 1 Axes>"
      ]
     },
     "metadata": {
      "needs_background": "light"
     },
     "output_type": "display_data"
    }
   ],
   "source": [
    "missed_critic_score = games[games['critic_score'] == -1]\n",
    "missed_critic_score\n",
    "\n",
    "valued_critic_score = games.merge(missed_critic_score, how='outer', indicator=True).query('_merge == \"left_only\"').drop('_merge', 1)\n",
    "valued_critic_score\n",
    "valued_critic_score = valued_critic_score.groupby('genre')['platform'].count().to_frame().add_suffix('').reset_index().rename(columns={'platform':'valued_critic_score'})\n",
    "valued_critic_score\n",
    "missed_critic_score = missed_critic_score.groupby('genre')['platform'].count().to_frame().add_suffix('').reset_index().rename(columns={'platform':'missed_critic_score'})\n",
    "missed_critic_score\n",
    "\n",
    "merged_critic = valued_critic_score.merge(missed_critic_score,how='inner',on='genre')\n",
    "\n",
    "va = merged_critic.valued_critic_score.sum()\n",
    "mi = merged_critic.missed_critic_score.sum() # its not all type of platforms so about 1408 rows are left out of both sums\n",
    "merged_critic['valued_critic_score'] = merged_critic['valued_critic_score'] / va * 100\n",
    "merged_critic['missed_critic_score'] = merged_critic['missed_critic_score'] / mi * 100\n",
    "ax = merged_critic.plot.bar(x='genre', y=['valued_critic_score','missed_critic_score'], rot=0, figsize=(16,8))\n",
    "plt.title('valued vs missed critic to genre distribution')\n",
    "plt.xlabel('genres')\n",
    "plt.ylabel('Num of games')\n",
    "plt.show()"
   ]
  },
  {
   "cell_type": "markdown",
   "id": "19e9c08e",
   "metadata": {},
   "source": [
    "<div style=\"font-size:20px;\">Again, not such a good match, for much less of the data, and for more missing values - 50% of critic_score is Nan, so it cannot be filled based on that. Critic_score will keep its missing values</div>"
   ]
  },
  {
   "cell_type": "markdown",
   "id": "0bc29088",
   "metadata": {},
   "source": [
    "### User_score missing values"
   ]
  },
  {
   "cell_type": "markdown",
   "id": "91ac3885",
   "metadata": {},
   "source": [
    "#### user_score tbd values"
   ]
  },
  {
   "cell_type": "code",
   "execution_count": 47,
   "id": "d97c8a7e",
   "metadata": {},
   "outputs": [
    {
     "data": {
      "image/png": "[encoded data removed]",
      "text/plain": [
       "<Figure size 1152x576 with 1 Axes>"
      ]
     },
     "metadata": {
      "needs_background": "light"
     },
     "output_type": "display_data"
    },
    {
     "data": {
      "image/png": "[encoded data removed]",
      "text/plain": [
       "<Figure size 432x288 with 1 Axes>"
      ]
     },
     "metadata": {
      "needs_background": "light"
     },
     "output_type": "display_data"
    }
   ],
   "source": [
    "tbds = games[games['user_score'] == -1]['platform'].value_counts()\n",
    "tbds.plot.bar(x='platform', y='user_score', rot=0, figsize=(16,8))\n",
    "plt.xlabel('platforms')\n",
    "plt.ylabel(\"num of tbd's\")\n",
    "plt.title(\"num of tbd's per platform\")\n",
    "plt.show()\n",
    "\n",
    "# proper - not na, not 'tbd'\n",
    "proper_user_score = games[games['user_score'] != -1].dropna(subset=['user_score'])\n",
    "tbd_user_score = games[games['user_score'] == -1]\n",
    "\n",
    "# len(games) - tbd's - (len(games) - non_null_user_score_from_the_info) =\n",
    "# non_null_user_score_from_the_info - tbd's = 10014 - 2424 = 7590 = len(proper_user_score)\n",
    "\n",
    "proper_user_score.plot(x='user_score', y='year',kind='hist', bins=10)\n",
    "plt.xlabel('year')\n",
    "plt.ylabel(\"num of user tbd's\")\n",
    "plt.title(\"num of tbd's per year\")\n",
    "plt.show()"
   ]
  },
  {
   "cell_type": "markdown",
   "id": "7ffa668d",
   "metadata": {},
   "source": [
    "<div style=\"font-size:20px;\">The majority of tbd's is in rows having 4 platform values - DS, Wii, GBA and PS2. Those platforms were on the market at 2000 - 2011 (see below - 3 of the platforms are there as they're relevant to predict sales for 2017. GBA is not relevant for 2017, but checked as well, after all relevant to 2017 platforms, and found to have been in the market at the years mentioned - 2000 - 2011).</div>"
   ]
  },
  {
   "cell_type": "code",
   "execution_count": 48,
   "id": "5ab10c15",
   "metadata": {},
   "outputs": [
    {
     "data": {
      "text/plain": [
       "year\n",
       "1980     NaN\n",
       "1981     NaN\n",
       "1982     NaN\n",
       "1983     NaN\n",
       "1984     NaN\n",
       "1985    5.80\n",
       "1986     NaN\n",
       "1987     NaN\n",
       "1988    2.20\n",
       "1989     NaN\n",
       "1990     NaN\n",
       "1991     NaN\n",
       "1992    8.20\n",
       "1993     NaN\n",
       "1994    6.30\n",
       "1995     NaN\n",
       "1996    8.65\n",
       "1997    8.30\n",
       "1998    8.60\n",
       "1999    8.50\n",
       "2000    7.30\n",
       "2001    7.50\n",
       "2002    7.20\n",
       "2003    8.00\n",
       "2004    7.80\n",
       "2005    7.60\n",
       "2006    7.20\n",
       "2007    6.70\n",
       "2008    6.30\n",
       "2009    5.70\n",
       "2010    5.50\n",
       "2011    6.00\n",
       "2012    6.90\n",
       "2013    6.60\n",
       "2014    6.80\n",
       "2015    6.80\n",
       "2016    6.80\n",
       "Name: user_score, dtype: float64"
      ]
     },
     "execution_count": 48,
     "metadata": {},
     "output_type": "execute_result"
    }
   ],
   "source": [
    "games.groupby('year')['user_score'].median().sort_index()"
   ]
  },
  {
   "cell_type": "markdown",
   "id": "fdf575dd",
   "metadata": {},
   "source": [
    "<div style=\"font-size:20px;\">As witnessed in the cell above, in 2000 - 2011, the median user_score varied between 5.5 to 8. In general, user scores varies between 5 to 8, so that doesn't help fill user_score missing values.</div>"
   ]
  },
  {
   "cell_type": "code",
   "execution_count": 49,
   "id": "6ef7fa2e",
   "metadata": {},
   "outputs": [
    {
     "data": {
      "image/png": "[encoded data removed]",
      "text/plain": [
       "<Figure size 1152x576 with 1 Axes>"
      ]
     },
     "metadata": {
      "needs_background": "light"
     },
     "output_type": "display_data"
    }
   ],
   "source": [
    "proper_user_score = proper_user_score.groupby('genre')['platform'].count().to_frame().add_suffix('').reset_index().rename(columns={'platform':'proper_user_score'})\n",
    "tbd_user_score = tbd_user_score.groupby('genre')['platform'].count().to_frame().add_suffix('').reset_index().rename(columns={'platform':'tbd_user_score'})\n",
    "\n",
    "merged_score = proper_user_score.merge(tbd_user_score,how='inner',on='genre')\n",
    "\n",
    "va = merged_score.proper_user_score.sum()\n",
    "mi = merged_score.tbd_user_score.sum() # its not all type of platforms so about 1408 rows are left out of both sums\n",
    "merged_score['proper_user_score'] = merged_score['proper_user_score'] / va * 100\n",
    "merged_score['tbd_user_score'] = merged_score['tbd_user_score'] / mi * 100\n",
    "ax = merged_score.plot.bar(x='genre', y=['proper_user_score','tbd_user_score'], rot=0, figsize=(16,8))\n",
    "plt.xlabel('genres')\n",
    "plt.ylabel('num of user scores')\n",
    "plt.title(\"tbd's vs proper scores per genre\")\n",
    "plt.show()"
   ]
  },
  {
   "cell_type": "markdown",
   "id": "8d0a454f",
   "metadata": {},
   "source": [
    "<div style=\"font-size:20px;\">Not a good match. TBD's would not be replaced..</div>"
   ]
  },
  {
   "cell_type": "markdown",
   "id": "87c3c0fb",
   "metadata": {},
   "source": [
    "#### user_score missing values"
   ]
  },
  {
   "cell_type": "code",
   "execution_count": 50,
   "id": "acd73f49",
   "metadata": {},
   "outputs": [
    {
     "data": {
      "image/png": "[encoded data removed]",
      "text/plain": [
       "<Figure size 1152x576 with 1 Axes>"
      ]
     },
     "metadata": {
      "needs_background": "light"
     },
     "output_type": "display_data"
    }
   ],
   "source": [
    "missed_user_score = games[games['user_score'].isna()]\n",
    "\n",
    "valued_user_score = games.merge(missed_user_score, how='outer', indicator=True).query('_merge == \"left_only\"').drop('_merge', 1)\n",
    "valued_user_score\n",
    "valued_user_score = valued_user_score.groupby('genre')['platform'].count().to_frame().add_suffix('').reset_index().rename(columns={'platform':'valued_user_score'})\n",
    "missed_user_score = missed_user_score.groupby('genre')['platform'].count().to_frame().add_suffix('').reset_index().rename(columns={'platform':'missed_user_score'})\n",
    "\n",
    "\n",
    "merged_score2 = proper_user_score.merge(missed_user_score,how='inner',on='genre')\n",
    "\n",
    "va = merged_score2.proper_user_score.sum()\n",
    "mi = merged_score2.missed_user_score.sum() # its not all type of platforms so about 1408 rows are left out of both sums\n",
    "merged_score2['proper_user_score'] = merged_score2['proper_user_score'] / va * 100\n",
    "merged_score2['missed_user_score'] = merged_score2['missed_user_score'] / mi * 100\n",
    "\n",
    "ax = merged_score2.plot.bar(x='genre', y=['proper_user_score','missed_user_score'], rot=0, figsize=(16,8))\n",
    "plt.xlabel('genres')\n",
    "plt.ylabel('num of games')\n",
    "plt.title(\"missed vs proper scores per genre\")\n",
    "plt.show()"
   ]
  },
  {
   "cell_type": "markdown",
   "id": "67a590d7",
   "metadata": {},
   "source": [
    "<div style=\"font-size:20px;\">Thats a better match. Still, there are 6701 missing values, and we fill them based on 7590 proper values. Its not worth it. <p>given another year, I would try to fill per platform only if the match is good enough. and doing it with boxplots from the beginning - is it a lot faster?</p><p><b>User_score will keep its missing values</b></p></div>"
   ]
  },
  {
   "cell_type": "markdown",
   "id": "56cb7591",
   "metadata": {},
   "source": [
    "### Possible reasons for values to be missing"
   ]
  },
  {
   "cell_type": "markdown",
   "id": "53e27997",
   "metadata": {},
   "source": [
    "<div style=\"font-size:20px;\"><p>Critics, scores and ratings might be performed by official companies, such as michelin for restaurants - a prestigous game reviewer critic, a popular game site and a special board who determines game ratings. As to the professional critic and the rating board - they're only human so cant review all games. And for the games site - it too depends on users who bought the game and ready to spend some time for filling their review in the website.</p>\n",
    "<p>Before internet was widely popular - before the mid 90's - user scores obviously had to be much sparser.</p>\n",
    "<p>Those 2 missing values for name and genre might be a human error. When going through the data by year and platform those 2 values were deleted for 2 subsequent rows.</p>\n",
    "<p>Years missing values ended up being filled, because they were distributed \"evenly\". That suggests some random process is responsible for them - for example, the data might have been assembled from a lot of different tables, containing different columns. In each iteration, missing year values were added to an extent, but not completely - its a lot of work.</p></div>\n"
   ]
  },
  {
   "cell_type": "markdown",
   "id": "93dbe4ae",
   "metadata": {},
   "source": [
    "## Enriching games with 'total_sales' column"
   ]
  },
  {
   "cell_type": "code",
   "execution_count": 51,
   "id": "23d98b4f",
   "metadata": {},
   "outputs": [],
   "source": [
    "games['total_sales'] = games[['na_sales','eu_sales','jp_sales', 'other_sales']].sum(axis = 1)"
   ]
  },
  {
   "cell_type": "markdown",
   "id": "8b37a770",
   "metadata": {},
   "source": [
    "# Analysis"
   ]
  },
  {
   "cell_type": "markdown",
   "id": "bddf8c17",
   "metadata": {},
   "source": [
    "## Game releases per year"
   ]
  },
  {
   "cell_type": "code",
   "execution_count": 52,
   "id": "b3683815",
   "metadata": {},
   "outputs": [
    {
     "data": {
      "image/png": "[encoded data removed]",
      "text/plain": [
       "<Figure size 432x288 with 1 Axes>"
      ]
     },
     "metadata": {
      "needs_background": "light"
     },
     "output_type": "display_data"
    }
   ],
   "source": [
    "games.hist('year',bins=40, range=(1979,2020))\n",
    "plt.title('year')\n",
    "plt.ylabel('num of games')\n",
    "plt.xlabel('year')\n",
    "plt.show()"
   ]
  },
  {
   "cell_type": "markdown",
   "id": "16d979b5",
   "metadata": {},
   "source": [
    "<div style=\"font-size:20px;\">Before around 1994, the data is problematic. From one hand, there's relatively not a lot of data, and thats bad for analysis. On the other hand, if there's an intereset in data from the years before 1994, each row of data from that era is only more valueble, as it has a bigger relative effect on the analysis (for that era). Its an era where internet is only at its first days, and accordingly much less games were released - the computer related market has been only rising from back then</div>"
   ]
  },
  {
   "cell_type": "markdown",
   "id": "e93df8ef",
   "metadata": {},
   "source": [
    "## Sales per platform"
   ]
  },
  {
   "cell_type": "code",
   "execution_count": 53,
   "id": "42ae6e12",
   "metadata": {},
   "outputs": [
    {
     "data": {
      "image/png": "[encoded data removed]",
      "text/plain": [
       "<Figure size 1440x720 with 1 Axes>"
      ]
     },
     "metadata": {
      "needs_background": "light"
     },
     "output_type": "display_data"
    }
   ],
   "source": [
    "d = games.groupby('platform')['total_sales'].sum().to_frame().add_suffix('').reset_index()\n",
    "d = d.sort_values('total_sales', ascending=False)\n",
    "\n",
    "ax = d.plot.bar(x='platform', y='total_sales', rot=0,figsize=(20,10))\n",
    "plt.title('sales per platform')\n",
    "plt.ylabel('total sales')\n",
    "plt.xlabel('platform')\n",
    "plt.show()"
   ]
  },
  {
   "cell_type": "markdown",
   "id": "4803bf8d",
   "metadata": {},
   "source": [
    "<b style=\"font-size:20px;\">PS2, X360, PS3, Wii, DS and PS are the most popular platforms</b>"
   ]
  },
  {
   "cell_type": "markdown",
   "id": "1ed7dcf7",
   "metadata": {},
   "source": [
    "## Sales per year for top platforms"
   ]
  },
  {
   "cell_type": "code",
   "execution_count": 54,
   "id": "c6903fdb",
   "metadata": {},
   "outputs": [
    {
     "data": {
      "image/png": "[encoded data removed]",
      "text/plain": [
       "<Figure size 432x288 with 1 Axes>"
      ]
     },
     "metadata": {
      "needs_background": "light"
     },
     "output_type": "display_data"
    }
   ],
   "source": [
    "d = games[games['platform'] == 'PS2']\n",
    "d.plot( x='total_sales', y='year', kind='hist', bins=12, legend=False)\n",
    "plt.title('PS2 - sales per year')\n",
    "plt.ylabel('total sales')\n",
    "plt.xlabel('year')\n",
    "plt.show()"
   ]
  },
  {
   "cell_type": "markdown",
   "id": "20ad0ca3",
   "metadata": {},
   "source": [
    "<div style=\"font-size:20px;\">PS2 used to be popular, but it doesn't now. It took 3 years to reach its peak popularity, and 5 years to fade to unconsciousness. The whole cycle took 11 years.</div>"
   ]
  },
  {
   "cell_type": "code",
   "execution_count": 55,
   "id": "0b325cf1",
   "metadata": {
    "scrolled": true
   },
   "outputs": [
    {
     "data": {
      "image/png": "[encoded data removed]",
      "text/plain": [
       "<Figure size 432x288 with 1 Axes>"
      ]
     },
     "metadata": {
      "needs_background": "light"
     },
     "output_type": "display_data"
    }
   ],
   "source": [
    "d = games[games['platform'] == 'X360']\n",
    "d.plot( x='total_sales', y='year', kind='hist', bins=12, legend=False)\n",
    "plt.title('X360 - sales per year')\n",
    "plt.ylabel('total sales')\n",
    "plt.xlabel('year')\n",
    "plt.show()"
   ]
  },
  {
   "cell_type": "markdown",
   "id": "12271319",
   "metadata": {},
   "source": [
    "<div style=\"font-size:20px;\">X360 used to be popular, but it doesn't now. It took 5 years to reach its peak popularity, and 5 years to fade to unconsciousness. The whole cycle took 11 years.</div>"
   ]
  },
  {
   "cell_type": "code",
   "execution_count": 56,
   "id": "233f17e3",
   "metadata": {},
   "outputs": [
    {
     "data": {
      "image/png": "[encoded data removed]",
      "text/plain": [
       "<Figure size 432x288 with 1 Axes>"
      ]
     },
     "metadata": {
      "needs_background": "light"
     },
     "output_type": "display_data"
    }
   ],
   "source": [
    "d = games[games['platform'] == 'PS3']\n",
    "d.plot( x='total_sales', y='year', kind='hist', bins=11, legend=False)\n",
    "plt.title('PS3 - sales per year')\n",
    "plt.ylabel('total sales')\n",
    "plt.xlabel('year')\n",
    "plt.show()"
   ]
  },
  {
   "cell_type": "markdown",
   "id": "9a0d60ad",
   "metadata": {},
   "source": [
    "<div style=\"font-size:20px;\">PS3 used to be popular, but it doesn't now. It took 5 years to reach its peak popularity, and 5 years to fade to unconsciousness. The whole cycle took 10 years.</div>"
   ]
  },
  {
   "cell_type": "code",
   "execution_count": 57,
   "id": "6191b881",
   "metadata": {},
   "outputs": [
    {
     "data": {
      "image/png": "[encoded data removed]",
      "text/plain": [
       "<Figure size 432x288 with 1 Axes>"
      ]
     },
     "metadata": {
      "needs_background": "light"
     },
     "output_type": "display_data"
    }
   ],
   "source": [
    "d = games[games['platform'] == 'Wii']\n",
    "d.plot( x='total_sales', y='year', kind='hist', bins=11, legend=False)\n",
    "plt.title('Wii - sales per year')\n",
    "plt.ylabel('total sales')\n",
    "plt.xlabel('year')\n",
    "plt.show()"
   ]
  },
  {
   "cell_type": "markdown",
   "id": "a3a00c4b",
   "metadata": {},
   "source": [
    "<div style=\"font-size:20px;\">Wii used to be popular, but it doesn't now. It took 3 years to reach its peak popularity, and 4 years to fade to unconsciousness. The whole cycle took 7 years.</div>"
   ]
  },
  {
   "cell_type": "code",
   "execution_count": 58,
   "id": "a9687dfe",
   "metadata": {},
   "outputs": [
    {
     "data": {
      "image/png": "[encoded data removed]",
      "text/plain": [
       "<Figure size 432x288 with 1 Axes>"
      ]
     },
     "metadata": {
      "needs_background": "light"
     },
     "output_type": "display_data"
    }
   ],
   "source": [
    "d = games[games['platform'] == 'DS']\n",
    "d.plot( x='total_sales', y='year', kind='hist', bins=10, legend=False)\n",
    "plt.title('DS - sales per year')\n",
    "plt.ylabel('total sales')\n",
    "plt.xlabel('year')\n",
    "plt.show()"
   ]
  },
  {
   "cell_type": "markdown",
   "id": "fe0bf64d",
   "metadata": {},
   "source": [
    "<div style=\"font-size:20px;\">DS used to be popular, but it doesn't now. It took 5 years to reach its peak popularity, and 4 years to fade to unconsciousness. The whole cycle took 10 years.</div>"
   ]
  },
  {
   "cell_type": "code",
   "execution_count": 59,
   "id": "8c23c03f",
   "metadata": {},
   "outputs": [
    {
     "data": {
      "image/png": "[encoded data removed]",
      "text/plain": [
       "<Figure size 432x288 with 1 Axes>"
      ]
     },
     "metadata": {
      "needs_background": "light"
     },
     "output_type": "display_data"
    }
   ],
   "source": [
    "d = games[games['platform'] == 'PS']\n",
    "d.plot( x='total_sales', y='year', kind='hist', bins=10, legend=False)\n",
    "plt.title('PS - sales per year')\n",
    "plt.ylabel('total sales')\n",
    "plt.xlabel('year')\n",
    "plt.show()"
   ]
  },
  {
   "cell_type": "markdown",
   "id": "03ae1b80",
   "metadata": {},
   "source": [
    "<div style=\"font-size:20px;\">PS used to be popular, but it doesn't now. It took 4 years to reach its peak popularity, and 4 years to fade to unconsciousness. The whole cycle took 9 years.</div>"
   ]
  },
  {
   "cell_type": "markdown",
   "id": "ea24fbba",
   "metadata": {},
   "source": [
    "<div style=\"font-size:20px;\">Turns out platforms take about 5 years to reach their peak, where they stay for around a year, before entering another 5 years of movement, this time down. Overall, platform lives for around 10 years.</div>"
   ]
  },
  {
   "cell_type": "markdown",
   "id": "902bbd0c",
   "metadata": {},
   "source": [
    "## ADDITIONAL PLATFORMS"
   ]
  },
  {
   "cell_type": "code",
   "execution_count": 60,
   "id": "d6e5ac02",
   "metadata": {},
   "outputs": [
    {
     "data": {
      "image/png": "[encoded data removed]",
      "text/plain": [
       "<Figure size 432x288 with 1 Axes>"
      ]
     },
     "metadata": {
      "needs_background": "light"
     },
     "output_type": "display_data"
    }
   ],
   "source": [
    "d = games[games['platform'] == 'GBA']\n",
    "d.plot( x='total_sales', y='year', kind='hist', bins=7, legend=False)\n",
    "plt.title('GBA - sales per year')\n",
    "plt.ylabel('total sales')\n",
    "plt.xlabel('year')\n",
    "plt.show()"
   ]
  },
  {
   "cell_type": "code",
   "execution_count": 61,
   "id": "39130800",
   "metadata": {},
   "outputs": [
    {
     "data": {
      "image/png": "[encoded data removed]",
      "text/plain": [
       "<Figure size 432x288 with 1 Axes>"
      ]
     },
     "metadata": {
      "needs_background": "light"
     },
     "output_type": "display_data"
    }
   ],
   "source": [
    "d = games[games['platform'] == 'PSV']\n",
    "d.plot( x='total_sales', y='year', kind='hist', bins=6, legend=False)\n",
    "plt.title('PSV - sales per year')\n",
    "plt.ylabel('total sales')\n",
    "plt.xlabel('year')\n",
    "plt.show()"
   ]
  },
  {
   "cell_type": "markdown",
   "id": "b72aaa6b",
   "metadata": {},
   "source": [
    "<h1 style=\"color:red;\"><b>!!!!!!!!!PSV LOOKING GOOD FOR 2017!!!!!!!(|-`:)</b></h1>"
   ]
  },
  {
   "cell_type": "code",
   "execution_count": 62,
   "id": "de843e05",
   "metadata": {},
   "outputs": [
    {
     "data": {
      "image/png": "[encoded data removed]",
      "text/plain": [
       "<Figure size 432x288 with 1 Axes>"
      ]
     },
     "metadata": {
      "needs_background": "light"
     },
     "output_type": "display_data"
    }
   ],
   "source": [
    "d = games[games['platform'] == '2600']\n",
    "d.plot( x='total_sales', y='year', kind='hist', bins=10, legend=False)\n",
    "plt.title('2600 - sales per year')\n",
    "plt.ylabel('total sales')\n",
    "plt.xlabel('year')\n",
    "plt.show()"
   ]
  },
  {
   "cell_type": "markdown",
   "id": "1e68469b",
   "metadata": {},
   "source": [
    "## 2017 PROGNOSIS"
   ]
  },
  {
   "cell_type": "markdown",
   "id": "fc4aaf31",
   "metadata": {},
   "source": [
    "<div style=\"font-size:20px;\">A prognosis needs to be done for 2017. Platforms from 2007 will be at the end of their lives at 2017. This prognosis is done in order to find winning horses - so no point looking at platforms that are only going down. Relevent platforms are the ones now at their peak, where they can stay for a while, or the ones that are in the middle of their rise. A platform can stay a year at its peak, and it takes 5 years for it to get there. together thats 6 years. So just the data from 2011 onwards will be great.</div>"
   ]
  },
  {
   "cell_type": "code",
   "execution_count": 63,
   "id": "c35b4a72",
   "metadata": {},
   "outputs": [
    {
     "data": {
      "text/html": [
       "<div>\n",
       "<style scoped>\n",
       "    .dataframe tbody tr th:only-of-type {\n",
       "        vertical-align: middle;\n",
       "    }\n",
       "\n",
       "    .dataframe tbody tr th {\n",
       "        vertical-align: top;\n",
       "    }\n",
       "\n",
       "    .dataframe thead th {\n",
       "        text-align: right;\n",
       "    }\n",
       "</style>\n",
       "<table border=\"1\" class=\"dataframe\">\n",
       "  <thead>\n",
       "    <tr style=\"text-align: right;\">\n",
       "      <th></th>\n",
       "      <th>name</th>\n",
       "      <th>platform</th>\n",
       "      <th>year</th>\n",
       "      <th>genre</th>\n",
       "      <th>na_sales</th>\n",
       "      <th>eu_sales</th>\n",
       "      <th>jp_sales</th>\n",
       "      <th>other_sales</th>\n",
       "      <th>critic_score</th>\n",
       "      <th>user_score</th>\n",
       "      <th>rating</th>\n",
       "      <th>total_sales</th>\n",
       "    </tr>\n",
       "  </thead>\n",
       "  <tbody>\n",
       "    <tr>\n",
       "      <th>16</th>\n",
       "      <td>Grand Theft Auto V</td>\n",
       "      <td>PS3</td>\n",
       "      <td>2013</td>\n",
       "      <td>Action</td>\n",
       "      <td>7.02</td>\n",
       "      <td>9.09</td>\n",
       "      <td>0.98</td>\n",
       "      <td>3.96</td>\n",
       "      <td>97</td>\n",
       "      <td>8.2</td>\n",
       "      <td>M</td>\n",
       "      <td>21.05</td>\n",
       "    </tr>\n",
       "    <tr>\n",
       "      <th>23</th>\n",
       "      <td>Grand Theft Auto V</td>\n",
       "      <td>X360</td>\n",
       "      <td>2013</td>\n",
       "      <td>Action</td>\n",
       "      <td>9.66</td>\n",
       "      <td>5.14</td>\n",
       "      <td>0.06</td>\n",
       "      <td>1.41</td>\n",
       "      <td>97</td>\n",
       "      <td>8.1</td>\n",
       "      <td>M</td>\n",
       "      <td>16.27</td>\n",
       "    </tr>\n",
       "    <tr>\n",
       "      <th>31</th>\n",
       "      <td>Call of Duty: Black Ops 3</td>\n",
       "      <td>PS4</td>\n",
       "      <td>2015</td>\n",
       "      <td>Shooter</td>\n",
       "      <td>6.03</td>\n",
       "      <td>5.86</td>\n",
       "      <td>0.36</td>\n",
       "      <td>2.38</td>\n",
       "      <td>-1</td>\n",
       "      <td>NaN</td>\n",
       "      <td>nan</td>\n",
       "      <td>14.63</td>\n",
       "    </tr>\n",
       "    <tr>\n",
       "      <th>33</th>\n",
       "      <td>Pokemon X/Pokemon Y</td>\n",
       "      <td>3DS</td>\n",
       "      <td>2013</td>\n",
       "      <td>Role-Playing</td>\n",
       "      <td>5.28</td>\n",
       "      <td>4.19</td>\n",
       "      <td>4.35</td>\n",
       "      <td>0.78</td>\n",
       "      <td>-1</td>\n",
       "      <td>NaN</td>\n",
       "      <td>nan</td>\n",
       "      <td>14.60</td>\n",
       "    </tr>\n",
       "    <tr>\n",
       "      <th>34</th>\n",
       "      <td>Call of Duty: Black Ops II</td>\n",
       "      <td>PS3</td>\n",
       "      <td>2012</td>\n",
       "      <td>Shooter</td>\n",
       "      <td>4.99</td>\n",
       "      <td>5.73</td>\n",
       "      <td>0.65</td>\n",
       "      <td>2.42</td>\n",
       "      <td>83</td>\n",
       "      <td>5.3</td>\n",
       "      <td>M</td>\n",
       "      <td>13.79</td>\n",
       "    </tr>\n",
       "    <tr>\n",
       "      <th>...</th>\n",
       "      <td>...</td>\n",
       "      <td>...</td>\n",
       "      <td>...</td>\n",
       "      <td>...</td>\n",
       "      <td>...</td>\n",
       "      <td>...</td>\n",
       "      <td>...</td>\n",
       "      <td>...</td>\n",
       "      <td>...</td>\n",
       "      <td>...</td>\n",
       "      <td>...</td>\n",
       "      <td>...</td>\n",
       "    </tr>\n",
       "    <tr>\n",
       "      <th>16703</th>\n",
       "      <td>Strawberry Nauts</td>\n",
       "      <td>PSV</td>\n",
       "      <td>2016</td>\n",
       "      <td>Adventure</td>\n",
       "      <td>0.00</td>\n",
       "      <td>0.00</td>\n",
       "      <td>0.01</td>\n",
       "      <td>0.00</td>\n",
       "      <td>-1</td>\n",
       "      <td>NaN</td>\n",
       "      <td>nan</td>\n",
       "      <td>0.01</td>\n",
       "    </tr>\n",
       "    <tr>\n",
       "      <th>16707</th>\n",
       "      <td>Aiyoku no Eustia</td>\n",
       "      <td>PSV</td>\n",
       "      <td>2014</td>\n",
       "      <td>Misc</td>\n",
       "      <td>0.00</td>\n",
       "      <td>0.00</td>\n",
       "      <td>0.01</td>\n",
       "      <td>0.00</td>\n",
       "      <td>-1</td>\n",
       "      <td>NaN</td>\n",
       "      <td>nan</td>\n",
       "      <td>0.01</td>\n",
       "    </tr>\n",
       "    <tr>\n",
       "      <th>16710</th>\n",
       "      <td>Samurai Warriors: Sanada Maru</td>\n",
       "      <td>PS3</td>\n",
       "      <td>2016</td>\n",
       "      <td>Action</td>\n",
       "      <td>0.00</td>\n",
       "      <td>0.00</td>\n",
       "      <td>0.01</td>\n",
       "      <td>0.00</td>\n",
       "      <td>-1</td>\n",
       "      <td>NaN</td>\n",
       "      <td>nan</td>\n",
       "      <td>0.01</td>\n",
       "    </tr>\n",
       "    <tr>\n",
       "      <th>16712</th>\n",
       "      <td>Haitaka no Psychedelica</td>\n",
       "      <td>PSV</td>\n",
       "      <td>2016</td>\n",
       "      <td>Adventure</td>\n",
       "      <td>0.00</td>\n",
       "      <td>0.00</td>\n",
       "      <td>0.01</td>\n",
       "      <td>0.00</td>\n",
       "      <td>-1</td>\n",
       "      <td>NaN</td>\n",
       "      <td>nan</td>\n",
       "      <td>0.01</td>\n",
       "    </tr>\n",
       "    <tr>\n",
       "      <th>16714</th>\n",
       "      <td>Winning Post 8 2016</td>\n",
       "      <td>PSV</td>\n",
       "      <td>2016</td>\n",
       "      <td>Simulation</td>\n",
       "      <td>0.00</td>\n",
       "      <td>0.00</td>\n",
       "      <td>0.01</td>\n",
       "      <td>0.00</td>\n",
       "      <td>-1</td>\n",
       "      <td>NaN</td>\n",
       "      <td>nan</td>\n",
       "      <td>0.01</td>\n",
       "    </tr>\n",
       "  </tbody>\n",
       "</table>\n",
       "<p>2896 rows × 12 columns</p>\n",
       "</div>"
      ],
      "text/plain": [
       "                                name platform  year         genre  na_sales  \\\n",
       "16                Grand Theft Auto V      PS3  2013        Action      7.02   \n",
       "23                Grand Theft Auto V     X360  2013        Action      9.66   \n",
       "31         Call of Duty: Black Ops 3      PS4  2015       Shooter      6.03   \n",
       "33               Pokemon X/Pokemon Y      3DS  2013  Role-Playing      5.28   \n",
       "34        Call of Duty: Black Ops II      PS3  2012       Shooter      4.99   \n",
       "...                              ...      ...   ...           ...       ...   \n",
       "16703               Strawberry Nauts      PSV  2016     Adventure      0.00   \n",
       "16707               Aiyoku no Eustia      PSV  2014          Misc      0.00   \n",
       "16710  Samurai Warriors: Sanada Maru      PS3  2016        Action      0.00   \n",
       "16712        Haitaka no Psychedelica      PSV  2016     Adventure      0.00   \n",
       "16714            Winning Post 8 2016      PSV  2016    Simulation      0.00   \n",
       "\n",
       "       eu_sales  jp_sales  other_sales  critic_score  user_score rating  \\\n",
       "16         9.09      0.98         3.96            97         8.2      M   \n",
       "23         5.14      0.06         1.41            97         8.1      M   \n",
       "31         5.86      0.36         2.38            -1         NaN    nan   \n",
       "33         4.19      4.35         0.78            -1         NaN    nan   \n",
       "34         5.73      0.65         2.42            83         5.3      M   \n",
       "...         ...       ...          ...           ...         ...    ...   \n",
       "16703      0.00      0.01         0.00            -1         NaN    nan   \n",
       "16707      0.00      0.01         0.00            -1         NaN    nan   \n",
       "16710      0.00      0.01         0.00            -1         NaN    nan   \n",
       "16712      0.00      0.01         0.00            -1         NaN    nan   \n",
       "16714      0.00      0.01         0.00            -1         NaN    nan   \n",
       "\n",
       "       total_sales  \n",
       "16           21.05  \n",
       "23           16.27  \n",
       "31           14.63  \n",
       "33           14.60  \n",
       "34           13.79  \n",
       "...            ...  \n",
       "16703         0.01  \n",
       "16707         0.01  \n",
       "16710         0.01  \n",
       "16712         0.01  \n",
       "16714         0.01  \n",
       "\n",
       "[2896 rows x 12 columns]"
      ]
     },
     "execution_count": 63,
     "metadata": {},
     "output_type": "execute_result"
    }
   ],
   "source": [
    "games_filtered = games.query('year > 2011')\n",
    "games_filtered"
   ]
  },
  {
   "cell_type": "code",
   "execution_count": 64,
   "id": "7d9c8a3e",
   "metadata": {},
   "outputs": [
    {
     "data": {
      "image/png": "[encoded data removed]",
      "text/plain": [
       "<Figure size 1440x720 with 1 Axes>"
      ]
     },
     "metadata": {
      "needs_background": "light"
     },
     "output_type": "display_data"
    }
   ],
   "source": [
    "d = games_filtered.groupby('platform')['total_sales'].sum().to_frame().add_suffix('').reset_index()\n",
    "d = d.sort_values('total_sales', ascending=False)\n",
    "ax = d.plot.bar(x='platform', y='total_sales', rot=0,figsize=(20,10))\n",
    "plt.title('filtered sales per platform')\n",
    "plt.ylabel('total sales')\n",
    "plt.xlabel('platform')\n",
    "plt.show()"
   ]
  },
  {
   "cell_type": "markdown",
   "id": "9d3f4e33",
   "metadata": {},
   "source": [
    "<div style=\"font-size:20px;\">From the analysis above, regarding the most popular platforms, its clear PS3 and X360 are shrinking. PS4, 3DS and XOne look promising. WiiU and PC a bit less promising. Better to analyse them one by one:</div>"
   ]
  },
  {
   "cell_type": "markdown",
   "id": "6961d163",
   "metadata": {},
   "source": [
    "<div style=\"font-size:23px; color:red; font-weight:900;\">Regarding PSV, its average is indeed around 50 based on his alarming histogram from before. But when i filter only years above 2013/14/15 PSV only getting smaller. So, im not sure whats going on here. Looks like PSV gonna have 50 million worth sales in 2017 (judging by the earlier histogram) so he's a big promise as well, for the next year or two.</div>"
   ]
  },
  {
   "cell_type": "code",
   "execution_count": 65,
   "id": "97b3823e",
   "metadata": {},
   "outputs": [
    {
     "data": {
      "image/png": "[encoded data removed]",
      "text/plain": [
       "<Figure size 432x288 with 1 Axes>"
      ]
     },
     "metadata": {
      "needs_background": "light"
     },
     "output_type": "display_data"
    }
   ],
   "source": [
    "d = games_filtered[games_filtered['platform'] == 'PS4']\n",
    "d.plot( x='total_sales', y='year', kind='hist', bins=4,legend=False)\n",
    "plt.title('PS4 - filtered sales per year')\n",
    "plt.ylabel('total sales')\n",
    "plt.xlabel('year')\n",
    "plt.show()"
   ]
  },
  {
   "cell_type": "markdown",
   "id": "076a8ab7",
   "metadata": {},
   "source": [
    "<div style=\"font-size:20px;\">PS4 seem to be on the rise. Currently, PS4 games sell 160 million dollars a year. Should reach peak sells in 2018, and be a dominant player until 2021-22. the reflection of 2014 (first year to have good chunk of sales) in respect to 2018 (2013+5, according to the 10 year cycle rule) is 2022. But, the same reflection for end of 2014 and beginning of 2018 will be 2021, and hence the approximated range</div>"
   ]
  },
  {
   "cell_type": "code",
   "execution_count": 66,
   "id": "6cb55abe",
   "metadata": {},
   "outputs": [
    {
     "data": {
      "image/png": "[encoded data removed]",
      "text/plain": [
       "<Figure size 432x288 with 1 Axes>"
      ]
     },
     "metadata": {
      "needs_background": "light"
     },
     "output_type": "display_data"
    }
   ],
   "source": [
    "d = games_filtered[games_filtered['platform'] == '3DS']\n",
    "d.plot( x='total_sales', y='year', kind='hist', bins=5,legend=False)\n",
    "plt.title('3DS - filtered sales per year')\n",
    "plt.ylabel('total sales')\n",
    "plt.xlabel('year')\n",
    "plt.show()"
   ]
  },
  {
   "cell_type": "markdown",
   "id": "caf28a61",
   "metadata": {},
   "source": [
    "<div style=\"font-size:20px;\">3DS seem to be going down. Currently, 3DS games sell 45 million dollars a year. Don't look promising</div>"
   ]
  },
  {
   "cell_type": "code",
   "execution_count": 67,
   "id": "d0ce6f84",
   "metadata": {
    "scrolled": true
   },
   "outputs": [
    {
     "data": {
      "image/png": "[encoded data removed]",
      "text/plain": [
       "<Figure size 432x288 with 1 Axes>"
      ]
     },
     "metadata": {
      "needs_background": "light"
     },
     "output_type": "display_data"
    }
   ],
   "source": [
    "d = games_filtered[games_filtered['platform'] == 'XOne']\n",
    "d.plot( x='total_sales', y='year', kind='hist', bins=4,legend=False)\n",
    "plt.title('XOne - filtered sales per year')\n",
    "plt.ylabel('total sales')\n",
    "plt.xlabel('year')\n",
    "plt.show()"
   ]
  },
  {
   "cell_type": "markdown",
   "id": "c265db72",
   "metadata": {},
   "source": [
    "<div style=\"font-size:20px;\">XOne seem to be on the rise. Currently, XOne games sell 85 million dollars a year. This platform should be at its peak around 2018, and be a dominant player until 2021-2022. the reflection of 2014 (first year to have good chunk of sales) in respect to 2018 (2013+5, according to the 10 year cycle rule) is 2022. But, the same reflection for end of 2014 and beginning of 2018 will be 2021, and hence the approximated range</div>"
   ]
  },
  {
   "cell_type": "code",
   "execution_count": 68,
   "id": "d790dec5",
   "metadata": {},
   "outputs": [
    {
     "data": {
      "image/png": "[encoded data removed]",
      "text/plain": [
       "<Figure size 432x288 with 1 Axes>"
      ]
     },
     "metadata": {
      "needs_background": "light"
     },
     "output_type": "display_data"
    }
   ],
   "source": [
    "d = games_filtered[games_filtered['platform'] == 'WiiU']\n",
    "d.plot( x='total_sales', y='year', kind='hist', bins=4, legend=False)\n",
    "plt.title('WiiU - filtered sales per year')\n",
    "plt.ylabel('total sales')\n",
    "plt.xlabel('year')\n",
    "plt.show()"
   ]
  },
  {
   "cell_type": "markdown",
   "id": "5912a170",
   "metadata": {},
   "source": [
    "<div style=\"font-size:20px;\">WiiU seem to be on its peak. Currently, WiiU games sell 40 million dollars a year.</div>"
   ]
  },
  {
   "cell_type": "code",
   "execution_count": 69,
   "id": "b6b4b802",
   "metadata": {},
   "outputs": [
    {
     "data": {
      "image/png": "[encoded data removed]",
      "text/plain": [
       "<Figure size 432x288 with 1 Axes>"
      ]
     },
     "metadata": {
      "needs_background": "light"
     },
     "output_type": "display_data"
    }
   ],
   "source": [
    "d = games_filtered[games_filtered['platform'] == 'PC']\n",
    "d.plot( x='total_sales', y='year', kind='hist', bins=4, legend=False)\n",
    "plt.title('PC - filtered sales per year')\n",
    "plt.ylabel('total sales')\n",
    "plt.xlabel('year')\n",
    "plt.show()"
   ]
  },
  {
   "cell_type": "markdown",
   "id": "d6d74261",
   "metadata": {},
   "source": [
    "<div style=\"font-size:20px;\">PC seem to be on its peak. Currently, PC games sell 110 million dollars a year. Seems its also a winning horse for the next 2 to 3 years, with approximately 40 MUSD sales a year</div>\n",
    "<div style=\"font-size:23px; color:red; font-weight:900;\">Like the case with PSV, i don't understand howcome PC didn't came up when i filtered the data for various years between 2011 to 2017</div>"
   ]
  },
  {
   "cell_type": "markdown",
   "id": "a4dd0235",
   "metadata": {},
   "source": [
    "## Potentially profitable platforms"
   ]
  },
  {
   "cell_type": "markdown",
   "id": "35cf96fa",
   "metadata": {},
   "source": [
    "<div style=\"font-size:20px;\">PS4, PC, and XOne have a lot of potential - they're the top sellers for 2016, and probably keep the high sells for few more years. PS4 and XOne will peak at 2018, so good sales will continue until possibly 2021. PC might start to fall soon, but still, it has a big portion of sells at present (bigger than XOne) and the sales look stable, so good chance the fall will take some time, while PC could keep the high sales.<p style=\"color:red; font-weight:900;\">In addition, the PSV platform looks promising and forecasted to sale 70 MUSD in 2017 and 40 MUSD in 2018 before fading</p></div>"
   ]
  },
  {
   "cell_type": "markdown",
   "id": "a8a6261a",
   "metadata": {},
   "source": [
    "## Sales per platform Boxplot"
   ]
  },
  {
   "cell_type": "code",
   "execution_count": 70,
   "id": "64bd90b2",
   "metadata": {},
   "outputs": [
    {
     "data": {
      "image/png": "[encoded data removed]",
      "text/plain": [
       "<Figure size 1368x1080 with 1 Axes>"
      ]
     },
     "metadata": {
      "needs_background": "light"
     },
     "output_type": "display_data"
    }
   ],
   "source": [
    "games.boxplot(column=\"total_sales\", by=\"platform\",fontsize = 14,figsize=(19,15),showfliers=False)\n",
    "plt.title('')\n",
    "plt.ylabel('total sells for individual games', fontsize=20)\n",
    "plt.xlabel('platforms', fontsize=20)\n",
    "plt.show()"
   ]
  },
  {
   "cell_type": "markdown",
   "id": "0b1ae325",
   "metadata": {},
   "source": [
    "<div style=\"font-size:20px;\"><p>Some platforms, mainly DS, GB, NES and Wii - are particulary unique in that not a lot of games reach total sells of over 25 MUSD, and turns out those who do are played using those specific platforms - it must say something about those platforms - probably allowed user experience unique to the platform that those high selled games took advantage; For example, an introduction of a flight joystick platform and a flight simulator game, at a time when there's no other counterpart for either the platform or the game</p>\n",
    "<p>Other platforms - SCD, NG, WS, TG16, 3DO, GG and PCFX are unique in that no game played using them had any substantial sells, if any. Those platforms probably didn't used by a lot of games, as there are not a lot of black dots in their boxes. Either those platforms were terribly engineered, or they were active when the market for games was low (before 1995)</p>\n",
    "<p></p>\n",
    "<p>However, the average sales are all the same, almost - the platforms containing the extremely profitable games are usually (from previous analysis and common sense) the more popular platforms, hence they're average involves hundreds or thousands of games</p></div>"
   ]
  },
  {
   "cell_type": "markdown",
   "id": "6d0a7c0f",
   "metadata": {},
   "source": [
    "## Score and critics effect on sales - for popular platforms"
   ]
  },
  {
   "cell_type": "markdown",
   "id": "4cf037cd",
   "metadata": {},
   "source": [
    "### Categorising user_score and critic_score"
   ]
  },
  {
   "cell_type": "code",
   "execution_count": 71,
   "id": "684266bb",
   "metadata": {},
   "outputs": [],
   "source": [
    "def catc(crit):\n",
    "        if crit == 100:\n",
    "            return 10\n",
    "        elif crit < 100 and crit >= 90:\n",
    "            return 9\n",
    "        elif crit < 90 and crit >= 80:\n",
    "            return 8\n",
    "        elif crit < 80 and crit >= 70:\n",
    "            return 7\n",
    "        elif crit < 70 and crit >= 60:\n",
    "            return 6\n",
    "        elif crit < 60 and crit >= 50:\n",
    "            return 5\n",
    "        elif crit < 50 and crit >= 40:\n",
    "            return 4\n",
    "        elif crit < 40 and crit >= 30:\n",
    "            return 3\n",
    "        elif crit < 30 and crit >= 20:\n",
    "            return 2\n",
    "        elif crit < 20 and crit >= 10:\n",
    "            return 1\n",
    "        elif crit < 10 and crit >= 0:\n",
    "            return 0\n",
    "        \n",
    "def catu(score):\n",
    "        if score == 10:\n",
    "            return 10\n",
    "        elif score < 10 and score >= 9:\n",
    "            return 9\n",
    "        elif score < 9 and score >= 8:\n",
    "            return 8\n",
    "        elif score < 8 and score >= 7:\n",
    "            return 7\n",
    "        elif score < 7 and score >= 6:\n",
    "            return 6\n",
    "        elif score < 6 and score >= 5:\n",
    "            return 5\n",
    "        elif score < 5 and score >= 4:\n",
    "            return 4\n",
    "        elif score < 4 and score >= 3:\n",
    "            return 3\n",
    "        elif score < 3 and score >= 2:\n",
    "            return 2\n",
    "        elif score < 2 and score >= 1:\n",
    "            return 1\n",
    "        elif score < 1 and score >= 0:\n",
    "            return 0\n",
    "        elif score == -1:\n",
    "            return -1\n",
    "        \n",
    "games['critic_score_cat'] = games['critic_score'].apply(catc)    \n",
    "games['user_score_cat'] = games['user_score'].apply(catu)"
   ]
  },
  {
   "cell_type": "markdown",
   "id": "33cae14d",
   "metadata": {},
   "source": [
    "### Choosing a good data-wise platform "
   ]
  },
  {
   "cell_type": "code",
   "execution_count": 72,
   "id": "2ae80b27",
   "metadata": {},
   "outputs": [
    {
     "data": {
      "text/html": [
       "<div>\n",
       "<style scoped>\n",
       "    .dataframe tbody tr th:only-of-type {\n",
       "        vertical-align: middle;\n",
       "    }\n",
       "\n",
       "    .dataframe tbody tr th {\n",
       "        vertical-align: top;\n",
       "    }\n",
       "\n",
       "    .dataframe thead th {\n",
       "        text-align: right;\n",
       "    }\n",
       "</style>\n",
       "<table border=\"1\" class=\"dataframe\">\n",
       "  <thead>\n",
       "    <tr style=\"text-align: right;\">\n",
       "      <th></th>\n",
       "      <th>platform</th>\n",
       "      <th>critic_score</th>\n",
       "      <th>user_score</th>\n",
       "    </tr>\n",
       "  </thead>\n",
       "  <tbody>\n",
       "    <tr>\n",
       "      <th>15</th>\n",
       "      <td>XB</td>\n",
       "      <td>0.879854</td>\n",
       "      <td>0.711165</td>\n",
       "    </tr>\n",
       "    <tr>\n",
       "      <th>5</th>\n",
       "      <td>PC</td>\n",
       "      <td>0.734086</td>\n",
       "      <td>0.790554</td>\n",
       "    </tr>\n",
       "    <tr>\n",
       "      <th>14</th>\n",
       "      <td>X360</td>\n",
       "      <td>0.725832</td>\n",
       "      <td>0.765452</td>\n",
       "    </tr>\n",
       "    <tr>\n",
       "      <th>4</th>\n",
       "      <td>GC</td>\n",
       "      <td>0.805755</td>\n",
       "      <td>0.658273</td>\n",
       "    </tr>\n",
       "    <tr>\n",
       "      <th>16</th>\n",
       "      <td>XOne</td>\n",
       "      <td>0.684211</td>\n",
       "      <td>0.736842</td>\n",
       "    </tr>\n",
       "    <tr>\n",
       "      <th>9</th>\n",
       "      <td>PS4</td>\n",
       "      <td>0.642857</td>\n",
       "      <td>0.655612</td>\n",
       "    </tr>\n",
       "    <tr>\n",
       "      <th>13</th>\n",
       "      <td>WiiU</td>\n",
       "      <td>0.612245</td>\n",
       "      <td>0.680272</td>\n",
       "    </tr>\n",
       "    <tr>\n",
       "      <th>8</th>\n",
       "      <td>PS3</td>\n",
       "      <td>0.616078</td>\n",
       "      <td>0.658903</td>\n",
       "    </tr>\n",
       "    <tr>\n",
       "      <th>7</th>\n",
       "      <td>PS2</td>\n",
       "      <td>0.600648</td>\n",
       "      <td>0.574271</td>\n",
       "    </tr>\n",
       "    <tr>\n",
       "      <th>12</th>\n",
       "      <td>Wii</td>\n",
       "      <td>0.443182</td>\n",
       "      <td>0.424242</td>\n",
       "    </tr>\n",
       "    <tr>\n",
       "      <th>3</th>\n",
       "      <td>GBA</td>\n",
       "      <td>0.532847</td>\n",
       "      <td>0.310219</td>\n",
       "    </tr>\n",
       "    <tr>\n",
       "      <th>10</th>\n",
       "      <td>PSP</td>\n",
       "      <td>0.382134</td>\n",
       "      <td>0.348222</td>\n",
       "    </tr>\n",
       "    <tr>\n",
       "      <th>0</th>\n",
       "      <td>3DS</td>\n",
       "      <td>0.323077</td>\n",
       "      <td>0.334615</td>\n",
       "    </tr>\n",
       "    <tr>\n",
       "      <th>11</th>\n",
       "      <td>PSV</td>\n",
       "      <td>0.27907</td>\n",
       "      <td>0.332558</td>\n",
       "    </tr>\n",
       "    <tr>\n",
       "      <th>2</th>\n",
       "      <td>DS</td>\n",
       "      <td>0.333333</td>\n",
       "      <td>0.239888</td>\n",
       "    </tr>\n",
       "    <tr>\n",
       "      <th>1</th>\n",
       "      <td>DC</td>\n",
       "      <td>0.269231</td>\n",
       "      <td>0.269231</td>\n",
       "    </tr>\n",
       "    <tr>\n",
       "      <th>6</th>\n",
       "      <td>PS</td>\n",
       "      <td>0.167084</td>\n",
       "      <td>0.135338</td>\n",
       "    </tr>\n",
       "  </tbody>\n",
       "</table>\n",
       "</div>"
      ],
      "text/plain": [
       "   platform  critic_score  user_score\n",
       "15       XB      0.879854    0.711165\n",
       "5        PC      0.734086    0.790554\n",
       "14     X360      0.725832    0.765452\n",
       "4        GC      0.805755    0.658273\n",
       "16     XOne      0.684211    0.736842\n",
       "9       PS4      0.642857    0.655612\n",
       "13     WiiU      0.612245    0.680272\n",
       "8       PS3      0.616078    0.658903\n",
       "7       PS2      0.600648    0.574271\n",
       "12      Wii      0.443182    0.424242\n",
       "3       GBA      0.532847    0.310219\n",
       "10      PSP      0.382134    0.348222\n",
       "0       3DS      0.323077    0.334615\n",
       "11      PSV       0.27907    0.332558\n",
       "2        DS      0.333333    0.239888\n",
       "1        DC      0.269231    0.269231\n",
       "6        PS      0.167084    0.135338"
      ]
     },
     "execution_count": 72,
     "metadata": {},
     "output_type": "execute_result"
    }
   ],
   "source": [
    "proper_user_score = games[games['user_score'] != -1].dropna(subset=['user_score'])\n",
    "\n",
    "# removing all nans that were unfortunately replaced by -1 before\n",
    "proper_critic_score = games[games['critic_score'] != -1]\n",
    "\n",
    "grouped_score = proper_user_score.groupby('platform')['user_score'].count().to_frame().add_suffix('').reset_index()\n",
    "grouped_critic = proper_critic_score.groupby('platform')['critic_score'].count().to_frame().add_suffix('').reset_index()\n",
    "\n",
    "# get cake share of games by platform\n",
    "plat = games.platform.value_counts().to_frame().add_suffix('').reset_index().rename(columns={'index':'platform', 'platform':'num'})\n",
    "\n",
    "# arranging data for platform and critics\n",
    "dwi = grouped_critic.merge(plat,how='inner',on='platform')\n",
    "dwi['critic_score'] = dwi['critic_score'] / dwi['num']\n",
    "dwi = dwi.drop('num',1)\n",
    "\n",
    "# again for user scores\n",
    "dw = grouped_score.merge(plat,how='inner',on='platform')\n",
    "dw['user_score'] = dw['user_score'] / dw['num']\n",
    "dw = dw.drop('num',1)\n",
    "\n",
    "dwip = dwi.merge(dw,how='inner',on='platform')\n",
    "dwip['s'] = dwip['critic_score'] + dwip['user_score']\n",
    "dwip = dwip.sort_values('s',ascending=False).drop('s',1)\n",
    "dwip\n",
    "# got a table based solely on proper review values to aid in choosing the platform for the question"
   ]
  },
  {
   "cell_type": "markdown",
   "id": "08a9dcb2",
   "metadata": {},
   "source": [
    "<div style=\"font-size:20px;\"><p>X360 has a relatively good data, as its 3rd place in the latter table, with no serious differences between it and the 1st place. In addition, X360 is the 2nd most popular platform ever (using the plot earlier for all time platform popularity).</p>\n",
    "<p>So, the X360 will be chosen for the task</p></div>"
   ]
  },
  {
   "cell_type": "code",
   "execution_count": 73,
   "id": "b64e135d",
   "metadata": {},
   "outputs": [
    {
     "data": {
      "image/png": "[encoded data removed]",
      "text/plain": [
       "<Figure size 432x288 with 1 Axes>"
      ]
     },
     "metadata": {
      "needs_background": "light"
     },
     "output_type": "display_data"
    },
    {
     "data": {
      "image/png": "[encoded data removed]",
      "text/plain": [
       "<Figure size 432x288 with 1 Axes>"
      ]
     },
     "metadata": {
      "needs_background": "light"
     },
     "output_type": "display_data"
    },
    {
     "data": {
      "image/png": "[encoded data removed]",
      "text/plain": [
       "<Figure size 432x288 with 1 Axes>"
      ]
     },
     "metadata": {
      "needs_background": "light"
     },
     "output_type": "display_data"
    }
   ],
   "source": [
    "games['user_score100'] = games['user_score'] * 10 # so both reviews will stretch from 0 to 100\n",
    "games['critic_score100'] = games['critic_score']\n",
    "\n",
    "#without that, there's 2 vertical lines around -1 and -10\n",
    "games.loc[games['user_score100'] == -10,'user_score100'] = np.nan\n",
    "games.loc[games['critic_score100'] == -1,'critic_score100'] = np.nan\n",
    "\n",
    "X360_games = games[games['platform'] == 'X360']\n",
    "PS4_games = games[games['platform'] == 'PS4']\n",
    "XOne_games = games[games['platform'] == 'XOne']\n",
    "\n",
    "\n",
    "ax = X360_games.plot(kind=\"scatter\", x=\"user_score100\",y=\"total_sales\", color=\"b\", label=\"X360 - sales vs users\",alpha=0.3)\n",
    "X360_games.plot(kind=\"scatter\",x=\"critic_score100\",y=\"total_sales\", color=\"g\", label=\"X360 - sales vs critics\", ax=ax)\n",
    "\n",
    "ax.set_title(\"X360 - sales vs reviews\",fontsize=16)\n",
    "ax.set_xlabel(\"score\",fontsize=16)\n",
    "ax.set_ylabel(\"total sales\", fontsize=16)\n",
    "plt.show()\n",
    "\n",
    "# PS4\n",
    "ax = PS4_games.plot(kind=\"scatter\", x=\"user_score100\",y=\"total_sales\", color=\"orange\", label=\"PS4 - sales vs users\", alpha=0.35)\n",
    "PS4_games.plot(kind=\"scatter\", x=\"critic_score100\",y=\"total_sales\", color=\"r\", label=\"PS4 - sales vs critics\", ax=ax)\n",
    "\n",
    "ax.set_title(\"PS4 - sales vs reviews\",fontsize=16)\n",
    "ax.set_xlabel(\"score\",fontsize=16)\n",
    "ax.set_ylabel(\"total sales\", fontsize=16)\n",
    "plt.show()\n",
    "\n",
    "# XOne\n",
    "ax = XOne_games.plot(kind=\"scatter\",x=\"user_score100\",y=\"total_sales\", color=\"purple\", label=\"XOne - sales vs critics\", alpha=0.35)\n",
    "XOne_games.plot(kind=\"scatter\", x=\"critic_score100\",y=\"total_sales\", color=\"yellow\", label=\"XOne - sales vs critics\", ax=ax)\n",
    "\n",
    "ax.set_title(\"XOne - sales vs reviews\",fontsize=16)\n",
    "ax.set_xlabel(\"score\",fontsize=16)\n",
    "ax.set_ylabel(\"total sales\", fontsize=16)\n",
    "plt.show()"
   ]
  },
  {
   "cell_type": "markdown",
   "id": "6ff05769",
   "metadata": {},
   "source": [
    "<div style=\"font-size:20px;\"><p>All plots illustrate that generally, better reviews achieve better sales - they all have a slight curve up to the right, spanning all across scores (i.e from 0 to 100). in Addition, the scores seems to hit a wall around 85-90 score. That might be becuase people rarely rate something as 10. Mostly, 9 is considered an upper bound for this type of scores.</p><p>However, besides the slight curve up to the right, the data doesn't look too correlated</p></div>"
   ]
  },
  {
   "cell_type": "code",
   "execution_count": 74,
   "id": "03725190",
   "metadata": {},
   "outputs": [
    {
     "name": "stdout",
     "output_type": "stream",
     "text": [
      "X360 scores correlation - 0.11445882978454186\n",
      "X360 critic correlation - 0.39373586530725874\n",
      "PS4 scores correlation - -0.031957110204556445\n",
      "PS4 critic correlation - 0.40656790206178095\n",
      "XOne scores correlation - -0.06892505328279411\n",
      "XOne critic correlation - 0.4169983280084017\n"
     ]
    }
   ],
   "source": [
    "print('X360 scores correlation -',X360_games['user_score100'].corr(X360_games['total_sales']))\n",
    "print('X360 critic correlation -',X360_games['critic_score100'].corr(X360_games['total_sales']))\n",
    "print('PS4 scores correlation -',PS4_games['user_score100'].corr(PS4_games['total_sales']))\n",
    "print('PS4 critic correlation -',PS4_games['critic_score100'].corr(PS4_games['total_sales']))\n",
    "print('XOne scores correlation -',XOne_games['user_score100'].corr(XOne_games['total_sales']))\n",
    "print('XOne critic correlation -',XOne_games['critic_score100'].corr(XOne_games['total_sales']))"
   ]
  },
  {
   "cell_type": "markdown",
   "id": "c662e277",
   "metadata": {},
   "source": [
    "<div style=\"font-size:20px;\">Indeed, the correlation is medium and below.</div>"
   ]
  },
  {
   "cell_type": "markdown",
   "id": "df9a7b9e",
   "metadata": {},
   "source": [
    "## Sales by Genre"
   ]
  },
  {
   "cell_type": "code",
   "execution_count": 75,
   "id": "d2ba973c",
   "metadata": {},
   "outputs": [
    {
     "data": {
      "image/png": "[encoded data removed]",
      "text/plain": [
       "<Figure size 1440x720 with 1 Axes>"
      ]
     },
     "metadata": {
      "needs_background": "light"
     },
     "output_type": "display_data"
    }
   ],
   "source": [
    "sales_per_genre = games.groupby('genre')['total_sales'].sum().sort_values().to_frame().add_suffix('').reset_index().sort_values('total_sales', ascending=False)\n",
    "sales_per_genre.plot.bar(x='genre', y='total_sales', rot=0,figsize=(20,10), fontsize=16, legend=False)\n",
    "plt.title('total sales per genre', fontsize=20)\n",
    "plt.ylabel('total sales', fontsize=20)\n",
    "plt.xlabel('genres', fontsize=20)\n",
    "plt.show()"
   ]
  },
  {
   "cell_type": "markdown",
   "id": "59d3d180",
   "metadata": {},
   "source": [
    "<div style=\"font-size:20px;\"><p>Action, Sports and Shooter are the most profitable genres. Essentially, they're all action games.</p>\n",
    "<p>Games involve action and thrills, that require the player to respond fast and develop specific technical expertise are more popular.</p> <p>Games involve analysis, that require the player to develop patience and inner-peace are less popular (Simulation, Puzzle, Strategy)</p></div> "
   ]
  },
  {
   "cell_type": "markdown",
   "id": "b6a3fd3f",
   "metadata": {},
   "source": [
    "# User profile"
   ]
  },
  {
   "cell_type": "markdown",
   "id": "60747a12",
   "metadata": {},
   "source": [
    "## Platform Profile"
   ]
  },
  {
   "cell_type": "code",
   "execution_count": 76,
   "id": "d1a93185",
   "metadata": {},
   "outputs": [
    {
     "data": {
      "image/png": "[encoded data removed]",
      "text/plain": [
       "<Figure size 1440x720 with 1 Axes>"
      ]
     },
     "metadata": {
      "needs_background": "light"
     },
     "output_type": "display_data"
    }
   ],
   "source": [
    "d = games.groupby('platform')['na_sales'].sum().to_frame().add_suffix('').reset_index()\n",
    "d = d.sort_values('na_sales', ascending=False)\n",
    "ax = d.plot.bar(x='platform', y='na_sales', rot=0,figsize=(20,10),legend=False)\n",
    "plt.title('na sales per platform', fontsize=18)\n",
    "plt.ylabel('na sales',fontsize=18)\n",
    "plt.xlabel('platform',fontsize=18)\n",
    "plt.show()"
   ]
  },
  {
   "cell_type": "markdown",
   "id": "c5b75182",
   "metadata": {},
   "source": [
    "<div style=\"font-size:20px;\">Top 5 all-time North-America platforms are X360, PS2, Wii, PS3 and DS</div>"
   ]
  },
  {
   "cell_type": "code",
   "execution_count": 77,
   "id": "ca9e3d73",
   "metadata": {},
   "outputs": [
    {
     "data": {
      "image/png": "[encoded data removed]",
      "text/plain": [
       "<Figure size 1440x720 with 1 Axes>"
      ]
     },
     "metadata": {
      "needs_background": "light"
     },
     "output_type": "display_data"
    }
   ],
   "source": [
    "d = games.groupby('platform')['eu_sales'].sum().to_frame().add_suffix('').reset_index()\n",
    "d = d.sort_values('eu_sales', ascending=False)\n",
    "ax = d.plot.bar(x='platform', y='eu_sales', rot=0,figsize=(20,10),legend=False)\n",
    "plt.title('eu sales per platform', fontsize=18)\n",
    "plt.ylabel('eu sales', fontsize=18)\n",
    "plt.xlabel('platform', fontsize=18)\n",
    "plt.show()"
   ]
  },
  {
   "cell_type": "markdown",
   "id": "2f25dddc",
   "metadata": {},
   "source": [
    "<div style=\"font-size:20px;\">Top 5 all-time European platforms are PS2, PS3, X360, Wii and PS</div>"
   ]
  },
  {
   "cell_type": "code",
   "execution_count": 78,
   "id": "b242955b",
   "metadata": {},
   "outputs": [
    {
     "data": {
      "image/png": "[encoded data removed]",
      "text/plain": [
       "<Figure size 1440x720 with 1 Axes>"
      ]
     },
     "metadata": {
      "needs_background": "light"
     },
     "output_type": "display_data"
    }
   ],
   "source": [
    "d = games.groupby('platform')['jp_sales'].sum().to_frame().add_suffix('').reset_index()\n",
    "d = d.sort_values('jp_sales', ascending=False)\n",
    "ax = d.plot.bar(x='platform', y='jp_sales', rot=0,figsize=(20,10),legend=False)\n",
    "plt.title('jp sales per platform', fontsize=18)\n",
    "plt.ylabel('jp sales', fontsize=18)\n",
    "plt.xlabel('platform', fontsize=18)\n",
    "plt.show()"
   ]
  },
  {
   "cell_type": "markdown",
   "id": "5bba958c",
   "metadata": {},
   "source": [
    "<div style=\"font-size:20px;\">Top 5 all-time Japanese platforms are DS, PS, PS2, SNES and 3DS</div>"
   ]
  },
  {
   "cell_type": "markdown",
   "id": "4ab9c38d",
   "metadata": {},
   "source": [
    "### Platform profile summation"
   ]
  },
  {
   "cell_type": "markdown",
   "id": "6f1bba95",
   "metadata": {},
   "source": [
    "<div style=\"font-size:20px;\">American and European platform shares are related - they share the top 4 platforms, and top 5-6 platforms. The Japanese market is different - its top 2 are the latters top 5-6. At 3rd place stands PS2, which is very succesful in America and Europe. 4th and 5th top Japanese platforms are not so popular in both America and Europe</div>"
   ]
  },
  {
   "cell_type": "markdown",
   "id": "850fc224",
   "metadata": {},
   "source": [
    "## Genre Profile"
   ]
  },
  {
   "cell_type": "code",
   "execution_count": 79,
   "id": "506ee6f3",
   "metadata": {},
   "outputs": [
    {
     "data": {
      "image/png": "[encoded data removed]",
      "text/plain": [
       "<Figure size 1440x720 with 1 Axes>"
      ]
     },
     "metadata": {
      "needs_background": "light"
     },
     "output_type": "display_data"
    }
   ],
   "source": [
    "d = games.groupby('genre')['na_sales'].sum().to_frame().add_suffix('').reset_index()\n",
    "d = d.sort_values('na_sales', ascending=False)\n",
    "ax = d.plot.bar(x='genre', y='na_sales', rot=0,figsize=(20,10), legend=False)\n",
    "plt.title('na sales per genre',fontsize=18)\n",
    "plt.ylabel('na sales',fontsize=18)\n",
    "plt.xlabel('genre',fontsize=18)\n",
    "plt.show()"
   ]
  },
  {
   "cell_type": "markdown",
   "id": "cc08f4f4",
   "metadata": {},
   "source": [
    "<div style=\"font-size:20px;\">Top genres for North America are Action, Sports, Shooter, Platform and Misc</div>"
   ]
  },
  {
   "cell_type": "code",
   "execution_count": 80,
   "id": "1755ad9e",
   "metadata": {},
   "outputs": [
    {
     "data": {
      "image/png": "[encoded data removed]",
      "text/plain": [
       "<Figure size 1440x720 with 1 Axes>"
      ]
     },
     "metadata": {
      "needs_background": "light"
     },
     "output_type": "display_data"
    }
   ],
   "source": [
    "d = games.groupby('genre')['eu_sales'].sum().to_frame().add_suffix('').reset_index()\n",
    "d = d.sort_values('eu_sales', ascending=False)\n",
    "ax = d.plot.bar(x='genre', y='eu_sales', rot=0,figsize=(20,10), legend=False)\n",
    "plt.title('eu sales per genre',fontsize=18)\n",
    "plt.ylabel('eu sales',fontsize=18)\n",
    "plt.xlabel('genre',fontsize=18)\n",
    "plt.show()"
   ]
  },
  {
   "cell_type": "markdown",
   "id": "c7de3064",
   "metadata": {},
   "source": [
    "<div style=\"font-size:20px;\">Top genres for Europe are Action, Sports, Shooter, Racing and Misc</div>"
   ]
  },
  {
   "cell_type": "code",
   "execution_count": 81,
   "id": "eb6935f2",
   "metadata": {},
   "outputs": [
    {
     "data": {
      "image/png": "[encoded data removed]",
      "text/plain": [
       "<Figure size 1440x720 with 1 Axes>"
      ]
     },
     "metadata": {
      "needs_background": "light"
     },
     "output_type": "display_data"
    }
   ],
   "source": [
    "d = games.groupby('genre')['jp_sales'].sum().to_frame().add_suffix('').reset_index()\n",
    "d = d.sort_values('jp_sales', ascending=False)\n",
    "ax = d.plot.bar(x='genre', y='jp_sales', rot=0,figsize=(20,10),legend=False)\n",
    "plt.title('jp sales per genre',fontsize=18)\n",
    "plt.ylabel('jp sales',fontsize=18)\n",
    "plt.xlabel('genre',fontsize=18)\n",
    "plt.show()"
   ]
  },
  {
   "cell_type": "markdown",
   "id": "3d144232",
   "metadata": {},
   "source": [
    "<div style=\"font-size:20px;\">Top genres for Japan are Role-Playing, Action, Sports, Platform and Misc</div>"
   ]
  },
  {
   "cell_type": "markdown",
   "id": "1f448f79",
   "metadata": {},
   "source": [
    "### Genre profile summation"
   ]
  },
  {
   "cell_type": "markdown",
   "id": "80a3d488",
   "metadata": {},
   "source": [
    "<div style=\"font-size:20px;\"><p>European and American markets are almost the same - they have the same top genres, in the same order, only that the one's 4th place genre is the other's 6th place genre.</p>\n",
    "<p>Japanese market feature the same top genres as NA and Europe - at 2nd to 5th places. Japanese most popular genre, by far, is Role-Playing, a genre with medium popularity in NA and Europe. This difference might be explained by japanese love of everything connected to anime and such; probably its Role-Playing with characters from famous anime TV shows</p></div>"
   ]
  },
  {
   "cell_type": "markdown",
   "id": "f6374382",
   "metadata": {},
   "source": [
    "## Rating Profile"
   ]
  },
  {
   "cell_type": "code",
   "execution_count": 82,
   "id": "9a552af5",
   "metadata": {},
   "outputs": [
    {
     "data": {
      "image/png": "[encoded data removed]",
      "text/plain": [
       "<Figure size 1440x720 with 1 Axes>"
      ]
     },
     "metadata": {
      "needs_background": "light"
     },
     "output_type": "display_data"
    }
   ],
   "source": [
    "d = games.groupby('rating')['na_sales'].sum().to_frame().add_suffix('').reset_index()\n",
    "d = d.sort_values('na_sales', ascending=False)\n",
    "ax = d.plot.bar(x='rating', y='na_sales', rot=0,figsize=(20,10),legend=False)\n",
    "plt.title('na sales per rating',fontsize=18)\n",
    "plt.ylabel('na sales',fontsize=18)\n",
    "plt.xlabel('rating',fontsize=18)\n",
    "plt.show()"
   ]
  },
  {
   "cell_type": "markdown",
   "id": "cdbddb9f",
   "metadata": {},
   "source": [
    "<div style=\"font-size:20px;\">Top ratings are E, T and M. Unknowns are almost popular as E rating.</div>"
   ]
  },
  {
   "cell_type": "code",
   "execution_count": 83,
   "id": "d84b8797",
   "metadata": {},
   "outputs": [
    {
     "data": {
      "image/png": "[encoded data removed]",
      "text/plain": [
       "<Figure size 1440x720 with 1 Axes>"
      ]
     },
     "metadata": {
      "needs_background": "light"
     },
     "output_type": "display_data"
    }
   ],
   "source": [
    "d = games.groupby('rating')['eu_sales'].sum().to_frame().add_suffix('').reset_index()\n",
    "d = d.sort_values('eu_sales', ascending=False)\n",
    "ax = d.plot.bar(x='rating', y='eu_sales', rot=0,figsize=(20,10),legend=False)\n",
    "plt.title('eu sales per rating',fontsize=18)\n",
    "plt.ylabel('eu sales',fontsize=18)\n",
    "plt.xlabel('rating',fontsize=18)\n",
    "plt.show()"
   ]
  },
  {
   "cell_type": "markdown",
   "id": "8b2a0f9f",
   "metadata": {},
   "source": [
    "<div style=\"font-size:20px;\">Top ratings are E, M and T. Again, unknowns are almost as popular as the most popular rating</div>"
   ]
  },
  {
   "cell_type": "code",
   "execution_count": 84,
   "id": "ff6d4134",
   "metadata": {},
   "outputs": [
    {
     "data": {
      "image/png": "[encoded data removed]",
      "text/plain": [
       "<Figure size 1440x720 with 1 Axes>"
      ]
     },
     "metadata": {
      "needs_background": "light"
     },
     "output_type": "display_data"
    }
   ],
   "source": [
    "d = games.groupby('rating')['jp_sales'].sum().to_frame().add_suffix('').reset_index()\n",
    "d = d.sort_values('jp_sales', ascending=False)\n",
    "ax = d.plot.bar(x='rating', y='jp_sales', rot=0,figsize=(20,10),legend=False)\n",
    "plt.title('jp sales per rating',fontsize=18)\n",
    "plt.ylabel('jp sales',fontsize=18)\n",
    "plt.xlabel('rating',fontsize=18)\n",
    "plt.show()"
   ]
  },
  {
   "cell_type": "markdown",
   "id": "b49516c3",
   "metadata": {},
   "source": [
    "<div style=\"font-size:20px;\">Top ratings are E, T and M. But here, unknowns are 4 times more popular than the following most popular rating</div>"
   ]
  },
  {
   "cell_type": "markdown",
   "id": "55ab1a4e",
   "metadata": {},
   "source": [
    "### Rating Profile summation"
   ]
  },
  {
   "cell_type": "markdown",
   "id": "59ae9885",
   "metadata": {},
   "source": [
    "<div style=\"font-size:20px;\">E, T and M are the popular ratings. E is without a doubt the most popular rating in all areas. Japan has tons of missed ratings - maybe all those Role-Playing Japan made games are not regulated by the rating committee\n",
    "</div>"
   ]
  },
  {
   "cell_type": "markdown",
   "id": "92d04a24",
   "metadata": {},
   "source": [
    "# Hypotheses"
   ]
  },
  {
   "cell_type": "code",
   "execution_count": 85,
   "id": "f2822a62",
   "metadata": {},
   "outputs": [
    {
     "name": "stdout",
     "output_type": "stream",
     "text": [
      "variation for both platforms - 1.9069968429360702,2.3407871413372. ratio - 0.8146818688719717\n",
      "variation for both genres - 2.031746898033191,2.5965147189730073. ratio - 0.7824900368124247\n"
     ]
    }
   ],
   "source": [
    "proper_users = games[games['user_score'] != -1].dropna(subset=['user_score'])\n",
    "\n",
    "chart_xone = proper_users[proper_users['platform'] == 'XOne']\n",
    "chart_pc = proper_users[proper_users['platform'] == 'PC']\n",
    "chart_action = proper_users[proper_users['genre'] == 'Action']\n",
    "chart_sport = proper_users[proper_users['genre'] == 'Sports']\n",
    "\n",
    "score_xone = chart_xone['user_score']\n",
    "score_pc= chart_pc['user_score']\n",
    "score_action = chart_action['user_score']\n",
    "score_sport = chart_sport['user_score']\n",
    "print(f'variation for both platforms - {score_xone.var()},{score_pc.var()}. ratio - {score_xone.var()/score_pc.var()}')\n",
    "print(f'variation for both genres - {score_action.var()},{score_sport.var()}. ratio - {score_action.var()/score_sport.var()}')"
   ]
  },
  {
   "cell_type": "markdown",
   "id": "49388a7b",
   "metadata": {},
   "source": [
    "<div style=\"font-size:20px; font-weight:900;\"><p>Variation for platforms will be considered equal</p>\n",
    "<p>Variation for genres will be considered unequal</p>\n",
    "</div>"
   ]
  },
  {
   "cell_type": "markdown",
   "id": "974e9ec7",
   "metadata": {},
   "source": [
    "<div class=\"font-size:25px;\">\n",
    "<b>\n",
    "H0: the user ratings means for Xbox One and PC platforms are equal\n",
    "    \n",
    "H1: the user ratings means for Xbox One and PC platforms differ</b></div>"
   ]
  },
  {
   "cell_type": "code",
   "execution_count": 86,
   "id": "fc175bbc",
   "metadata": {},
   "outputs": [
    {
     "name": "stdout",
     "output_type": "stream",
     "text": [
      "p-value: 1.3896435533548819e-05\n",
      "We reject the null hypothesis\n"
     ]
    }
   ],
   "source": [
    "alpha = 0.05 #normal alpha for a regular uncompromising hypotheses check\n",
    "\n",
    "results = st.ttest_ind(score_xone, score_pc, equal_var=True)\n",
    "\n",
    "print('p-value:', results.pvalue)\n",
    "\n",
    "if results.pvalue < alpha:\n",
    "    print(\"We reject the null hypothesis\")\n",
    "else:\n",
    "    print(\"We can't reject the null hypothesis\")"
   ]
  },
  {
   "cell_type": "markdown",
   "id": "5baaf443",
   "metadata": {},
   "source": [
    "<div class=\"font-size:25px;\">\n",
    "<b>\n",
    "H0: the user ratings means for action and sport genres are equal\n",
    "    \n",
    "H1: the user ratings means for action and sport genres differ</b></div>"
   ]
  },
  {
   "cell_type": "code",
   "execution_count": 87,
   "id": "140b406a",
   "metadata": {},
   "outputs": [
    {
     "name": "stdout",
     "output_type": "stream",
     "text": [
      "p-value: 0.11483818791498286\n",
      "We can't reject the null hypothesis\n"
     ]
    }
   ],
   "source": [
    "alpha = 0.05 #normal alpha for a regular uncompromising hypotheses check\n",
    "\n",
    "results = st.ttest_ind(score_action, score_sport, equal_var=False)\n",
    "\n",
    "print('p-value:', results.pvalue)\n",
    "\n",
    "if results.pvalue < alpha:\n",
    "    print(\"We reject the null hypothesis\")\n",
    "else:\n",
    "    print(\"We can't reject the null hypothesis\")"
   ]
  },
  {
   "cell_type": "markdown",
   "id": "87bd3b15",
   "metadata": {},
   "source": [
    "# Conclusion"
   ]
  },
  {
   "cell_type": "markdown",
   "id": "5e0297d6",
   "metadata": {},
   "source": [
    "<div style=\"font-size:20px;\"><p>The analysis purpose was to identify patterns that determine whether a game succeeds or not. So, some things turned out:</p>\n",
    "<p>Before around 1995 games were much less released</p>\n",
    "<p>Platforms have a lifecycle of around 10 years. For most, they rise linearly to popularity, and linearly fall down symmetrically, where rise and fall take about 5 years.</p>\n",
    "<p>Reviews by users and critics don't reflect the success of a game</p>\n",
    "<p>Most profitable genre is Action. Genres similar to Action are also pretty popular.</p>\n",
    "<p>Analytic genres such as Strategy, Simulation and Puzzle are the least profitable</p>\n",
    "<p>American and European platform shares are related - they share the top 4 platforms, and top 5-6 platforms. The Japanese market is different - its top 2 are the latters top 5-6. At 3rd place stands PS2, which is very succesful in America and Europe. 4th and 5th top Japanese platforms are not so popular in both America and Europe. So PS2 platform is the best ever worldwide platform. NA and europe share PS3, X360 and Wii as top platforms together with the worldwide best ever - PS2</p>\n",
    "<p>In Japan, Role-Playing is the most profitable genre by far. Action games are 2nd place there</p>\n",
    "<p>E, T and M are the popular ratings. E is without a doubt the most popular rating in all areas. Japan has tons of missed ratings - maybe all those Role-Playing Japan made games are not regulated by the rating committee\n",
    "</p>\n",
    "<p><b> 2017 Prognosis regarding top popular (i.e top total_sells) Platforms: </b></p>\n",
    "<p>PS4 - Peak at 2018. good sales until 2021. currently sell 160 MUSD a year. Expected to sell 180 MUSD in the next 2 years. <b>The best investment</b></p>\n",
    "<p>XOne - Peak at 2018. good sales until 2021. Currently sell 85 MUSD a year. Expected to sell 130 MUSD in the next 2 years.</p>\n",
    "<p>PC - At its peak. good sales for the next 2 years. Currently sell 100 MUSD a year. Expected to sell 80 MUSD in the next 2 years.</p>\n",
    "<p>PSV - peaked at 2015. good sales for the next 2 years. Currently sell 80 MUSD a year. Expected to sell 80 MUSD in the next 2 years.</p>\n",
    "<p></p>\n",
    "</div>"
   ]
  },
  {
   "cell_type": "code",
   "execution_count": null,
   "id": "0ff21889",
   "metadata": {},
   "outputs": [],
   "source": []
  }
 ],
 "metadata": {
  "ExecuteTimeLog": [
   {
    "duration": 1220,
    "start_time": "2021-12-08T19:20:57.852Z"
   },
   {
    "duration": 247,
    "start_time": "2021-12-08T19:20:59.074Z"
   },
   {
    "duration": 41,
    "start_time": "2021-12-08T19:20:59.323Z"
   },
   {
    "duration": 4,
    "start_time": "2021-12-08T19:20:59.367Z"
   },
   {
    "duration": 408,
    "start_time": "2021-12-08T19:20:59.373Z"
   },
   {
    "duration": 1349,
    "start_time": "2021-12-08T19:20:58.438Z"
   },
   {
    "duration": 1343,
    "start_time": "2021-12-08T19:20:58.445Z"
   },
   {
    "duration": 1338,
    "start_time": "2021-12-08T19:20:58.452Z"
   },
   {
    "duration": 1332,
    "start_time": "2021-12-08T19:20:58.459Z"
   },
   {
    "duration": 1325,
    "start_time": "2021-12-08T19:20:58.467Z"
   },
   {
    "duration": 1320,
    "start_time": "2021-12-08T19:20:58.474Z"
   },
   {
    "duration": 1313,
    "start_time": "2021-12-08T19:20:58.482Z"
   },
   {
    "duration": 1308,
    "start_time": "2021-12-08T19:20:58.489Z"
   },
   {
    "duration": 1302,
    "start_time": "2021-12-08T19:20:58.496Z"
   },
   {
    "duration": 1298,
    "start_time": "2021-12-08T19:20:58.502Z"
   },
   {
    "duration": 1291,
    "start_time": "2021-12-08T19:20:58.510Z"
   },
   {
    "duration": 1285,
    "start_time": "2021-12-08T19:20:58.518Z"
   },
   {
    "duration": 1279,
    "start_time": "2021-12-08T19:20:58.525Z"
   },
   {
    "duration": 1273,
    "start_time": "2021-12-08T19:20:58.532Z"
   },
   {
    "duration": 1257,
    "start_time": "2021-12-08T19:20:58.550Z"
   },
   {
    "duration": 1250,
    "start_time": "2021-12-08T19:20:58.558Z"
   },
   {
    "duration": 1244,
    "start_time": "2021-12-08T19:20:58.566Z"
   },
   {
    "duration": 1238,
    "start_time": "2021-12-08T19:20:58.573Z"
   },
   {
    "duration": 1157,
    "start_time": "2021-12-08T19:20:58.656Z"
   },
   {
    "duration": 1150,
    "start_time": "2021-12-08T19:20:58.664Z"
   },
   {
    "duration": 1143,
    "start_time": "2021-12-08T19:20:58.672Z"
   },
   {
    "duration": 1165,
    "start_time": "2021-12-08T19:20:58.679Z"
   },
   {
    "duration": 1160,
    "start_time": "2021-12-08T19:20:58.686Z"
   },
   {
    "duration": 1153,
    "start_time": "2021-12-08T19:20:58.694Z"
   },
   {
    "duration": 1148,
    "start_time": "2021-12-08T19:20:58.701Z"
   },
   {
    "duration": 1142,
    "start_time": "2021-12-08T19:20:58.708Z"
   },
   {
    "duration": 1136,
    "start_time": "2021-12-08T19:20:58.715Z"
   },
   {
    "duration": 1131,
    "start_time": "2021-12-08T19:20:58.722Z"
   },
   {
    "duration": 1125,
    "start_time": "2021-12-08T19:20:58.729Z"
   },
   {
    "duration": 1119,
    "start_time": "2021-12-08T19:20:58.736Z"
   },
   {
    "duration": 1113,
    "start_time": "2021-12-08T19:20:58.743Z"
   },
   {
    "duration": 1107,
    "start_time": "2021-12-08T19:20:58.750Z"
   },
   {
    "duration": 1090,
    "start_time": "2021-12-08T19:20:58.768Z"
   },
   {
    "duration": 1084,
    "start_time": "2021-12-08T19:20:58.775Z"
   },
   {
    "duration": 1076,
    "start_time": "2021-12-08T19:20:58.784Z"
   },
   {
    "duration": 1069,
    "start_time": "2021-12-08T19:20:58.792Z"
   },
   {
    "duration": 1063,
    "start_time": "2021-12-08T19:20:58.799Z"
   },
   {
    "duration": 1057,
    "start_time": "2021-12-08T19:20:58.806Z"
   },
   {
    "duration": 1051,
    "start_time": "2021-12-08T19:20:58.813Z"
   },
   {
    "duration": 1045,
    "start_time": "2021-12-08T19:20:58.820Z"
   },
   {
    "duration": 1039,
    "start_time": "2021-12-08T19:20:58.827Z"
   },
   {
    "duration": 1033,
    "start_time": "2021-12-08T19:20:58.834Z"
   },
   {
    "duration": 1027,
    "start_time": "2021-12-08T19:20:58.841Z"
   },
   {
    "duration": 1021,
    "start_time": "2021-12-08T19:20:58.848Z"
   },
   {
    "duration": 1015,
    "start_time": "2021-12-08T19:20:58.855Z"
   },
   {
    "duration": 1010,
    "start_time": "2021-12-08T19:20:58.861Z"
   },
   {
    "duration": 994,
    "start_time": "2021-12-08T19:20:58.878Z"
   },
   {
    "duration": 988,
    "start_time": "2021-12-08T19:20:58.885Z"
   },
   {
    "duration": 816,
    "start_time": "2021-12-08T19:20:59.058Z"
   },
   {
    "duration": 811,
    "start_time": "2021-12-08T19:20:59.065Z"
   },
   {
    "duration": 803,
    "start_time": "2021-12-08T19:20:59.073Z"
   },
   {
    "duration": 799,
    "start_time": "2021-12-08T19:20:59.079Z"
   },
   {
    "duration": 791,
    "start_time": "2021-12-08T19:20:59.087Z"
   },
   {
    "duration": 742,
    "start_time": "2021-12-08T19:20:59.137Z"
   },
   {
    "duration": 735,
    "start_time": "2021-12-08T19:20:59.145Z"
   },
   {
    "duration": 729,
    "start_time": "2021-12-08T19:20:59.152Z"
   },
   {
    "duration": 722,
    "start_time": "2021-12-08T19:20:59.160Z"
   },
   {
    "duration": 717,
    "start_time": "2021-12-08T19:20:59.166Z"
   },
   {
    "duration": 711,
    "start_time": "2021-12-08T19:20:59.173Z"
   },
   {
    "duration": 705,
    "start_time": "2021-12-08T19:20:59.180Z"
   },
   {
    "duration": 699,
    "start_time": "2021-12-08T19:20:59.187Z"
   },
   {
    "duration": 442,
    "start_time": "2021-12-08T19:20:59.444Z"
   },
   {
    "duration": 436,
    "start_time": "2021-12-08T19:20:59.451Z"
   },
   {
    "duration": 431,
    "start_time": "2021-12-08T19:20:59.457Z"
   },
   {
    "duration": 419,
    "start_time": "2021-12-08T19:20:59.472Z"
   },
   {
    "duration": 412,
    "start_time": "2021-12-08T19:20:59.480Z"
   },
   {
    "duration": 405,
    "start_time": "2021-12-08T19:20:59.488Z"
   },
   {
    "duration": 400,
    "start_time": "2021-12-08T19:20:59.494Z"
   },
   {
    "duration": 393,
    "start_time": "2021-12-08T19:20:59.502Z"
   },
   {
    "duration": 387,
    "start_time": "2021-12-08T19:20:59.509Z"
   },
   {
    "duration": 380,
    "start_time": "2021-12-08T19:20:59.517Z"
   },
   {
    "duration": 375,
    "start_time": "2021-12-08T19:20:59.523Z"
   },
   {
    "duration": 368,
    "start_time": "2021-12-08T19:20:59.531Z"
   },
   {
    "duration": 363,
    "start_time": "2021-12-08T19:20:59.537Z"
   },
   {
    "duration": 356,
    "start_time": "2021-12-08T19:20:59.545Z"
   },
   {
    "duration": 351,
    "start_time": "2021-12-08T19:20:59.551Z"
   },
   {
    "duration": 335,
    "start_time": "2021-12-08T19:20:59.568Z"
   },
   {
    "duration": 289,
    "start_time": "2021-12-08T19:20:59.615Z"
   },
   {
    "duration": 283,
    "start_time": "2021-12-08T19:20:59.622Z"
   },
   {
    "duration": 315,
    "start_time": "2021-12-08T19:20:59.629Z"
   },
   {
    "duration": 307,
    "start_time": "2021-12-08T19:20:59.638Z"
   },
   {
    "duration": 301,
    "start_time": "2021-12-08T19:20:59.645Z"
   },
   {
    "duration": 294,
    "start_time": "2021-12-08T19:20:59.653Z"
   },
   {
    "duration": 1046,
    "start_time": "2021-12-08T19:22:29.584Z"
   },
   {
    "duration": 306,
    "start_time": "2021-12-08T19:22:30.632Z"
   },
   {
    "duration": 22,
    "start_time": "2021-12-08T19:22:30.940Z"
   },
   {
    "duration": 3,
    "start_time": "2021-12-08T19:22:30.964Z"
   },
   {
    "duration": 35,
    "start_time": "2021-12-08T19:22:30.968Z"
   },
   {
    "duration": 43,
    "start_time": "2021-12-08T19:22:31.005Z"
   },
   {
    "duration": 490,
    "start_time": "2021-12-08T19:22:31.050Z"
   },
   {
    "duration": 1755,
    "start_time": "2021-12-08T19:22:29.790Z"
   },
   {
    "duration": 1748,
    "start_time": "2021-12-08T19:22:29.798Z"
   },
   {
    "duration": 1741,
    "start_time": "2021-12-08T19:22:29.806Z"
   },
   {
    "duration": 1734,
    "start_time": "2021-12-08T19:22:29.814Z"
   },
   {
    "duration": 1719,
    "start_time": "2021-12-08T19:22:29.830Z"
   },
   {
    "duration": 1711,
    "start_time": "2021-12-08T19:22:29.839Z"
   },
   {
    "duration": 1703,
    "start_time": "2021-12-08T19:22:29.848Z"
   },
   {
    "duration": 1696,
    "start_time": "2021-12-08T19:22:29.856Z"
   },
   {
    "duration": 1689,
    "start_time": "2021-12-08T19:22:29.864Z"
   },
   {
    "duration": 1683,
    "start_time": "2021-12-08T19:22:29.871Z"
   },
   {
    "duration": 1675,
    "start_time": "2021-12-08T19:22:29.880Z"
   },
   {
    "duration": 1669,
    "start_time": "2021-12-08T19:22:29.887Z"
   },
   {
    "duration": 1661,
    "start_time": "2021-12-08T19:22:29.895Z"
   },
   {
    "duration": 1656,
    "start_time": "2021-12-08T19:22:29.901Z"
   },
   {
    "duration": 1649,
    "start_time": "2021-12-08T19:22:29.909Z"
   },
   {
    "duration": 1643,
    "start_time": "2021-12-08T19:22:29.916Z"
   },
   {
    "duration": 1635,
    "start_time": "2021-12-08T19:22:29.925Z"
   },
   {
    "duration": 1619,
    "start_time": "2021-12-08T19:22:29.942Z"
   },
   {
    "duration": 1611,
    "start_time": "2021-12-08T19:22:29.950Z"
   },
   {
    "duration": 1604,
    "start_time": "2021-12-08T19:22:29.958Z"
   },
   {
    "duration": 1597,
    "start_time": "2021-12-08T19:22:29.966Z"
   },
   {
    "duration": 1591,
    "start_time": "2021-12-08T19:22:29.973Z"
   },
   {
    "duration": 1585,
    "start_time": "2021-12-08T19:22:29.980Z"
   },
   {
    "duration": 1579,
    "start_time": "2021-12-08T19:22:29.987Z"
   },
   {
    "duration": 1571,
    "start_time": "2021-12-08T19:22:29.995Z"
   },
   {
    "duration": 1566,
    "start_time": "2021-12-08T19:22:30.001Z"
   },
   {
    "duration": 1559,
    "start_time": "2021-12-08T19:22:30.009Z"
   },
   {
    "duration": 1552,
    "start_time": "2021-12-08T19:22:30.017Z"
   },
   {
    "duration": 1546,
    "start_time": "2021-12-08T19:22:30.024Z"
   },
   {
    "duration": 1539,
    "start_time": "2021-12-08T19:22:30.031Z"
   },
   {
    "duration": 1533,
    "start_time": "2021-12-08T19:22:30.038Z"
   },
   {
    "duration": 1517,
    "start_time": "2021-12-08T19:22:30.055Z"
   },
   {
    "duration": 1510,
    "start_time": "2021-12-08T19:22:30.063Z"
   },
   {
    "duration": 1505,
    "start_time": "2021-12-08T19:22:30.069Z"
   },
   {
    "duration": 1497,
    "start_time": "2021-12-08T19:22:30.078Z"
   },
   {
    "duration": 1493,
    "start_time": "2021-12-08T19:22:30.084Z"
   },
   {
    "duration": 1485,
    "start_time": "2021-12-08T19:22:30.093Z"
   },
   {
    "duration": 1480,
    "start_time": "2021-12-08T19:22:30.099Z"
   },
   {
    "duration": 1472,
    "start_time": "2021-12-08T19:22:30.108Z"
   },
   {
    "duration": 1466,
    "start_time": "2021-12-08T19:22:30.115Z"
   },
   {
    "duration": 1460,
    "start_time": "2021-12-08T19:22:30.122Z"
   },
   {
    "duration": 1454,
    "start_time": "2021-12-08T19:22:30.129Z"
   },
   {
    "duration": 1448,
    "start_time": "2021-12-08T19:22:30.136Z"
   },
   {
    "duration": 1443,
    "start_time": "2021-12-08T19:22:30.142Z"
   },
   {
    "duration": 1495,
    "start_time": "2021-12-08T19:22:30.149Z"
   },
   {
    "duration": 1479,
    "start_time": "2021-12-08T19:22:30.166Z"
   },
   {
    "duration": 1471,
    "start_time": "2021-12-08T19:22:30.175Z"
   },
   {
    "duration": 1465,
    "start_time": "2021-12-08T19:22:30.182Z"
   },
   {
    "duration": 1458,
    "start_time": "2021-12-08T19:22:30.190Z"
   },
   {
    "duration": 1452,
    "start_time": "2021-12-08T19:22:30.197Z"
   },
   {
    "duration": 1446,
    "start_time": "2021-12-08T19:22:30.204Z"
   },
   {
    "duration": 1439,
    "start_time": "2021-12-08T19:22:30.212Z"
   },
   {
    "duration": 1433,
    "start_time": "2021-12-08T19:22:30.219Z"
   },
   {
    "duration": 1426,
    "start_time": "2021-12-08T19:22:30.226Z"
   },
   {
    "duration": 1419,
    "start_time": "2021-12-08T19:22:30.234Z"
   },
   {
    "duration": 1414,
    "start_time": "2021-12-08T19:22:30.240Z"
   },
   {
    "duration": 1408,
    "start_time": "2021-12-08T19:22:30.247Z"
   },
   {
    "duration": 1402,
    "start_time": "2021-12-08T19:22:30.254Z"
   },
   {
    "duration": 1395,
    "start_time": "2021-12-08T19:22:30.262Z"
   },
   {
    "duration": 1379,
    "start_time": "2021-12-08T19:22:30.279Z"
   },
   {
    "duration": 1373,
    "start_time": "2021-12-08T19:22:30.286Z"
   },
   {
    "duration": 1367,
    "start_time": "2021-12-08T19:22:30.293Z"
   },
   {
    "duration": 1359,
    "start_time": "2021-12-08T19:22:30.301Z"
   },
   {
    "duration": 1353,
    "start_time": "2021-12-08T19:22:30.308Z"
   },
   {
    "duration": 1346,
    "start_time": "2021-12-08T19:22:30.316Z"
   },
   {
    "duration": 1340,
    "start_time": "2021-12-08T19:22:30.323Z"
   },
   {
    "duration": 1335,
    "start_time": "2021-12-08T19:22:30.330Z"
   },
   {
    "duration": 1329,
    "start_time": "2021-12-08T19:22:30.337Z"
   },
   {
    "duration": 1322,
    "start_time": "2021-12-08T19:22:30.344Z"
   },
   {
    "duration": 1318,
    "start_time": "2021-12-08T19:22:30.350Z"
   },
   {
    "duration": 1312,
    "start_time": "2021-12-08T19:22:30.357Z"
   },
   {
    "duration": 1305,
    "start_time": "2021-12-08T19:22:30.364Z"
   },
   {
    "duration": 1300,
    "start_time": "2021-12-08T19:22:30.371Z"
   },
   {
    "duration": 1284,
    "start_time": "2021-12-08T19:22:30.388Z"
   },
   {
    "duration": 1278,
    "start_time": "2021-12-08T19:22:30.395Z"
   },
   {
    "duration": 1272,
    "start_time": "2021-12-08T19:22:30.402Z"
   },
   {
    "duration": 1264,
    "start_time": "2021-12-08T19:22:30.411Z"
   },
   {
    "duration": 1259,
    "start_time": "2021-12-08T19:22:30.417Z"
   },
   {
    "duration": 1251,
    "start_time": "2021-12-08T19:22:30.425Z"
   },
   {
    "duration": 1245,
    "start_time": "2021-12-08T19:22:30.432Z"
   },
   {
    "duration": 1239,
    "start_time": "2021-12-08T19:22:30.439Z"
   },
   {
    "duration": 1467,
    "start_time": "2021-12-08T19:23:42.987Z"
   },
   {
    "duration": 292,
    "start_time": "2021-12-08T19:23:44.456Z"
   },
   {
    "duration": 22,
    "start_time": "2021-12-08T19:23:44.750Z"
   },
   {
    "duration": 3,
    "start_time": "2021-12-08T19:23:44.774Z"
   },
   {
    "duration": 23,
    "start_time": "2021-12-08T19:23:44.778Z"
   },
   {
    "duration": 35,
    "start_time": "2021-12-08T19:23:44.803Z"
   },
   {
    "duration": 7,
    "start_time": "2021-12-08T19:23:44.840Z"
   },
   {
    "duration": 23,
    "start_time": "2021-12-08T19:23:44.849Z"
   },
   {
    "duration": 20,
    "start_time": "2021-12-08T19:23:44.874Z"
   },
   {
    "duration": 20,
    "start_time": "2021-12-08T19:23:44.896Z"
   },
   {
    "duration": 28,
    "start_time": "2021-12-08T19:23:44.917Z"
   },
   {
    "duration": 24,
    "start_time": "2021-12-08T19:23:44.947Z"
   },
   {
    "duration": 17,
    "start_time": "2021-12-08T19:23:44.973Z"
   },
   {
    "duration": 27,
    "start_time": "2021-12-08T19:23:44.991Z"
   },
   {
    "duration": 20,
    "start_time": "2021-12-08T19:23:45.020Z"
   },
   {
    "duration": 30,
    "start_time": "2021-12-08T19:23:45.042Z"
   },
   {
    "duration": 32,
    "start_time": "2021-12-08T19:23:45.074Z"
   },
   {
    "duration": 20,
    "start_time": "2021-12-08T19:23:45.108Z"
   },
   {
    "duration": 27,
    "start_time": "2021-12-08T19:23:45.130Z"
   },
   {
    "duration": 23,
    "start_time": "2021-12-08T19:23:45.159Z"
   },
   {
    "duration": 18,
    "start_time": "2021-12-08T19:23:45.184Z"
   },
   {
    "duration": 25,
    "start_time": "2021-12-08T19:23:45.203Z"
   },
   {
    "duration": 24,
    "start_time": "2021-12-08T19:23:45.231Z"
   },
   {
    "duration": 19,
    "start_time": "2021-12-08T19:23:45.257Z"
   },
   {
    "duration": 12,
    "start_time": "2021-12-08T19:23:45.278Z"
   },
   {
    "duration": 27,
    "start_time": "2021-12-08T19:23:45.291Z"
   },
   {
    "duration": 15,
    "start_time": "2021-12-08T19:23:45.319Z"
   },
   {
    "duration": 18,
    "start_time": "2021-12-08T19:23:45.336Z"
   },
   {
    "duration": 12,
    "start_time": "2021-12-08T19:23:45.356Z"
   },
   {
    "duration": 27,
    "start_time": "2021-12-08T19:23:45.370Z"
   },
   {
    "duration": 68,
    "start_time": "2021-12-08T19:23:45.398Z"
   },
   {
    "duration": 11,
    "start_time": "2021-12-08T19:23:45.468Z"
   },
   {
    "duration": 21,
    "start_time": "2021-12-08T19:23:45.481Z"
   },
   {
    "duration": 28,
    "start_time": "2021-12-08T19:23:45.504Z"
   },
   {
    "duration": 395,
    "start_time": "2021-12-08T19:23:45.533Z"
   },
   {
    "duration": 78,
    "start_time": "2021-12-08T19:23:45.931Z"
   },
   {
    "duration": 4,
    "start_time": "2021-12-08T19:23:46.011Z"
   },
   {
    "duration": 35,
    "start_time": "2021-12-08T19:23:46.018Z"
   },
   {
    "duration": 28,
    "start_time": "2021-12-08T19:23:46.055Z"
   },
   {
    "duration": 20,
    "start_time": "2021-12-08T19:23:46.085Z"
   },
   {
    "duration": 9,
    "start_time": "2021-12-08T19:23:46.107Z"
   },
   {
    "duration": 16,
    "start_time": "2021-12-08T19:23:46.117Z"
   },
   {
    "duration": 35,
    "start_time": "2021-12-08T19:23:46.145Z"
   },
   {
    "duration": 75,
    "start_time": "2021-12-08T19:23:46.182Z"
   },
   {
    "duration": 432,
    "start_time": "2021-12-08T19:23:46.258Z"
   },
   {
    "duration": -82,
    "start_time": "2021-12-08T19:23:46.775Z"
   },
   {
    "duration": -89,
    "start_time": "2021-12-08T19:23:46.783Z"
   },
   {
    "duration": -94,
    "start_time": "2021-12-08T19:23:46.789Z"
   },
   {
    "duration": -102,
    "start_time": "2021-12-08T19:23:46.798Z"
   },
   {
    "duration": -107,
    "start_time": "2021-12-08T19:23:46.804Z"
   },
   {
    "duration": -114,
    "start_time": "2021-12-08T19:23:46.812Z"
   },
   {
    "duration": -123,
    "start_time": "2021-12-08T19:23:46.823Z"
   },
   {
    "duration": -129,
    "start_time": "2021-12-08T19:23:46.830Z"
   },
   {
    "duration": -134,
    "start_time": "2021-12-08T19:23:46.836Z"
   },
   {
    "duration": -141,
    "start_time": "2021-12-08T19:23:46.844Z"
   },
   {
    "duration": -148,
    "start_time": "2021-12-08T19:23:46.852Z"
   },
   {
    "duration": -155,
    "start_time": "2021-12-08T19:23:46.860Z"
   },
   {
    "duration": -171,
    "start_time": "2021-12-08T19:23:46.878Z"
   },
   {
    "duration": -178,
    "start_time": "2021-12-08T19:23:46.886Z"
   },
   {
    "duration": -184,
    "start_time": "2021-12-08T19:23:46.893Z"
   },
   {
    "duration": -191,
    "start_time": "2021-12-08T19:23:46.901Z"
   },
   {
    "duration": -198,
    "start_time": "2021-12-08T19:23:46.909Z"
   },
   {
    "duration": -206,
    "start_time": "2021-12-08T19:23:46.918Z"
   },
   {
    "duration": -213,
    "start_time": "2021-12-08T19:23:46.926Z"
   },
   {
    "duration": -222,
    "start_time": "2021-12-08T19:23:46.936Z"
   },
   {
    "duration": -228,
    "start_time": "2021-12-08T19:23:46.943Z"
   },
   {
    "duration": -235,
    "start_time": "2021-12-08T19:23:46.951Z"
   },
   {
    "duration": -241,
    "start_time": "2021-12-08T19:23:46.958Z"
   },
   {
    "duration": -248,
    "start_time": "2021-12-08T19:23:46.966Z"
   },
   {
    "duration": -253,
    "start_time": "2021-12-08T19:23:46.972Z"
   },
   {
    "duration": -270,
    "start_time": "2021-12-08T19:23:46.990Z"
   },
   {
    "duration": -276,
    "start_time": "2021-12-08T19:23:46.997Z"
   },
   {
    "duration": -282,
    "start_time": "2021-12-08T19:23:47.004Z"
   },
   {
    "duration": -290,
    "start_time": "2021-12-08T19:23:47.013Z"
   },
   {
    "duration": -333,
    "start_time": "2021-12-08T19:23:47.057Z"
   },
   {
    "duration": -339,
    "start_time": "2021-12-08T19:23:47.064Z"
   },
   {
    "duration": -345,
    "start_time": "2021-12-08T19:23:47.071Z"
   },
   {
    "duration": -351,
    "start_time": "2021-12-08T19:23:47.078Z"
   },
   {
    "duration": -340,
    "start_time": "2021-12-08T19:23:47.084Z"
   },
   {
    "duration": -355,
    "start_time": "2021-12-08T19:23:47.100Z"
   },
   {
    "duration": -363,
    "start_time": "2021-12-08T19:23:47.109Z"
   },
   {
    "duration": -369,
    "start_time": "2021-12-08T19:23:47.116Z"
   },
   {
    "duration": -376,
    "start_time": "2021-12-08T19:23:47.124Z"
   },
   {
    "duration": -382,
    "start_time": "2021-12-08T19:23:47.131Z"
   },
   {
    "duration": -388,
    "start_time": "2021-12-08T19:23:47.139Z"
   },
   {
    "duration": -394,
    "start_time": "2021-12-08T19:23:47.146Z"
   },
   {
    "duration": -400,
    "start_time": "2021-12-08T19:23:47.153Z"
   },
   {
    "duration": -405,
    "start_time": "2021-12-08T19:23:47.159Z"
   },
   {
    "duration": 73741,
    "start_time": "2021-12-08T19:26:22.384Z"
   },
   {
    "duration": -32,
    "start_time": "2021-12-08T20:32:10.664Z"
   },
   {
    "duration": -57,
    "start_time": "2021-12-08T20:32:10.690Z"
   },
   {
    "duration": -64,
    "start_time": "2021-12-08T20:32:10.698Z"
   },
   {
    "duration": -71,
    "start_time": "2021-12-08T20:32:10.706Z"
   },
   {
    "duration": -96,
    "start_time": "2021-12-08T20:32:10.732Z"
   },
   {
    "duration": -103,
    "start_time": "2021-12-08T20:32:10.740Z"
   },
   {
    "duration": -109,
    "start_time": "2021-12-08T20:32:10.747Z"
   },
   {
    "duration": -116,
    "start_time": "2021-12-08T20:32:10.755Z"
   },
   {
    "duration": -122,
    "start_time": "2021-12-08T20:32:10.762Z"
   },
   {
    "duration": -128,
    "start_time": "2021-12-08T20:32:10.769Z"
   },
   {
    "duration": -140,
    "start_time": "2021-12-08T20:32:10.783Z"
   },
   {
    "duration": -146,
    "start_time": "2021-12-08T20:32:10.790Z"
   },
   {
    "duration": -152,
    "start_time": "2021-12-08T20:32:10.797Z"
   },
   {
    "duration": -158,
    "start_time": "2021-12-08T20:32:10.804Z"
   },
   {
    "duration": -163,
    "start_time": "2021-12-08T20:32:10.810Z"
   },
   {
    "duration": -170,
    "start_time": "2021-12-08T20:32:10.818Z"
   },
   {
    "duration": -175,
    "start_time": "2021-12-08T20:32:10.824Z"
   },
   {
    "duration": -181,
    "start_time": "2021-12-08T20:32:10.831Z"
   },
   {
    "duration": -129,
    "start_time": "2021-12-08T20:32:10.838Z"
   },
   {
    "duration": -133,
    "start_time": "2021-12-08T20:32:10.845Z"
   },
   {
    "duration": -139,
    "start_time": "2021-12-08T20:32:10.852Z"
   },
   {
    "duration": -144,
    "start_time": "2021-12-08T20:32:10.859Z"
   },
   {
    "duration": -150,
    "start_time": "2021-12-08T20:32:10.866Z"
   },
   {
    "duration": -155,
    "start_time": "2021-12-08T20:32:10.873Z"
   },
   {
    "duration": -231,
    "start_time": "2021-12-08T20:32:10.950Z"
   },
   {
    "duration": -237,
    "start_time": "2021-12-08T20:32:10.957Z"
   },
   {
    "duration": -242,
    "start_time": "2021-12-08T20:32:10.963Z"
   },
   {
    "duration": -249,
    "start_time": "2021-12-08T20:32:10.971Z"
   },
   {
    "duration": -473,
    "start_time": "2021-12-08T20:32:11.197Z"
   },
   {
    "duration": -479,
    "start_time": "2021-12-08T20:32:11.204Z"
   },
   {
    "duration": -484,
    "start_time": "2021-12-08T20:32:11.210Z"
   },
   {
    "duration": -490,
    "start_time": "2021-12-08T20:32:11.217Z"
   },
   {
    "duration": -495,
    "start_time": "2021-12-08T20:32:11.223Z"
   },
   {
    "duration": -557,
    "start_time": "2021-12-08T20:32:11.287Z"
   },
   {
    "duration": -561,
    "start_time": "2021-12-08T20:32:11.293Z"
   },
   {
    "duration": -568,
    "start_time": "2021-12-08T20:32:11.301Z"
   },
   {
    "duration": -573,
    "start_time": "2021-12-08T20:32:11.307Z"
   },
   {
    "duration": -578,
    "start_time": "2021-12-08T20:32:11.314Z"
   },
   {
    "duration": -630,
    "start_time": "2021-12-08T20:32:11.367Z"
   },
   {
    "duration": -634,
    "start_time": "2021-12-08T20:32:11.373Z"
   },
   {
    "duration": -640,
    "start_time": "2021-12-08T20:32:11.380Z"
   },
   {
    "duration": -696,
    "start_time": "2021-12-08T20:32:11.437Z"
   },
   {
    "duration": -701,
    "start_time": "2021-12-08T20:32:11.444Z"
   },
   {
    "duration": -749,
    "start_time": "2021-12-08T20:32:11.493Z"
   },
   {
    "duration": -753,
    "start_time": "2021-12-08T20:32:11.499Z"
   },
   {
    "duration": -758,
    "start_time": "2021-12-08T20:32:11.505Z"
   },
   {
    "duration": -763,
    "start_time": "2021-12-08T20:32:11.511Z"
   },
   {
    "duration": -769,
    "start_time": "2021-12-08T20:32:11.518Z"
   },
   {
    "duration": -762,
    "start_time": "2021-12-08T20:32:11.569Z"
   },
   {
    "duration": -1106,
    "start_time": "2021-12-08T20:32:11.913Z"
   },
   {
    "duration": -1191,
    "start_time": "2021-12-08T20:32:11.999Z"
   },
   {
    "duration": -1197,
    "start_time": "2021-12-08T20:32:12.007Z"
   },
   {
    "duration": -1203,
    "start_time": "2021-12-08T20:32:12.013Z"
   },
   {
    "duration": -1209,
    "start_time": "2021-12-08T20:32:12.020Z"
   },
   {
    "duration": -1222,
    "start_time": "2021-12-08T20:32:12.034Z"
   },
   {
    "duration": -1225,
    "start_time": "2021-12-08T20:32:12.041Z"
   },
   {
    "duration": -1231,
    "start_time": "2021-12-08T20:32:12.048Z"
   },
   {
    "duration": -1237,
    "start_time": "2021-12-08T20:32:12.055Z"
   },
   {
    "duration": -1241,
    "start_time": "2021-12-08T20:32:12.061Z"
   },
   {
    "duration": -1247,
    "start_time": "2021-12-08T20:32:12.068Z"
   },
   {
    "duration": -1251,
    "start_time": "2021-12-08T20:32:12.074Z"
   },
   {
    "duration": -1257,
    "start_time": "2021-12-08T20:32:12.081Z"
   },
   {
    "duration": -1261,
    "start_time": "2021-12-08T20:32:12.087Z"
   },
   {
    "duration": -1266,
    "start_time": "2021-12-08T20:32:12.093Z"
   },
   {
    "duration": -1270,
    "start_time": "2021-12-08T20:32:12.099Z"
   },
   {
    "duration": -1277,
    "start_time": "2021-12-08T20:32:12.107Z"
   },
   {
    "duration": -1311,
    "start_time": "2021-12-08T20:32:12.143Z"
   },
   {
    "duration": -1317,
    "start_time": "2021-12-08T20:32:12.151Z"
   },
   {
    "duration": -1322,
    "start_time": "2021-12-08T20:32:12.157Z"
   },
   {
    "duration": -1328,
    "start_time": "2021-12-08T20:32:12.165Z"
   },
   {
    "duration": -1333,
    "start_time": "2021-12-08T20:32:12.171Z"
   },
   {
    "duration": -1339,
    "start_time": "2021-12-08T20:32:12.178Z"
   },
   {
    "duration": -1342,
    "start_time": "2021-12-08T20:32:12.183Z"
   },
   {
    "duration": -1363,
    "start_time": "2021-12-08T20:32:12.206Z"
   },
   {
    "duration": -1368,
    "start_time": "2021-12-08T20:32:12.212Z"
   },
   {
    "duration": -1372,
    "start_time": "2021-12-08T20:32:12.218Z"
   },
   {
    "duration": -1377,
    "start_time": "2021-12-08T20:32:12.224Z"
   },
   {
    "duration": -1325,
    "start_time": "2021-12-08T20:32:12.231Z"
   },
   {
    "duration": -1351,
    "start_time": "2021-12-08T20:32:12.261Z"
   },
   {
    "duration": -1358,
    "start_time": "2021-12-08T20:32:12.269Z"
   },
   {
    "duration": -1363,
    "start_time": "2021-12-08T20:32:12.275Z"
   },
   {
    "duration": -1369,
    "start_time": "2021-12-08T20:32:12.282Z"
   },
   {
    "duration": -1375,
    "start_time": "2021-12-08T20:32:12.289Z"
   },
   {
    "duration": -1380,
    "start_time": "2021-12-08T20:32:12.295Z"
   },
   {
    "duration": -1416,
    "start_time": "2021-12-08T20:32:12.332Z"
   },
   {
    "duration": -1422,
    "start_time": "2021-12-08T20:32:12.339Z"
   },
   {
    "duration": -1427,
    "start_time": "2021-12-08T20:32:12.345Z"
   },
   {
    "duration": -1433,
    "start_time": "2021-12-08T20:32:12.352Z"
   },
   {
    "duration": -1438,
    "start_time": "2021-12-08T20:32:12.358Z"
   },
   {
    "duration": 1446,
    "start_time": "2021-12-08T21:19:29.751Z"
   },
   {
    "duration": 290,
    "start_time": "2021-12-08T21:19:31.200Z"
   },
   {
    "duration": 32,
    "start_time": "2021-12-08T21:19:31.493Z"
   },
   {
    "duration": 4,
    "start_time": "2021-12-08T21:19:31.785Z"
   },
   {
    "duration": 11,
    "start_time": "2021-12-08T21:19:32.447Z"
   },
   {
    "duration": 10,
    "start_time": "2021-12-08T21:19:32.790Z"
   },
   {
    "duration": 6,
    "start_time": "2021-12-08T21:19:33.144Z"
   },
   {
    "duration": 10,
    "start_time": "2021-12-08T21:19:33.493Z"
   },
   {
    "duration": 10,
    "start_time": "2021-12-08T21:19:33.868Z"
   },
   {
    "duration": 10,
    "start_time": "2021-12-08T21:19:34.410Z"
   },
   {
    "duration": 12,
    "start_time": "2021-12-08T21:19:34.981Z"
   },
   {
    "duration": 16,
    "start_time": "2021-12-08T21:19:35.300Z"
   },
   {
    "duration": 7,
    "start_time": "2021-12-08T21:19:35.712Z"
   },
   {
    "duration": 10,
    "start_time": "2021-12-08T21:21:21.767Z"
   },
   {
    "duration": 9,
    "start_time": "2021-12-08T21:21:22.251Z"
   },
   {
    "duration": 11,
    "start_time": "2021-12-08T21:21:22.624Z"
   },
   {
    "duration": 9,
    "start_time": "2021-12-08T21:21:23.138Z"
   },
   {
    "duration": 7,
    "start_time": "2021-12-08T21:21:23.295Z"
   },
   {
    "duration": 16,
    "start_time": "2021-12-08T21:21:23.645Z"
   },
   {
    "duration": 22,
    "start_time": "2021-12-08T21:21:24.294Z"
   },
   {
    "duration": 14,
    "start_time": "2021-12-08T21:21:25.176Z"
   },
   {
    "duration": 12,
    "start_time": "2021-12-08T21:21:25.373Z"
   },
   {
    "duration": 9,
    "start_time": "2021-12-08T21:21:25.738Z"
   },
   {
    "duration": 11,
    "start_time": "2021-12-08T21:21:26.124Z"
   },
   {
    "duration": 9,
    "start_time": "2021-12-08T21:21:26.845Z"
   },
   {
    "duration": 29,
    "start_time": "2021-12-08T21:21:27.220Z"
   },
   {
    "duration": 22,
    "start_time": "2021-12-08T21:21:28.338Z"
   },
   {
    "duration": 15,
    "start_time": "2021-12-08T21:21:28.710Z"
   },
   {
    "duration": 23,
    "start_time": "2021-12-08T21:21:29.244Z"
   },
   {
    "duration": 8,
    "start_time": "2021-12-08T21:21:29.796Z"
   },
   {
    "duration": 64,
    "start_time": "2021-12-08T21:21:30.185Z"
   },
   {
    "duration": 18,
    "start_time": "2021-12-08T21:21:30.389Z"
   },
   {
    "duration": 18,
    "start_time": "2021-12-08T21:21:30.614Z"
   },
   {
    "duration": 21,
    "start_time": "2021-12-08T21:21:30.802Z"
   },
   {
    "duration": 583,
    "start_time": "2021-12-08T21:21:30.947Z"
   },
   {
    "duration": 128,
    "start_time": "2021-12-08T21:21:31.533Z"
   },
   {
    "duration": 4,
    "start_time": "2021-12-08T21:21:31.664Z"
   },
   {
    "duration": 18,
    "start_time": "2021-12-08T21:21:31.900Z"
   },
   {
    "duration": 41,
    "start_time": "2021-12-08T21:21:32.298Z"
   },
   {
    "duration": 32,
    "start_time": "2021-12-08T21:21:32.512Z"
   },
   {
    "duration": 5,
    "start_time": "2021-12-08T21:21:33.023Z"
   },
   {
    "duration": 6,
    "start_time": "2021-12-08T21:21:35.020Z"
   },
   {
    "duration": 20,
    "start_time": "2021-12-08T21:21:35.540Z"
   },
   {
    "duration": 73,
    "start_time": "2021-12-08T21:21:35.902Z"
   },
   {
    "duration": 522,
    "start_time": "2021-12-08T21:21:36.153Z"
   },
   {
    "duration": 11,
    "start_time": "2021-12-08T21:21:36.899Z"
   },
   {
    "duration": 591,
    "start_time": "2021-12-08T21:21:37.249Z"
   },
   {
    "duration": 959,
    "start_time": "2021-12-08T21:21:39.806Z"
   },
   {
    "duration": 9,
    "start_time": "2021-12-08T21:21:40.768Z"
   },
   {
    "duration": 554,
    "start_time": "2021-12-08T21:21:40.779Z"
   },
   {
    "duration": 588,
    "start_time": "2021-12-08T21:21:41.335Z"
   },
   {
    "duration": 6,
    "start_time": "2021-12-08T21:21:42.097Z"
   },
   {
    "duration": 429,
    "start_time": "2021-12-08T21:21:42.679Z"
   },
   {
    "duration": 728,
    "start_time": "2021-12-08T21:21:43.228Z"
   },
   {
    "duration": 301,
    "start_time": "2021-12-08T21:21:43.958Z"
   },
   {
    "duration": 305,
    "start_time": "2021-12-08T21:21:44.262Z"
   },
   {
    "duration": 292,
    "start_time": "2021-12-08T21:21:44.571Z"
   },
   {
    "duration": 393,
    "start_time": "2021-12-08T21:21:44.943Z"
   },
   {
    "duration": 295,
    "start_time": "2021-12-08T21:21:45.339Z"
   },
   {
    "duration": 268,
    "start_time": "2021-12-08T21:21:46.021Z"
   },
   {
    "duration": 296,
    "start_time": "2021-12-08T21:21:46.483Z"
   },
   {
    "duration": 288,
    "start_time": "2021-12-08T21:21:46.783Z"
   },
   {
    "duration": 362,
    "start_time": "2021-12-08T21:21:47.073Z"
   },
   {
    "duration": 33,
    "start_time": "2021-12-08T21:21:52.357Z"
   },
   {
    "duration": 561,
    "start_time": "2021-12-08T21:21:52.572Z"
   },
   {
    "duration": 315,
    "start_time": "2021-12-08T21:21:53.136Z"
   },
   {
    "duration": 301,
    "start_time": "2021-12-08T21:21:53.453Z"
   },
   {
    "duration": 280,
    "start_time": "2021-12-08T21:21:53.764Z"
   },
   {
    "duration": 290,
    "start_time": "2021-12-08T21:21:54.324Z"
   },
   {
    "duration": 281,
    "start_time": "2021-12-08T21:21:54.728Z"
   },
   {
    "duration": 1452,
    "start_time": "2021-12-08T21:21:55.657Z"
   },
   {
    "duration": 43,
    "start_time": "2021-12-08T21:21:57.111Z"
   },
   {
    "duration": 67,
    "start_time": "2021-12-08T21:21:57.157Z"
   },
   {
    "duration": 1673,
    "start_time": "2021-12-08T21:22:00.483Z"
   },
   {
    "duration": 14,
    "start_time": "2021-12-08T21:22:02.159Z"
   },
   {
    "duration": 625,
    "start_time": "2021-12-08T21:22:02.176Z"
   },
   {
    "duration": 741,
    "start_time": "2021-12-08T21:22:02.804Z"
   },
   {
    "duration": 721,
    "start_time": "2021-12-08T21:22:03.548Z"
   },
   {
    "duration": 733,
    "start_time": "2021-12-08T21:22:04.272Z"
   },
   {
    "duration": 618,
    "start_time": "2021-12-08T21:22:05.008Z"
   },
   {
    "duration": 597,
    "start_time": "2021-12-08T21:22:05.629Z"
   },
   {
    "duration": 613,
    "start_time": "2021-12-08T21:22:06.228Z"
   },
   {
    "duration": 537,
    "start_time": "2021-12-08T21:22:06.844Z"
   },
   {
    "duration": 551,
    "start_time": "2021-12-08T21:22:07.384Z"
   },
   {
    "duration": 644,
    "start_time": "2021-12-08T21:22:07.937Z"
   },
   {
    "duration": 23,
    "start_time": "2021-12-08T21:22:08.584Z"
   },
   {
    "duration": 6,
    "start_time": "2021-12-08T21:22:08.780Z"
   },
   {
    "duration": 7,
    "start_time": "2021-12-08T21:22:09.199Z"
   },
   {
    "duration": 13,
    "start_time": "2021-12-08T21:26:27.123Z"
   },
   {
    "duration": 1429,
    "start_time": "2021-12-09T20:59:22.553Z"
   },
   {
    "duration": 280,
    "start_time": "2021-12-09T20:59:23.985Z"
   },
   {
    "duration": 30,
    "start_time": "2021-12-09T20:59:24.268Z"
   },
   {
    "duration": 4,
    "start_time": "2021-12-09T20:59:24.301Z"
   },
   {
    "duration": 16,
    "start_time": "2021-12-09T20:59:24.307Z"
   },
   {
    "duration": 16,
    "start_time": "2021-12-09T20:59:24.325Z"
   },
   {
    "duration": 13,
    "start_time": "2021-12-09T20:59:24.343Z"
   },
   {
    "duration": 12,
    "start_time": "2021-12-09T20:59:24.360Z"
   },
   {
    "duration": 10,
    "start_time": "2021-12-09T20:59:24.375Z"
   },
   {
    "duration": 10,
    "start_time": "2021-12-09T20:59:24.388Z"
   },
   {
    "duration": 30,
    "start_time": "2021-12-09T20:59:24.400Z"
   },
   {
    "duration": 19,
    "start_time": "2021-12-09T20:59:24.432Z"
   },
   {
    "duration": 8,
    "start_time": "2021-12-09T20:59:24.453Z"
   },
   {
    "duration": 12,
    "start_time": "2021-12-09T20:59:24.463Z"
   },
   {
    "duration": 51,
    "start_time": "2021-12-09T20:59:24.477Z"
   },
   {
    "duration": 13,
    "start_time": "2021-12-09T20:59:24.531Z"
   },
   {
    "duration": 10,
    "start_time": "2021-12-09T20:59:24.546Z"
   },
   {
    "duration": 7,
    "start_time": "2021-12-09T20:59:24.559Z"
   },
   {
    "duration": 54,
    "start_time": "2021-12-09T20:59:24.569Z"
   },
   {
    "duration": 19,
    "start_time": "2021-12-09T20:59:24.625Z"
   },
   {
    "duration": 12,
    "start_time": "2021-12-09T20:59:24.646Z"
   },
   {
    "duration": 24,
    "start_time": "2021-12-09T20:59:24.661Z"
   },
   {
    "duration": 34,
    "start_time": "2021-12-09T20:59:24.691Z"
   },
   {
    "duration": 8,
    "start_time": "2021-12-09T20:59:24.729Z"
   },
   {
    "duration": 11,
    "start_time": "2021-12-09T20:59:24.740Z"
   },
   {
    "duration": 29,
    "start_time": "2021-12-09T20:59:24.753Z"
   },
   {
    "duration": 52,
    "start_time": "2021-12-09T20:59:24.784Z"
   },
   {
    "duration": 14,
    "start_time": "2021-12-09T20:59:24.839Z"
   },
   {
    "duration": 29,
    "start_time": "2021-12-09T20:59:24.856Z"
   },
   {
    "duration": 42,
    "start_time": "2021-12-09T20:59:24.888Z"
   },
   {
    "duration": 67,
    "start_time": "2021-12-09T20:59:24.933Z"
   },
   {
    "duration": 18,
    "start_time": "2021-12-09T20:59:25.023Z"
   },
   {
    "duration": 14,
    "start_time": "2021-12-09T20:59:25.043Z"
   },
   {
    "duration": 28,
    "start_time": "2021-12-09T20:59:25.060Z"
   },
   {
    "duration": 600,
    "start_time": "2021-12-09T20:59:25.091Z"
   },
   {
    "duration": 132,
    "start_time": "2021-12-09T20:59:25.693Z"
   },
   {
    "duration": 4,
    "start_time": "2021-12-09T20:59:25.828Z"
   },
   {
    "duration": 23,
    "start_time": "2021-12-09T20:59:25.835Z"
   },
   {
    "duration": 42,
    "start_time": "2021-12-09T20:59:25.860Z"
   },
   {
    "duration": 48,
    "start_time": "2021-12-09T20:59:25.904Z"
   },
   {
    "duration": 4,
    "start_time": "2021-12-09T20:59:25.954Z"
   },
   {
    "duration": 8,
    "start_time": "2021-12-09T20:59:25.961Z"
   },
   {
    "duration": 55,
    "start_time": "2021-12-09T20:59:25.971Z"
   },
   {
    "duration": 75,
    "start_time": "2021-12-09T20:59:26.028Z"
   },
   {
    "duration": 521,
    "start_time": "2021-12-09T20:59:26.105Z"
   },
   {
    "duration": -1109,
    "start_time": "2021-12-09T20:59:27.739Z"
   },
   {
    "duration": -1115,
    "start_time": "2021-12-09T20:59:27.747Z"
   },
   {
    "duration": -1121,
    "start_time": "2021-12-09T20:59:27.755Z"
   },
   {
    "duration": -1126,
    "start_time": "2021-12-09T20:59:27.762Z"
   },
   {
    "duration": -1203,
    "start_time": "2021-12-09T20:59:27.841Z"
   },
   {
    "duration": -1208,
    "start_time": "2021-12-09T20:59:27.849Z"
   },
   {
    "duration": -1213,
    "start_time": "2021-12-09T20:59:27.856Z"
   },
   {
    "duration": -1219,
    "start_time": "2021-12-09T20:59:27.864Z"
   },
   {
    "duration": -1224,
    "start_time": "2021-12-09T20:59:27.871Z"
   },
   {
    "duration": -1229,
    "start_time": "2021-12-09T20:59:27.878Z"
   },
   {
    "duration": -1234,
    "start_time": "2021-12-09T20:59:27.886Z"
   },
   {
    "duration": -1238,
    "start_time": "2021-12-09T20:59:27.893Z"
   },
   {
    "duration": -1243,
    "start_time": "2021-12-09T20:59:27.900Z"
   },
   {
    "duration": -1248,
    "start_time": "2021-12-09T20:59:27.907Z"
   },
   {
    "duration": -1253,
    "start_time": "2021-12-09T20:59:27.914Z"
   },
   {
    "duration": -1256,
    "start_time": "2021-12-09T20:59:27.920Z"
   },
   {
    "duration": -1261,
    "start_time": "2021-12-09T20:59:27.927Z"
   },
   {
    "duration": -1266,
    "start_time": "2021-12-09T20:59:27.934Z"
   },
   {
    "duration": -1233,
    "start_time": "2021-12-09T20:59:27.956Z"
   },
   {
    "duration": -1239,
    "start_time": "2021-12-09T20:59:27.964Z"
   },
   {
    "duration": -1244,
    "start_time": "2021-12-09T20:59:27.972Z"
   },
   {
    "duration": -1249,
    "start_time": "2021-12-09T20:59:27.979Z"
   },
   {
    "duration": -1255,
    "start_time": "2021-12-09T20:59:27.987Z"
   },
   {
    "duration": -1260,
    "start_time": "2021-12-09T20:59:27.994Z"
   },
   {
    "duration": -1265,
    "start_time": "2021-12-09T20:59:28.001Z"
   },
   {
    "duration": -1275,
    "start_time": "2021-12-09T20:59:28.013Z"
   },
   {
    "duration": -1337,
    "start_time": "2021-12-09T20:59:28.077Z"
   },
   {
    "duration": -1342,
    "start_time": "2021-12-09T20:59:28.085Z"
   },
   {
    "duration": -1347,
    "start_time": "2021-12-09T20:59:28.092Z"
   },
   {
    "duration": -1353,
    "start_time": "2021-12-09T20:59:28.100Z"
   },
   {
    "duration": -1359,
    "start_time": "2021-12-09T20:59:28.108Z"
   },
   {
    "duration": -1363,
    "start_time": "2021-12-09T20:59:28.114Z"
   },
   {
    "duration": -1369,
    "start_time": "2021-12-09T20:59:28.123Z"
   },
   {
    "duration": -1374,
    "start_time": "2021-12-09T20:59:28.130Z"
   },
   {
    "duration": -1380,
    "start_time": "2021-12-09T20:59:28.138Z"
   },
   {
    "duration": -1385,
    "start_time": "2021-12-09T20:59:28.146Z"
   },
   {
    "duration": -1332,
    "start_time": "2021-12-09T20:59:28.154Z"
   },
   {
    "duration": -1336,
    "start_time": "2021-12-09T20:59:28.160Z"
   },
   {
    "duration": -1342,
    "start_time": "2021-12-09T20:59:28.168Z"
   },
   {
    "duration": -1359,
    "start_time": "2021-12-09T20:59:28.188Z"
   },
   {
    "duration": -1365,
    "start_time": "2021-12-09T20:59:28.197Z"
   },
   {
    "duration": -1370,
    "start_time": "2021-12-09T20:59:28.204Z"
   },
   {
    "duration": -1376,
    "start_time": "2021-12-09T20:59:28.212Z"
   },
   {
    "duration": 8,
    "start_time": "2021-12-09T21:00:51.721Z"
   },
   {
    "duration": 9,
    "start_time": "2021-12-09T21:01:10.665Z"
   },
   {
    "duration": 8,
    "start_time": "2021-12-09T21:01:15.447Z"
   },
   {
    "duration": 7,
    "start_time": "2021-12-09T21:01:21.685Z"
   },
   {
    "duration": 10,
    "start_time": "2021-12-09T21:01:28.647Z"
   },
   {
    "duration": 7,
    "start_time": "2021-12-09T21:01:35.046Z"
   },
   {
    "duration": 8,
    "start_time": "2021-12-09T21:01:40.617Z"
   },
   {
    "duration": 13,
    "start_time": "2021-12-09T21:01:50.473Z"
   },
   {
    "duration": 17,
    "start_time": "2021-12-09T21:01:56.178Z"
   },
   {
    "duration": 405,
    "start_time": "2021-12-09T21:02:01.927Z"
   },
   {
    "duration": 4,
    "start_time": "2021-12-09T21:02:11.282Z"
   },
   {
    "duration": 309,
    "start_time": "2021-12-09T21:02:12.254Z"
   },
   {
    "duration": 31,
    "start_time": "2021-12-09T21:02:12.566Z"
   },
   {
    "duration": 5,
    "start_time": "2021-12-09T21:02:13.808Z"
   },
   {
    "duration": 7,
    "start_time": "2021-12-09T21:02:14.529Z"
   },
   {
    "duration": 10,
    "start_time": "2021-12-09T21:02:14.888Z"
   },
   {
    "duration": 7,
    "start_time": "2021-12-09T21:02:15.291Z"
   },
   {
    "duration": 9,
    "start_time": "2021-12-09T21:02:15.607Z"
   },
   {
    "duration": 7,
    "start_time": "2021-12-09T21:02:16.011Z"
   },
   {
    "duration": 10,
    "start_time": "2021-12-09T21:02:16.528Z"
   },
   {
    "duration": 10,
    "start_time": "2021-12-09T21:02:17.261Z"
   },
   {
    "duration": 12,
    "start_time": "2021-12-09T21:02:17.665Z"
   },
   {
    "duration": 7,
    "start_time": "2021-12-09T21:02:18.068Z"
   },
   {
    "duration": 11,
    "start_time": "2021-12-09T21:02:18.589Z"
   },
   {
    "duration": 9,
    "start_time": "2021-12-09T21:02:19.127Z"
   },
   {
    "duration": 12,
    "start_time": "2021-12-09T21:02:19.578Z"
   },
   {
    "duration": 10,
    "start_time": "2021-12-09T21:02:20.265Z"
   },
   {
    "duration": 8,
    "start_time": "2021-12-09T21:02:20.517Z"
   },
   {
    "duration": 14,
    "start_time": "2021-12-09T21:02:20.827Z"
   },
   {
    "duration": 23,
    "start_time": "2021-12-09T21:02:21.613Z"
   },
   {
    "duration": 13,
    "start_time": "2021-12-09T21:02:22.616Z"
   },
   {
    "duration": 13,
    "start_time": "2021-12-09T21:02:23.022Z"
   },
   {
    "duration": 10,
    "start_time": "2021-12-09T21:02:23.433Z"
   },
   {
    "duration": 10,
    "start_time": "2021-12-09T21:02:23.854Z"
   },
   {
    "duration": 9,
    "start_time": "2021-12-09T21:02:26.743Z"
   },
   {
    "duration": 31,
    "start_time": "2021-12-09T21:02:26.755Z"
   },
   {
    "duration": 23,
    "start_time": "2021-12-09T21:02:26.981Z"
   },
   {
    "duration": 14,
    "start_time": "2021-12-09T21:02:27.531Z"
   },
   {
    "duration": 21,
    "start_time": "2021-12-09T21:02:27.828Z"
   },
   {
    "duration": 8,
    "start_time": "2021-12-09T21:02:28.196Z"
   },
   {
    "duration": 65,
    "start_time": "2021-12-09T21:02:28.611Z"
   },
   {
    "duration": 18,
    "start_time": "2021-12-09T21:02:28.916Z"
   },
   {
    "duration": 17,
    "start_time": "2021-12-09T21:02:29.120Z"
   },
   {
    "duration": 19,
    "start_time": "2021-12-09T21:02:29.336Z"
   },
   {
    "duration": 575,
    "start_time": "2021-12-09T21:02:29.604Z"
   },
   {
    "duration": 130,
    "start_time": "2021-12-09T21:02:30.182Z"
   },
   {
    "duration": 10,
    "start_time": "2021-12-09T21:02:30.314Z"
   },
   {
    "duration": 18,
    "start_time": "2021-12-09T21:02:30.658Z"
   },
   {
    "duration": 39,
    "start_time": "2021-12-09T21:02:31.448Z"
   },
   {
    "duration": 32,
    "start_time": "2021-12-09T21:02:31.684Z"
   },
   {
    "duration": 5,
    "start_time": "2021-12-09T21:02:32.087Z"
   },
   {
    "duration": 5,
    "start_time": "2021-12-09T21:02:32.507Z"
   },
   {
    "duration": 24,
    "start_time": "2021-12-09T21:02:33.157Z"
   },
   {
    "duration": 71,
    "start_time": "2021-12-09T21:02:33.566Z"
   },
   {
    "duration": 19,
    "start_time": "2021-12-09T21:02:33.787Z"
   },
   {
    "duration": 370,
    "start_time": "2021-12-09T21:02:34.040Z"
   },
   {
    "duration": 13,
    "start_time": "2021-12-09T21:02:58.265Z"
   },
   {
    "duration": 8,
    "start_time": "2021-12-09T21:03:03.096Z"
   },
   {
    "duration": 28,
    "start_time": "2021-12-09T21:07:42.949Z"
   },
   {
    "duration": 456,
    "start_time": "2021-12-09T21:08:00.401Z"
   },
   {
    "duration": 33,
    "start_time": "2021-12-09T21:08:08.839Z"
   },
   {
    "duration": 8822,
    "start_time": "2021-12-09T21:09:17.082Z"
   },
   {
    "duration": 331,
    "start_time": "2021-12-10T10:53:57.457Z"
   },
   {
    "duration": 272,
    "start_time": "2021-12-10T10:54:01.366Z"
   },
   {
    "duration": 285,
    "start_time": "2021-12-10T10:54:08.132Z"
   },
   {
    "duration": 1476,
    "start_time": "2021-12-10T10:54:17.300Z"
   },
   {
    "duration": 219,
    "start_time": "2021-12-10T10:54:18.779Z"
   },
   {
    "duration": 36,
    "start_time": "2021-12-10T10:54:19.001Z"
   },
   {
    "duration": 4,
    "start_time": "2021-12-10T10:54:19.040Z"
   },
   {
    "duration": 10,
    "start_time": "2021-12-10T10:54:19.047Z"
   },
   {
    "duration": 13,
    "start_time": "2021-12-10T10:54:19.059Z"
   },
   {
    "duration": 8,
    "start_time": "2021-12-10T10:54:19.074Z"
   },
   {
    "duration": 43,
    "start_time": "2021-12-10T10:54:19.086Z"
   },
   {
    "duration": 8,
    "start_time": "2021-12-10T10:54:19.132Z"
   },
   {
    "duration": 11,
    "start_time": "2021-12-10T10:54:19.143Z"
   },
   {
    "duration": 10,
    "start_time": "2021-12-10T10:54:19.156Z"
   },
   {
    "duration": 10,
    "start_time": "2021-12-10T10:54:19.168Z"
   },
   {
    "duration": 43,
    "start_time": "2021-12-10T10:54:19.180Z"
   },
   {
    "duration": 11,
    "start_time": "2021-12-10T10:54:19.226Z"
   },
   {
    "duration": 16,
    "start_time": "2021-12-10T10:54:19.240Z"
   },
   {
    "duration": 17,
    "start_time": "2021-12-10T10:54:19.259Z"
   },
   {
    "duration": 11,
    "start_time": "2021-12-10T10:54:19.278Z"
   },
   {
    "duration": 37,
    "start_time": "2021-12-10T10:54:19.291Z"
   },
   {
    "duration": 17,
    "start_time": "2021-12-10T10:54:19.331Z"
   },
   {
    "duration": 19,
    "start_time": "2021-12-10T10:54:19.350Z"
   },
   {
    "duration": 12,
    "start_time": "2021-12-10T10:54:19.371Z"
   },
   {
    "duration": 48,
    "start_time": "2021-12-10T10:54:19.386Z"
   },
   {
    "duration": 10,
    "start_time": "2021-12-10T10:54:19.443Z"
   },
   {
    "duration": 10,
    "start_time": "2021-12-10T10:54:19.458Z"
   },
   {
    "duration": 52,
    "start_time": "2021-12-10T10:54:19.472Z"
   },
   {
    "duration": 33,
    "start_time": "2021-12-10T10:54:19.527Z"
   },
   {
    "duration": 24,
    "start_time": "2021-12-10T10:54:19.562Z"
   },
   {
    "duration": 13,
    "start_time": "2021-12-10T10:54:19.624Z"
   },
   {
    "duration": 23,
    "start_time": "2021-12-10T10:54:19.640Z"
   },
   {
    "duration": 7,
    "start_time": "2021-12-10T10:54:19.666Z"
   },
   {
    "duration": 101,
    "start_time": "2021-12-10T10:54:19.675Z"
   },
   {
    "duration": 17,
    "start_time": "2021-12-10T10:54:19.779Z"
   },
   {
    "duration": 33,
    "start_time": "2021-12-10T10:54:19.798Z"
   },
   {
    "duration": 18,
    "start_time": "2021-12-10T10:54:19.833Z"
   },
   {
    "duration": 621,
    "start_time": "2021-12-10T10:54:19.854Z"
   },
   {
    "duration": 130,
    "start_time": "2021-12-10T10:54:20.477Z"
   },
   {
    "duration": 15,
    "start_time": "2021-12-10T10:54:20.609Z"
   },
   {
    "duration": 22,
    "start_time": "2021-12-10T10:54:20.626Z"
   },
   {
    "duration": 81,
    "start_time": "2021-12-10T10:54:20.651Z"
   },
   {
    "duration": 33,
    "start_time": "2021-12-10T10:54:20.736Z"
   },
   {
    "duration": 5,
    "start_time": "2021-12-10T10:54:20.771Z"
   },
   {
    "duration": 8,
    "start_time": "2021-12-10T10:54:20.778Z"
   },
   {
    "duration": 19,
    "start_time": "2021-12-10T10:54:20.823Z"
   },
   {
    "duration": 97,
    "start_time": "2021-12-10T10:54:20.845Z"
   },
   {
    "duration": 17,
    "start_time": "2021-12-10T10:54:20.945Z"
   },
   {
    "duration": 414,
    "start_time": "2021-12-10T10:54:20.965Z"
   },
   {
    "duration": 30,
    "start_time": "2021-12-10T10:54:21.354Z"
   },
   {
    "duration": 24,
    "start_time": "2021-12-10T10:54:21.362Z"
   },
   {
    "duration": 18,
    "start_time": "2021-12-10T10:54:21.369Z"
   },
   {
    "duration": 4,
    "start_time": "2021-12-10T10:54:21.385Z"
   },
   {
    "duration": -3,
    "start_time": "2021-12-10T10:54:21.393Z"
   },
   {
    "duration": -8,
    "start_time": "2021-12-10T10:54:21.400Z"
   },
   {
    "duration": -14,
    "start_time": "2021-12-10T10:54:21.408Z"
   },
   {
    "duration": -19,
    "start_time": "2021-12-10T10:54:21.414Z"
   },
   {
    "duration": -26,
    "start_time": "2021-12-10T10:54:21.422Z"
   },
   {
    "duration": -32,
    "start_time": "2021-12-10T10:54:21.429Z"
   },
   {
    "duration": -37,
    "start_time": "2021-12-10T10:54:21.436Z"
   },
   {
    "duration": -43,
    "start_time": "2021-12-10T10:54:21.443Z"
   },
   {
    "duration": -49,
    "start_time": "2021-12-10T10:54:21.450Z"
   },
   {
    "duration": -54,
    "start_time": "2021-12-10T10:54:21.457Z"
   },
   {
    "duration": -61,
    "start_time": "2021-12-10T10:54:21.465Z"
   },
   {
    "duration": -66,
    "start_time": "2021-12-10T10:54:21.472Z"
   },
   {
    "duration": -73,
    "start_time": "2021-12-10T10:54:21.480Z"
   },
   {
    "duration": -88,
    "start_time": "2021-12-10T10:54:21.497Z"
   },
   {
    "duration": -95,
    "start_time": "2021-12-10T10:54:21.505Z"
   },
   {
    "duration": -100,
    "start_time": "2021-12-10T10:54:21.512Z"
   },
   {
    "duration": -108,
    "start_time": "2021-12-10T10:54:21.521Z"
   },
   {
    "duration": -113,
    "start_time": "2021-12-10T10:54:21.527Z"
   },
   {
    "duration": -112,
    "start_time": "2021-12-10T10:54:21.535Z"
   },
   {
    "duration": -117,
    "start_time": "2021-12-10T10:54:21.542Z"
   },
   {
    "duration": -123,
    "start_time": "2021-12-10T10:54:21.551Z"
   },
   {
    "duration": -129,
    "start_time": "2021-12-10T10:54:21.559Z"
   },
   {
    "duration": -136,
    "start_time": "2021-12-10T10:54:21.568Z"
   },
   {
    "duration": -146,
    "start_time": "2021-12-10T10:54:21.580Z"
   },
   {
    "duration": -220,
    "start_time": "2021-12-10T10:54:21.657Z"
   },
   {
    "duration": -226,
    "start_time": "2021-12-10T10:54:21.665Z"
   },
   {
    "duration": -232,
    "start_time": "2021-12-10T10:54:21.673Z"
   },
   {
    "duration": -237,
    "start_time": "2021-12-10T10:54:21.681Z"
   },
   {
    "duration": -243,
    "start_time": "2021-12-10T10:54:21.689Z"
   },
   {
    "duration": -248,
    "start_time": "2021-12-10T10:54:21.696Z"
   },
   {
    "duration": -253,
    "start_time": "2021-12-10T10:54:21.704Z"
   },
   {
    "duration": -258,
    "start_time": "2021-12-10T10:54:21.711Z"
   },
   {
    "duration": -264,
    "start_time": "2021-12-10T10:54:21.719Z"
   },
   {
    "duration": -278,
    "start_time": "2021-12-10T10:54:21.735Z"
   },
   {
    "duration": -283,
    "start_time": "2021-12-10T10:54:21.743Z"
   },
   {
    "duration": -288,
    "start_time": "2021-12-10T10:54:21.750Z"
   },
   {
    "duration": -295,
    "start_time": "2021-12-10T10:54:21.758Z"
   },
   {
    "duration": -241,
    "start_time": "2021-12-10T10:54:21.764Z"
   },
   {
    "duration": -248,
    "start_time": "2021-12-10T10:54:21.773Z"
   },
   {
    "duration": 356,
    "start_time": "2021-12-10T10:56:24.531Z"
   },
   {
    "duration": 101,
    "start_time": "2022-02-13T02:51:33.119Z"
   },
   {
    "duration": 1500,
    "start_time": "2022-02-13T02:51:41.111Z"
   },
   {
    "duration": 227,
    "start_time": "2022-02-13T02:51:42.614Z"
   },
   {
    "duration": 34,
    "start_time": "2022-02-13T02:51:42.844Z"
   },
   {
    "duration": 4,
    "start_time": "2022-02-13T02:51:42.881Z"
   },
   {
    "duration": 10,
    "start_time": "2022-02-13T02:51:42.887Z"
   },
   {
    "duration": 13,
    "start_time": "2022-02-13T02:51:42.900Z"
   },
   {
    "duration": 33,
    "start_time": "2022-02-13T02:51:42.915Z"
   },
   {
    "duration": 12,
    "start_time": "2022-02-13T02:51:42.952Z"
   },
   {
    "duration": 7,
    "start_time": "2022-02-13T02:51:42.968Z"
   },
   {
    "duration": 11,
    "start_time": "2022-02-13T02:51:42.977Z"
   },
   {
    "duration": 8,
    "start_time": "2022-02-13T02:51:42.991Z"
   },
   {
    "duration": 51,
    "start_time": "2022-02-13T02:51:43.001Z"
   },
   {
    "duration": 7,
    "start_time": "2022-02-13T02:51:43.054Z"
   },
   {
    "duration": 12,
    "start_time": "2022-02-13T02:51:43.063Z"
   },
   {
    "duration": 10,
    "start_time": "2022-02-13T02:51:43.078Z"
   },
   {
    "duration": 12,
    "start_time": "2022-02-13T02:51:43.091Z"
   },
   {
    "duration": 53,
    "start_time": "2022-02-13T02:51:43.106Z"
   },
   {
    "duration": 10,
    "start_time": "2022-02-13T02:51:43.162Z"
   },
   {
    "duration": 16,
    "start_time": "2022-02-13T02:51:43.175Z"
   },
   {
    "duration": 58,
    "start_time": "2022-02-13T02:51:43.194Z"
   },
   {
    "duration": 96,
    "start_time": "2022-02-13T02:51:43.255Z"
   },
   {
    "duration": -487,
    "start_time": "2022-02-13T02:51:43.844Z"
   },
   {
    "duration": -492,
    "start_time": "2022-02-13T02:51:43.850Z"
   },
   {
    "duration": -497,
    "start_time": "2022-02-13T02:51:43.856Z"
   },
   {
    "duration": -499,
    "start_time": "2022-02-13T02:51:43.860Z"
   },
   {
    "duration": -505,
    "start_time": "2022-02-13T02:51:43.867Z"
   },
   {
    "duration": -509,
    "start_time": "2022-02-13T02:51:43.872Z"
   },
   {
    "duration": -513,
    "start_time": "2022-02-13T02:51:43.878Z"
   },
   {
    "duration": -517,
    "start_time": "2022-02-13T02:51:43.883Z"
   },
   {
    "duration": -520,
    "start_time": "2022-02-13T02:51:43.888Z"
   },
   {
    "duration": -523,
    "start_time": "2022-02-13T02:51:43.893Z"
   },
   {
    "duration": -528,
    "start_time": "2022-02-13T02:51:43.899Z"
   },
   {
    "duration": -532,
    "start_time": "2022-02-13T02:51:43.904Z"
   },
   {
    "duration": -536,
    "start_time": "2022-02-13T02:51:43.910Z"
   },
   {
    "duration": -539,
    "start_time": "2022-02-13T02:51:43.915Z"
   },
   {
    "duration": -543,
    "start_time": "2022-02-13T02:51:43.920Z"
   },
   {
    "duration": -546,
    "start_time": "2022-02-13T02:51:43.925Z"
   },
   {
    "duration": -552,
    "start_time": "2022-02-13T02:51:43.932Z"
   },
   {
    "duration": -558,
    "start_time": "2022-02-13T02:51:43.939Z"
   },
   {
    "duration": -576,
    "start_time": "2022-02-13T02:51:43.959Z"
   },
   {
    "duration": -581,
    "start_time": "2022-02-13T02:51:43.965Z"
   },
   {
    "duration": -586,
    "start_time": "2022-02-13T02:51:43.972Z"
   },
   {
    "duration": -591,
    "start_time": "2022-02-13T02:51:43.978Z"
   },
   {
    "duration": -596,
    "start_time": "2022-02-13T02:51:43.984Z"
   },
   {
    "duration": -599,
    "start_time": "2022-02-13T02:51:43.989Z"
   },
   {
    "duration": -604,
    "start_time": "2022-02-13T02:51:43.995Z"
   },
   {
    "duration": -608,
    "start_time": "2022-02-13T02:51:44.001Z"
   },
   {
    "duration": -613,
    "start_time": "2022-02-13T02:51:44.007Z"
   },
   {
    "duration": -619,
    "start_time": "2022-02-13T02:51:44.014Z"
   },
   {
    "duration": -571,
    "start_time": "2022-02-13T02:51:44.020Z"
   },
   {
    "duration": -574,
    "start_time": "2022-02-13T02:51:44.025Z"
   },
   {
    "duration": -579,
    "start_time": "2022-02-13T02:51:44.031Z"
   },
   {
    "duration": -583,
    "start_time": "2022-02-13T02:51:44.037Z"
   },
   {
    "duration": -587,
    "start_time": "2022-02-13T02:51:44.043Z"
   },
   {
    "duration": -591,
    "start_time": "2022-02-13T02:51:44.048Z"
   },
   {
    "duration": -595,
    "start_time": "2022-02-13T02:51:44.054Z"
   },
   {
    "duration": -612,
    "start_time": "2022-02-13T02:51:44.072Z"
   },
   {
    "duration": -617,
    "start_time": "2022-02-13T02:51:44.079Z"
   },
   {
    "duration": -621,
    "start_time": "2022-02-13T02:51:44.084Z"
   },
   {
    "duration": -625,
    "start_time": "2022-02-13T02:51:44.090Z"
   },
   {
    "duration": -632,
    "start_time": "2022-02-13T02:51:44.099Z"
   },
   {
    "duration": -637,
    "start_time": "2022-02-13T02:51:44.105Z"
   },
   {
    "duration": -642,
    "start_time": "2022-02-13T02:51:44.111Z"
   },
   {
    "duration": -646,
    "start_time": "2022-02-13T02:51:44.117Z"
   },
   {
    "duration": -650,
    "start_time": "2022-02-13T02:51:44.122Z"
   },
   {
    "duration": -654,
    "start_time": "2022-02-13T02:51:44.128Z"
   },
   {
    "duration": -659,
    "start_time": "2022-02-13T02:51:44.134Z"
   },
   {
    "duration": -662,
    "start_time": "2022-02-13T02:51:44.139Z"
   },
   {
    "duration": -665,
    "start_time": "2022-02-13T02:51:44.144Z"
   },
   {
    "duration": -670,
    "start_time": "2022-02-13T02:51:44.150Z"
   },
   {
    "duration": -673,
    "start_time": "2022-02-13T02:51:44.155Z"
   },
   {
    "duration": -677,
    "start_time": "2022-02-13T02:51:44.160Z"
   },
   {
    "duration": -681,
    "start_time": "2022-02-13T02:51:44.166Z"
   },
   {
    "duration": -698,
    "start_time": "2022-02-13T02:51:44.184Z"
   },
   {
    "duration": -702,
    "start_time": "2022-02-13T02:51:44.189Z"
   },
   {
    "duration": -647,
    "start_time": "2022-02-13T02:51:44.195Z"
   },
   {
    "duration": -651,
    "start_time": "2022-02-13T02:51:44.201Z"
   },
   {
    "duration": -655,
    "start_time": "2022-02-13T02:51:44.207Z"
   },
   {
    "duration": -659,
    "start_time": "2022-02-13T02:51:44.212Z"
   },
   {
    "duration": -664,
    "start_time": "2022-02-13T02:51:44.219Z"
   },
   {
    "duration": -669,
    "start_time": "2022-02-13T02:51:44.225Z"
   },
   {
    "duration": -673,
    "start_time": "2022-02-13T02:51:44.231Z"
   },
   {
    "duration": -678,
    "start_time": "2022-02-13T02:51:44.237Z"
   },
   {
    "duration": -682,
    "start_time": "2022-02-13T02:51:44.243Z"
   },
   {
    "duration": -686,
    "start_time": "2022-02-13T02:51:44.248Z"
   },
   {
    "duration": -690,
    "start_time": "2022-02-13T02:51:44.254Z"
   },
   {
    "duration": -693,
    "start_time": "2022-02-13T02:51:44.259Z"
   },
   {
    "duration": -699,
    "start_time": "2022-02-13T02:51:44.266Z"
   },
   {
    "duration": -702,
    "start_time": "2022-02-13T02:51:44.271Z"
   },
   {
    "duration": -707,
    "start_time": "2022-02-13T02:51:44.277Z"
   },
   {
    "duration": 415,
    "start_time": "2022-02-13T02:52:29.068Z"
   },
   {
    "duration": 288,
    "start_time": "2022-02-13T02:52:43.675Z"
   },
   {
    "duration": 29,
    "start_time": "2022-02-13T02:53:03.392Z"
   }
  ],
  "kernelspec": {
   "display_name": "Python 3",
   "language": "python",
   "name": "python3"
  },
  "language_info": {
   "codemirror_mode": {
    "name": "ipython",
    "version": 3
   },
   "file_extension": ".py",
   "mimetype": "text/x-python",
   "name": "python",
   "nbconvert_exporter": "python",
   "pygments_lexer": "ipython3",
   "version": "3.8.8"
  },
  "toc": {
   "base_numbering": 1,
   "nav_menu": {},
   "number_sections": true,
   "sideBar": true,
   "skip_h1_title": true,
   "title_cell": "Table of Contents",
   "title_sidebar": "Contents",
   "toc_cell": false,
   "toc_position": {},
   "toc_section_display": true,
   "toc_window_display": false
  }
 },
 "nbformat": 4,
 "nbformat_minor": 5
}
